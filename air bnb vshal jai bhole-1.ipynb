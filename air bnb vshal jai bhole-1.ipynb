{
 "cells": [
  {
   "cell_type": "code",
   "execution_count": 306,
   "id": "6c309288",
   "metadata": {},
   "outputs": [],
   "source": [
    "import pandas as pd"
   ]
  },
  {
   "cell_type": "code",
   "execution_count": 307,
   "id": "8d60d8f2",
   "metadata": {},
   "outputs": [],
   "source": [
    "import numpy as np"
   ]
  },
  {
   "cell_type": "code",
   "execution_count": 308,
   "id": "6d7db373",
   "metadata": {},
   "outputs": [],
   "source": [
    "\n",
    "import matplotlib.pyplot as plt"
   ]
  },
  {
   "cell_type": "code",
   "execution_count": 309,
   "id": "12c19803",
   "metadata": {},
   "outputs": [],
   "source": [
    "import seaborn as sns"
   ]
  },
  {
   "cell_type": "code",
   "execution_count": 310,
   "id": "3c9b892f",
   "metadata": {},
   "outputs": [],
   "source": [
    "from sklearn.preprocessing import StandardScaler"
   ]
  },
  {
   "cell_type": "code",
   "execution_count": 311,
   "id": "f473abe2",
   "metadata": {},
   "outputs": [],
   "source": [
    "airbnb_df=pd.read_csv('C:\\\\Users\\\\Vishal\\\\Downloads\\\\listings.csv')"
   ]
  },
  {
   "cell_type": "code",
   "execution_count": 312,
   "id": "c2f3ad1e",
   "metadata": {},
   "outputs": [
    {
     "data": {
      "text/html": [
       "<div>\n",
       "<style scoped>\n",
       "    .dataframe tbody tr th:only-of-type {\n",
       "        vertical-align: middle;\n",
       "    }\n",
       "\n",
       "    .dataframe tbody tr th {\n",
       "        vertical-align: top;\n",
       "    }\n",
       "\n",
       "    .dataframe thead th {\n",
       "        text-align: right;\n",
       "    }\n",
       "</style>\n",
       "<table border=\"1\" class=\"dataframe\">\n",
       "  <thead>\n",
       "    <tr style=\"text-align: right;\">\n",
       "      <th></th>\n",
       "      <th>id</th>\n",
       "      <th>name</th>\n",
       "      <th>host_id</th>\n",
       "      <th>host_name</th>\n",
       "      <th>neighbourhood_group</th>\n",
       "      <th>neighbourhood</th>\n",
       "      <th>latitude</th>\n",
       "      <th>longitude</th>\n",
       "      <th>room_type</th>\n",
       "      <th>price</th>\n",
       "      <th>minimum_nights</th>\n",
       "      <th>number_of_reviews</th>\n",
       "      <th>last_review</th>\n",
       "      <th>reviews_per_month</th>\n",
       "      <th>calculated_host_listings_count</th>\n",
       "      <th>availability_365</th>\n",
       "    </tr>\n",
       "  </thead>\n",
       "  <tbody>\n",
       "    <tr>\n",
       "      <th>0</th>\n",
       "      <td>6369</td>\n",
       "      <td>Rooftop terrace room ,  ensuite bathroom</td>\n",
       "      <td>13660</td>\n",
       "      <td>Simon</td>\n",
       "      <td>Chamartín</td>\n",
       "      <td>Hispanoamérica</td>\n",
       "      <td>40.45724</td>\n",
       "      <td>-3.67688</td>\n",
       "      <td>Private room</td>\n",
       "      <td>60</td>\n",
       "      <td>1</td>\n",
       "      <td>78</td>\n",
       "      <td>2020-09-20</td>\n",
       "      <td>0.58</td>\n",
       "      <td>1</td>\n",
       "      <td>180</td>\n",
       "    </tr>\n",
       "    <tr>\n",
       "      <th>1</th>\n",
       "      <td>21853</td>\n",
       "      <td>Bright and airy room</td>\n",
       "      <td>83531</td>\n",
       "      <td>Abdel</td>\n",
       "      <td>Latina</td>\n",
       "      <td>Cármenes</td>\n",
       "      <td>40.40381</td>\n",
       "      <td>-3.74130</td>\n",
       "      <td>Private room</td>\n",
       "      <td>31</td>\n",
       "      <td>4</td>\n",
       "      <td>33</td>\n",
       "      <td>2018-07-15</td>\n",
       "      <td>0.42</td>\n",
       "      <td>2</td>\n",
       "      <td>364</td>\n",
       "    </tr>\n",
       "    <tr>\n",
       "      <th>2</th>\n",
       "      <td>23001</td>\n",
       "      <td>Apartmento Arganzuela- Madrid Rio</td>\n",
       "      <td>82175</td>\n",
       "      <td>Jesus</td>\n",
       "      <td>Arganzuela</td>\n",
       "      <td>Legazpi</td>\n",
       "      <td>40.38840</td>\n",
       "      <td>-3.69511</td>\n",
       "      <td>Entire home/apt</td>\n",
       "      <td>50</td>\n",
       "      <td>15</td>\n",
       "      <td>0</td>\n",
       "      <td>NaN</td>\n",
       "      <td>NaN</td>\n",
       "      <td>7</td>\n",
       "      <td>1</td>\n",
       "    </tr>\n",
       "    <tr>\n",
       "      <th>3</th>\n",
       "      <td>24805</td>\n",
       "      <td>Gran Via Studio Madrid</td>\n",
       "      <td>346366726</td>\n",
       "      <td>A</td>\n",
       "      <td>Centro</td>\n",
       "      <td>Universidad</td>\n",
       "      <td>40.42183</td>\n",
       "      <td>-3.70529</td>\n",
       "      <td>Entire home/apt</td>\n",
       "      <td>92</td>\n",
       "      <td>5</td>\n",
       "      <td>10</td>\n",
       "      <td>2020-03-01</td>\n",
       "      <td>0.13</td>\n",
       "      <td>1</td>\n",
       "      <td>72</td>\n",
       "    </tr>\n",
       "    <tr>\n",
       "      <th>4</th>\n",
       "      <td>26825</td>\n",
       "      <td>Single Room whith private Bathroom</td>\n",
       "      <td>114340</td>\n",
       "      <td>Agustina</td>\n",
       "      <td>Arganzuela</td>\n",
       "      <td>Legazpi</td>\n",
       "      <td>40.38975</td>\n",
       "      <td>-3.69018</td>\n",
       "      <td>Private room</td>\n",
       "      <td>26</td>\n",
       "      <td>2</td>\n",
       "      <td>149</td>\n",
       "      <td>2020-03-12</td>\n",
       "      <td>1.12</td>\n",
       "      <td>1</td>\n",
       "      <td>365</td>\n",
       "    </tr>\n",
       "    <tr>\n",
       "      <th>...</th>\n",
       "      <td>...</td>\n",
       "      <td>...</td>\n",
       "      <td>...</td>\n",
       "      <td>...</td>\n",
       "      <td>...</td>\n",
       "      <td>...</td>\n",
       "      <td>...</td>\n",
       "      <td>...</td>\n",
       "      <td>...</td>\n",
       "      <td>...</td>\n",
       "      <td>...</td>\n",
       "      <td>...</td>\n",
       "      <td>...</td>\n",
       "      <td>...</td>\n",
       "      <td>...</td>\n",
       "      <td>...</td>\n",
       "    </tr>\n",
       "    <tr>\n",
       "      <th>19613</th>\n",
       "      <td>49185822</td>\n",
       "      <td>Habitación con TV con Netflix en Lavapiés</td>\n",
       "      <td>172011610</td>\n",
       "      <td>Belaid</td>\n",
       "      <td>Centro</td>\n",
       "      <td>Embajadores</td>\n",
       "      <td>40.40756</td>\n",
       "      <td>-3.69937</td>\n",
       "      <td>Private room</td>\n",
       "      <td>23</td>\n",
       "      <td>30</td>\n",
       "      <td>0</td>\n",
       "      <td>NaN</td>\n",
       "      <td>NaN</td>\n",
       "      <td>8</td>\n",
       "      <td>349</td>\n",
       "    </tr>\n",
       "    <tr>\n",
       "      <th>19614</th>\n",
       "      <td>49186179</td>\n",
       "      <td>Habitación con TV con Netflix en Gaztambide</td>\n",
       "      <td>172011610</td>\n",
       "      <td>Belaid</td>\n",
       "      <td>Chamberí</td>\n",
       "      <td>Gaztambide</td>\n",
       "      <td>40.43706</td>\n",
       "      <td>-3.71364</td>\n",
       "      <td>Private room</td>\n",
       "      <td>21</td>\n",
       "      <td>30</td>\n",
       "      <td>0</td>\n",
       "      <td>NaN</td>\n",
       "      <td>NaN</td>\n",
       "      <td>8</td>\n",
       "      <td>350</td>\n",
       "    </tr>\n",
       "    <tr>\n",
       "      <th>19615</th>\n",
       "      <td>49187258</td>\n",
       "      <td>Habitación con TV con Netflix en Chamberí</td>\n",
       "      <td>172011610</td>\n",
       "      <td>Belaid</td>\n",
       "      <td>Chamberí</td>\n",
       "      <td>Arapiles</td>\n",
       "      <td>40.43857</td>\n",
       "      <td>-3.70715</td>\n",
       "      <td>Private room</td>\n",
       "      <td>22</td>\n",
       "      <td>7</td>\n",
       "      <td>0</td>\n",
       "      <td>NaN</td>\n",
       "      <td>NaN</td>\n",
       "      <td>8</td>\n",
       "      <td>364</td>\n",
       "    </tr>\n",
       "    <tr>\n",
       "      <th>19616</th>\n",
       "      <td>49187471</td>\n",
       "      <td>Habitación con TV con Netflix en Goya</td>\n",
       "      <td>172011610</td>\n",
       "      <td>Belaid</td>\n",
       "      <td>Salamanca</td>\n",
       "      <td>Guindalera</td>\n",
       "      <td>40.43027</td>\n",
       "      <td>-3.66759</td>\n",
       "      <td>Private room</td>\n",
       "      <td>19</td>\n",
       "      <td>30</td>\n",
       "      <td>0</td>\n",
       "      <td>NaN</td>\n",
       "      <td>NaN</td>\n",
       "      <td>8</td>\n",
       "      <td>349</td>\n",
       "    </tr>\n",
       "    <tr>\n",
       "      <th>19617</th>\n",
       "      <td>49187791</td>\n",
       "      <td>Habitación con TV con Netflix en Chamberí</td>\n",
       "      <td>172011610</td>\n",
       "      <td>Belaid</td>\n",
       "      <td>Chamberí</td>\n",
       "      <td>Arapiles</td>\n",
       "      <td>40.43484</td>\n",
       "      <td>-3.70667</td>\n",
       "      <td>Private room</td>\n",
       "      <td>20</td>\n",
       "      <td>30</td>\n",
       "      <td>0</td>\n",
       "      <td>NaN</td>\n",
       "      <td>NaN</td>\n",
       "      <td>8</td>\n",
       "      <td>349</td>\n",
       "    </tr>\n",
       "  </tbody>\n",
       "</table>\n",
       "<p>19618 rows × 16 columns</p>\n",
       "</div>"
      ],
      "text/plain": [
       "             id                                         name    host_id  \\\n",
       "0          6369     Rooftop terrace room ,  ensuite bathroom      13660   \n",
       "1         21853                         Bright and airy room      83531   \n",
       "2         23001            Apartmento Arganzuela- Madrid Rio      82175   \n",
       "3         24805                       Gran Via Studio Madrid  346366726   \n",
       "4         26825           Single Room whith private Bathroom     114340   \n",
       "...         ...                                          ...        ...   \n",
       "19613  49185822    Habitación con TV con Netflix en Lavapiés  172011610   \n",
       "19614  49186179  Habitación con TV con Netflix en Gaztambide  172011610   \n",
       "19615  49187258    Habitación con TV con Netflix en Chamberí  172011610   \n",
       "19616  49187471        Habitación con TV con Netflix en Goya  172011610   \n",
       "19617  49187791    Habitación con TV con Netflix en Chamberí  172011610   \n",
       "\n",
       "      host_name neighbourhood_group   neighbourhood  latitude  longitude  \\\n",
       "0         Simon           Chamartín  Hispanoamérica  40.45724   -3.67688   \n",
       "1         Abdel              Latina        Cármenes  40.40381   -3.74130   \n",
       "2         Jesus          Arganzuela         Legazpi  40.38840   -3.69511   \n",
       "3             A              Centro     Universidad  40.42183   -3.70529   \n",
       "4      Agustina          Arganzuela         Legazpi  40.38975   -3.69018   \n",
       "...         ...                 ...             ...       ...        ...   \n",
       "19613    Belaid              Centro     Embajadores  40.40756   -3.69937   \n",
       "19614    Belaid            Chamberí      Gaztambide  40.43706   -3.71364   \n",
       "19615    Belaid            Chamberí        Arapiles  40.43857   -3.70715   \n",
       "19616    Belaid           Salamanca      Guindalera  40.43027   -3.66759   \n",
       "19617    Belaid            Chamberí        Arapiles  40.43484   -3.70667   \n",
       "\n",
       "             room_type  price  minimum_nights  number_of_reviews last_review  \\\n",
       "0         Private room     60               1                 78  2020-09-20   \n",
       "1         Private room     31               4                 33  2018-07-15   \n",
       "2      Entire home/apt     50              15                  0         NaN   \n",
       "3      Entire home/apt     92               5                 10  2020-03-01   \n",
       "4         Private room     26               2                149  2020-03-12   \n",
       "...                ...    ...             ...                ...         ...   \n",
       "19613     Private room     23              30                  0         NaN   \n",
       "19614     Private room     21              30                  0         NaN   \n",
       "19615     Private room     22               7                  0         NaN   \n",
       "19616     Private room     19              30                  0         NaN   \n",
       "19617     Private room     20              30                  0         NaN   \n",
       "\n",
       "       reviews_per_month  calculated_host_listings_count  availability_365  \n",
       "0                   0.58                               1               180  \n",
       "1                   0.42                               2               364  \n",
       "2                    NaN                               7                 1  \n",
       "3                   0.13                               1                72  \n",
       "4                   1.12                               1               365  \n",
       "...                  ...                             ...               ...  \n",
       "19613                NaN                               8               349  \n",
       "19614                NaN                               8               350  \n",
       "19615                NaN                               8               364  \n",
       "19616                NaN                               8               349  \n",
       "19617                NaN                               8               349  \n",
       "\n",
       "[19618 rows x 16 columns]"
      ]
     },
     "execution_count": 312,
     "metadata": {},
     "output_type": "execute_result"
    }
   ],
   "source": [
    "airbnb_df"
   ]
  },
  {
   "cell_type": "code",
   "execution_count": 313,
   "id": "d30c07f3",
   "metadata": {},
   "outputs": [
    {
     "data": {
      "text/html": [
       "<div>\n",
       "<style scoped>\n",
       "    .dataframe tbody tr th:only-of-type {\n",
       "        vertical-align: middle;\n",
       "    }\n",
       "\n",
       "    .dataframe tbody tr th {\n",
       "        vertical-align: top;\n",
       "    }\n",
       "\n",
       "    .dataframe thead th {\n",
       "        text-align: right;\n",
       "    }\n",
       "</style>\n",
       "<table border=\"1\" class=\"dataframe\">\n",
       "  <thead>\n",
       "    <tr style=\"text-align: right;\">\n",
       "      <th></th>\n",
       "      <th>id</th>\n",
       "      <th>name</th>\n",
       "      <th>host_id</th>\n",
       "      <th>host_name</th>\n",
       "      <th>neighbourhood_group</th>\n",
       "      <th>neighbourhood</th>\n",
       "      <th>latitude</th>\n",
       "      <th>longitude</th>\n",
       "      <th>room_type</th>\n",
       "      <th>price</th>\n",
       "      <th>minimum_nights</th>\n",
       "      <th>number_of_reviews</th>\n",
       "      <th>last_review</th>\n",
       "      <th>reviews_per_month</th>\n",
       "      <th>calculated_host_listings_count</th>\n",
       "      <th>availability_365</th>\n",
       "    </tr>\n",
       "  </thead>\n",
       "  <tbody>\n",
       "    <tr>\n",
       "      <th>0</th>\n",
       "      <td>6369</td>\n",
       "      <td>Rooftop terrace room ,  ensuite bathroom</td>\n",
       "      <td>13660</td>\n",
       "      <td>Simon</td>\n",
       "      <td>Chamartín</td>\n",
       "      <td>Hispanoamérica</td>\n",
       "      <td>40.45724</td>\n",
       "      <td>-3.67688</td>\n",
       "      <td>Private room</td>\n",
       "      <td>60</td>\n",
       "      <td>1</td>\n",
       "      <td>78</td>\n",
       "      <td>2020-09-20</td>\n",
       "      <td>0.58</td>\n",
       "      <td>1</td>\n",
       "      <td>180</td>\n",
       "    </tr>\n",
       "    <tr>\n",
       "      <th>1</th>\n",
       "      <td>21853</td>\n",
       "      <td>Bright and airy room</td>\n",
       "      <td>83531</td>\n",
       "      <td>Abdel</td>\n",
       "      <td>Latina</td>\n",
       "      <td>Cármenes</td>\n",
       "      <td>40.40381</td>\n",
       "      <td>-3.74130</td>\n",
       "      <td>Private room</td>\n",
       "      <td>31</td>\n",
       "      <td>4</td>\n",
       "      <td>33</td>\n",
       "      <td>2018-07-15</td>\n",
       "      <td>0.42</td>\n",
       "      <td>2</td>\n",
       "      <td>364</td>\n",
       "    </tr>\n",
       "    <tr>\n",
       "      <th>2</th>\n",
       "      <td>23001</td>\n",
       "      <td>Apartmento Arganzuela- Madrid Rio</td>\n",
       "      <td>82175</td>\n",
       "      <td>Jesus</td>\n",
       "      <td>Arganzuela</td>\n",
       "      <td>Legazpi</td>\n",
       "      <td>40.38840</td>\n",
       "      <td>-3.69511</td>\n",
       "      <td>Entire home/apt</td>\n",
       "      <td>50</td>\n",
       "      <td>15</td>\n",
       "      <td>0</td>\n",
       "      <td>NaN</td>\n",
       "      <td>NaN</td>\n",
       "      <td>7</td>\n",
       "      <td>1</td>\n",
       "    </tr>\n",
       "    <tr>\n",
       "      <th>3</th>\n",
       "      <td>24805</td>\n",
       "      <td>Gran Via Studio Madrid</td>\n",
       "      <td>346366726</td>\n",
       "      <td>A</td>\n",
       "      <td>Centro</td>\n",
       "      <td>Universidad</td>\n",
       "      <td>40.42183</td>\n",
       "      <td>-3.70529</td>\n",
       "      <td>Entire home/apt</td>\n",
       "      <td>92</td>\n",
       "      <td>5</td>\n",
       "      <td>10</td>\n",
       "      <td>2020-03-01</td>\n",
       "      <td>0.13</td>\n",
       "      <td>1</td>\n",
       "      <td>72</td>\n",
       "    </tr>\n",
       "    <tr>\n",
       "      <th>4</th>\n",
       "      <td>26825</td>\n",
       "      <td>Single Room whith private Bathroom</td>\n",
       "      <td>114340</td>\n",
       "      <td>Agustina</td>\n",
       "      <td>Arganzuela</td>\n",
       "      <td>Legazpi</td>\n",
       "      <td>40.38975</td>\n",
       "      <td>-3.69018</td>\n",
       "      <td>Private room</td>\n",
       "      <td>26</td>\n",
       "      <td>2</td>\n",
       "      <td>149</td>\n",
       "      <td>2020-03-12</td>\n",
       "      <td>1.12</td>\n",
       "      <td>1</td>\n",
       "      <td>365</td>\n",
       "    </tr>\n",
       "  </tbody>\n",
       "</table>\n",
       "</div>"
      ],
      "text/plain": [
       "      id                                      name    host_id host_name  \\\n",
       "0   6369  Rooftop terrace room ,  ensuite bathroom      13660     Simon   \n",
       "1  21853                      Bright and airy room      83531     Abdel   \n",
       "2  23001         Apartmento Arganzuela- Madrid Rio      82175     Jesus   \n",
       "3  24805                    Gran Via Studio Madrid  346366726         A   \n",
       "4  26825        Single Room whith private Bathroom     114340  Agustina   \n",
       "\n",
       "  neighbourhood_group   neighbourhood  latitude  longitude        room_type  \\\n",
       "0           Chamartín  Hispanoamérica  40.45724   -3.67688     Private room   \n",
       "1              Latina        Cármenes  40.40381   -3.74130     Private room   \n",
       "2          Arganzuela         Legazpi  40.38840   -3.69511  Entire home/apt   \n",
       "3              Centro     Universidad  40.42183   -3.70529  Entire home/apt   \n",
       "4          Arganzuela         Legazpi  40.38975   -3.69018     Private room   \n",
       "\n",
       "   price  minimum_nights  number_of_reviews last_review  reviews_per_month  \\\n",
       "0     60               1                 78  2020-09-20               0.58   \n",
       "1     31               4                 33  2018-07-15               0.42   \n",
       "2     50              15                  0         NaN                NaN   \n",
       "3     92               5                 10  2020-03-01               0.13   \n",
       "4     26               2                149  2020-03-12               1.12   \n",
       "\n",
       "   calculated_host_listings_count  availability_365  \n",
       "0                               1               180  \n",
       "1                               2               364  \n",
       "2                               7                 1  \n",
       "3                               1                72  \n",
       "4                               1               365  "
      ]
     },
     "execution_count": 313,
     "metadata": {},
     "output_type": "execute_result"
    }
   ],
   "source": [
    "airbnb_df.head()"
   ]
  },
  {
   "cell_type": "code",
   "execution_count": 314,
   "id": "b514d48f",
   "metadata": {},
   "outputs": [
    {
     "data": {
      "text/html": [
       "<div>\n",
       "<style scoped>\n",
       "    .dataframe tbody tr th:only-of-type {\n",
       "        vertical-align: middle;\n",
       "    }\n",
       "\n",
       "    .dataframe tbody tr th {\n",
       "        vertical-align: top;\n",
       "    }\n",
       "\n",
       "    .dataframe thead th {\n",
       "        text-align: right;\n",
       "    }\n",
       "</style>\n",
       "<table border=\"1\" class=\"dataframe\">\n",
       "  <thead>\n",
       "    <tr style=\"text-align: right;\">\n",
       "      <th></th>\n",
       "      <th>id</th>\n",
       "      <th>name</th>\n",
       "      <th>host_id</th>\n",
       "      <th>host_name</th>\n",
       "      <th>neighbourhood_group</th>\n",
       "      <th>neighbourhood</th>\n",
       "      <th>latitude</th>\n",
       "      <th>longitude</th>\n",
       "      <th>room_type</th>\n",
       "      <th>price</th>\n",
       "      <th>minimum_nights</th>\n",
       "      <th>number_of_reviews</th>\n",
       "      <th>last_review</th>\n",
       "      <th>reviews_per_month</th>\n",
       "      <th>calculated_host_listings_count</th>\n",
       "      <th>availability_365</th>\n",
       "    </tr>\n",
       "  </thead>\n",
       "  <tbody>\n",
       "    <tr>\n",
       "      <th>19613</th>\n",
       "      <td>49185822</td>\n",
       "      <td>Habitación con TV con Netflix en Lavapiés</td>\n",
       "      <td>172011610</td>\n",
       "      <td>Belaid</td>\n",
       "      <td>Centro</td>\n",
       "      <td>Embajadores</td>\n",
       "      <td>40.40756</td>\n",
       "      <td>-3.69937</td>\n",
       "      <td>Private room</td>\n",
       "      <td>23</td>\n",
       "      <td>30</td>\n",
       "      <td>0</td>\n",
       "      <td>NaN</td>\n",
       "      <td>NaN</td>\n",
       "      <td>8</td>\n",
       "      <td>349</td>\n",
       "    </tr>\n",
       "    <tr>\n",
       "      <th>19614</th>\n",
       "      <td>49186179</td>\n",
       "      <td>Habitación con TV con Netflix en Gaztambide</td>\n",
       "      <td>172011610</td>\n",
       "      <td>Belaid</td>\n",
       "      <td>Chamberí</td>\n",
       "      <td>Gaztambide</td>\n",
       "      <td>40.43706</td>\n",
       "      <td>-3.71364</td>\n",
       "      <td>Private room</td>\n",
       "      <td>21</td>\n",
       "      <td>30</td>\n",
       "      <td>0</td>\n",
       "      <td>NaN</td>\n",
       "      <td>NaN</td>\n",
       "      <td>8</td>\n",
       "      <td>350</td>\n",
       "    </tr>\n",
       "    <tr>\n",
       "      <th>19615</th>\n",
       "      <td>49187258</td>\n",
       "      <td>Habitación con TV con Netflix en Chamberí</td>\n",
       "      <td>172011610</td>\n",
       "      <td>Belaid</td>\n",
       "      <td>Chamberí</td>\n",
       "      <td>Arapiles</td>\n",
       "      <td>40.43857</td>\n",
       "      <td>-3.70715</td>\n",
       "      <td>Private room</td>\n",
       "      <td>22</td>\n",
       "      <td>7</td>\n",
       "      <td>0</td>\n",
       "      <td>NaN</td>\n",
       "      <td>NaN</td>\n",
       "      <td>8</td>\n",
       "      <td>364</td>\n",
       "    </tr>\n",
       "    <tr>\n",
       "      <th>19616</th>\n",
       "      <td>49187471</td>\n",
       "      <td>Habitación con TV con Netflix en Goya</td>\n",
       "      <td>172011610</td>\n",
       "      <td>Belaid</td>\n",
       "      <td>Salamanca</td>\n",
       "      <td>Guindalera</td>\n",
       "      <td>40.43027</td>\n",
       "      <td>-3.66759</td>\n",
       "      <td>Private room</td>\n",
       "      <td>19</td>\n",
       "      <td>30</td>\n",
       "      <td>0</td>\n",
       "      <td>NaN</td>\n",
       "      <td>NaN</td>\n",
       "      <td>8</td>\n",
       "      <td>349</td>\n",
       "    </tr>\n",
       "    <tr>\n",
       "      <th>19617</th>\n",
       "      <td>49187791</td>\n",
       "      <td>Habitación con TV con Netflix en Chamberí</td>\n",
       "      <td>172011610</td>\n",
       "      <td>Belaid</td>\n",
       "      <td>Chamberí</td>\n",
       "      <td>Arapiles</td>\n",
       "      <td>40.43484</td>\n",
       "      <td>-3.70667</td>\n",
       "      <td>Private room</td>\n",
       "      <td>20</td>\n",
       "      <td>30</td>\n",
       "      <td>0</td>\n",
       "      <td>NaN</td>\n",
       "      <td>NaN</td>\n",
       "      <td>8</td>\n",
       "      <td>349</td>\n",
       "    </tr>\n",
       "  </tbody>\n",
       "</table>\n",
       "</div>"
      ],
      "text/plain": [
       "             id                                         name    host_id  \\\n",
       "19613  49185822    Habitación con TV con Netflix en Lavapiés  172011610   \n",
       "19614  49186179  Habitación con TV con Netflix en Gaztambide  172011610   \n",
       "19615  49187258    Habitación con TV con Netflix en Chamberí  172011610   \n",
       "19616  49187471        Habitación con TV con Netflix en Goya  172011610   \n",
       "19617  49187791    Habitación con TV con Netflix en Chamberí  172011610   \n",
       "\n",
       "      host_name neighbourhood_group neighbourhood  latitude  longitude  \\\n",
       "19613    Belaid              Centro   Embajadores  40.40756   -3.69937   \n",
       "19614    Belaid            Chamberí    Gaztambide  40.43706   -3.71364   \n",
       "19615    Belaid            Chamberí      Arapiles  40.43857   -3.70715   \n",
       "19616    Belaid           Salamanca    Guindalera  40.43027   -3.66759   \n",
       "19617    Belaid            Chamberí      Arapiles  40.43484   -3.70667   \n",
       "\n",
       "          room_type  price  minimum_nights  number_of_reviews last_review  \\\n",
       "19613  Private room     23              30                  0         NaN   \n",
       "19614  Private room     21              30                  0         NaN   \n",
       "19615  Private room     22               7                  0         NaN   \n",
       "19616  Private room     19              30                  0         NaN   \n",
       "19617  Private room     20              30                  0         NaN   \n",
       "\n",
       "       reviews_per_month  calculated_host_listings_count  availability_365  \n",
       "19613                NaN                               8               349  \n",
       "19614                NaN                               8               350  \n",
       "19615                NaN                               8               364  \n",
       "19616                NaN                               8               349  \n",
       "19617                NaN                               8               349  "
      ]
     },
     "execution_count": 314,
     "metadata": {},
     "output_type": "execute_result"
    }
   ],
   "source": [
    "airbnb_df.tail()"
   ]
  },
  {
   "cell_type": "code",
   "execution_count": 315,
   "id": "7cbefa20",
   "metadata": {},
   "outputs": [
    {
     "data": {
      "text/html": [
       "<div>\n",
       "<style scoped>\n",
       "    .dataframe tbody tr th:only-of-type {\n",
       "        vertical-align: middle;\n",
       "    }\n",
       "\n",
       "    .dataframe tbody tr th {\n",
       "        vertical-align: top;\n",
       "    }\n",
       "\n",
       "    .dataframe thead th {\n",
       "        text-align: right;\n",
       "    }\n",
       "</style>\n",
       "<table border=\"1\" class=\"dataframe\">\n",
       "  <thead>\n",
       "    <tr style=\"text-align: right;\">\n",
       "      <th></th>\n",
       "      <th>id</th>\n",
       "      <th>host_id</th>\n",
       "      <th>latitude</th>\n",
       "      <th>longitude</th>\n",
       "      <th>price</th>\n",
       "      <th>minimum_nights</th>\n",
       "      <th>number_of_reviews</th>\n",
       "      <th>reviews_per_month</th>\n",
       "      <th>calculated_host_listings_count</th>\n",
       "      <th>availability_365</th>\n",
       "    </tr>\n",
       "  </thead>\n",
       "  <tbody>\n",
       "    <tr>\n",
       "      <th>count</th>\n",
       "      <td>1.961800e+04</td>\n",
       "      <td>1.961800e+04</td>\n",
       "      <td>19618.000000</td>\n",
       "      <td>19618.000000</td>\n",
       "      <td>19618.000000</td>\n",
       "      <td>19618.000000</td>\n",
       "      <td>19618.000000</td>\n",
       "      <td>13981.000000</td>\n",
       "      <td>19618.000000</td>\n",
       "      <td>19618.000000</td>\n",
       "    </tr>\n",
       "    <tr>\n",
       "      <th>mean</th>\n",
       "      <td>2.912200e+07</td>\n",
       "      <td>1.312165e+08</td>\n",
       "      <td>40.420984</td>\n",
       "      <td>-3.694040</td>\n",
       "      <td>129.271740</td>\n",
       "      <td>6.586196</td>\n",
       "      <td>31.858803</td>\n",
       "      <td>1.125958</td>\n",
       "      <td>10.229177</td>\n",
       "      <td>159.098328</td>\n",
       "    </tr>\n",
       "    <tr>\n",
       "      <th>std</th>\n",
       "      <td>1.351839e+07</td>\n",
       "      <td>1.166790e+08</td>\n",
       "      <td>0.022627</td>\n",
       "      <td>0.028671</td>\n",
       "      <td>484.143545</td>\n",
       "      <td>33.286582</td>\n",
       "      <td>63.938997</td>\n",
       "      <td>1.348235</td>\n",
       "      <td>23.546472</td>\n",
       "      <td>144.252803</td>\n",
       "    </tr>\n",
       "    <tr>\n",
       "      <th>min</th>\n",
       "      <td>6.369000e+03</td>\n",
       "      <td>7.952000e+03</td>\n",
       "      <td>40.332210</td>\n",
       "      <td>-3.863910</td>\n",
       "      <td>0.000000</td>\n",
       "      <td>1.000000</td>\n",
       "      <td>0.000000</td>\n",
       "      <td>0.010000</td>\n",
       "      <td>1.000000</td>\n",
       "      <td>0.000000</td>\n",
       "    </tr>\n",
       "    <tr>\n",
       "      <th>25%</th>\n",
       "      <td>1.903424e+07</td>\n",
       "      <td>2.765313e+07</td>\n",
       "      <td>40.409393</td>\n",
       "      <td>-3.707700</td>\n",
       "      <td>35.000000</td>\n",
       "      <td>1.000000</td>\n",
       "      <td>0.000000</td>\n",
       "      <td>0.170000</td>\n",
       "      <td>1.000000</td>\n",
       "      <td>0.000000</td>\n",
       "    </tr>\n",
       "    <tr>\n",
       "      <th>50%</th>\n",
       "      <td>3.187506e+07</td>\n",
       "      <td>9.901898e+07</td>\n",
       "      <td>40.419735</td>\n",
       "      <td>-3.701120</td>\n",
       "      <td>58.000000</td>\n",
       "      <td>2.000000</td>\n",
       "      <td>4.000000</td>\n",
       "      <td>0.590000</td>\n",
       "      <td>2.000000</td>\n",
       "      <td>126.000000</td>\n",
       "    </tr>\n",
       "    <tr>\n",
       "      <th>75%</th>\n",
       "      <td>4.090994e+07</td>\n",
       "      <td>2.256898e+08</td>\n",
       "      <td>40.430290</td>\n",
       "      <td>-3.685420</td>\n",
       "      <td>100.000000</td>\n",
       "      <td>3.000000</td>\n",
       "      <td>31.000000</td>\n",
       "      <td>1.630000</td>\n",
       "      <td>6.000000</td>\n",
       "      <td>320.000000</td>\n",
       "    </tr>\n",
       "    <tr>\n",
       "      <th>max</th>\n",
       "      <td>4.918779e+07</td>\n",
       "      <td>3.964281e+08</td>\n",
       "      <td>40.562740</td>\n",
       "      <td>-3.531900</td>\n",
       "      <td>9999.000000</td>\n",
       "      <td>1125.000000</td>\n",
       "      <td>706.000000</td>\n",
       "      <td>16.220000</td>\n",
       "      <td>163.000000</td>\n",
       "      <td>365.000000</td>\n",
       "    </tr>\n",
       "  </tbody>\n",
       "</table>\n",
       "</div>"
      ],
      "text/plain": [
       "                 id       host_id      latitude     longitude         price  \\\n",
       "count  1.961800e+04  1.961800e+04  19618.000000  19618.000000  19618.000000   \n",
       "mean   2.912200e+07  1.312165e+08     40.420984     -3.694040    129.271740   \n",
       "std    1.351839e+07  1.166790e+08      0.022627      0.028671    484.143545   \n",
       "min    6.369000e+03  7.952000e+03     40.332210     -3.863910      0.000000   \n",
       "25%    1.903424e+07  2.765313e+07     40.409393     -3.707700     35.000000   \n",
       "50%    3.187506e+07  9.901898e+07     40.419735     -3.701120     58.000000   \n",
       "75%    4.090994e+07  2.256898e+08     40.430290     -3.685420    100.000000   \n",
       "max    4.918779e+07  3.964281e+08     40.562740     -3.531900   9999.000000   \n",
       "\n",
       "       minimum_nights  number_of_reviews  reviews_per_month  \\\n",
       "count    19618.000000       19618.000000       13981.000000   \n",
       "mean         6.586196          31.858803           1.125958   \n",
       "std         33.286582          63.938997           1.348235   \n",
       "min          1.000000           0.000000           0.010000   \n",
       "25%          1.000000           0.000000           0.170000   \n",
       "50%          2.000000           4.000000           0.590000   \n",
       "75%          3.000000          31.000000           1.630000   \n",
       "max       1125.000000         706.000000          16.220000   \n",
       "\n",
       "       calculated_host_listings_count  availability_365  \n",
       "count                    19618.000000      19618.000000  \n",
       "mean                        10.229177        159.098328  \n",
       "std                         23.546472        144.252803  \n",
       "min                          1.000000          0.000000  \n",
       "25%                          1.000000          0.000000  \n",
       "50%                          2.000000        126.000000  \n",
       "75%                          6.000000        320.000000  \n",
       "max                        163.000000        365.000000  "
      ]
     },
     "execution_count": 315,
     "metadata": {},
     "output_type": "execute_result"
    }
   ],
   "source": [
    "airbnb_df.describe()"
   ]
  },
  {
   "cell_type": "code",
   "execution_count": 316,
   "id": "68975bdd",
   "metadata": {},
   "outputs": [
    {
     "data": {
      "text/html": [
       "<div>\n",
       "<style scoped>\n",
       "    .dataframe tbody tr th:only-of-type {\n",
       "        vertical-align: middle;\n",
       "    }\n",
       "\n",
       "    .dataframe tbody tr th {\n",
       "        vertical-align: top;\n",
       "    }\n",
       "\n",
       "    .dataframe thead th {\n",
       "        text-align: right;\n",
       "    }\n",
       "</style>\n",
       "<table border=\"1\" class=\"dataframe\">\n",
       "  <thead>\n",
       "    <tr style=\"text-align: right;\">\n",
       "      <th></th>\n",
       "      <th>name</th>\n",
       "      <th>host_name</th>\n",
       "      <th>neighbourhood_group</th>\n",
       "      <th>neighbourhood</th>\n",
       "      <th>room_type</th>\n",
       "      <th>last_review</th>\n",
       "    </tr>\n",
       "  </thead>\n",
       "  <tbody>\n",
       "    <tr>\n",
       "      <th>count</th>\n",
       "      <td>19615</td>\n",
       "      <td>19091</td>\n",
       "      <td>19618</td>\n",
       "      <td>19618</td>\n",
       "      <td>19618</td>\n",
       "      <td>13981</td>\n",
       "    </tr>\n",
       "    <tr>\n",
       "      <th>unique</th>\n",
       "      <td>18793</td>\n",
       "      <td>3900</td>\n",
       "      <td>21</td>\n",
       "      <td>128</td>\n",
       "      <td>4</td>\n",
       "      <td>1590</td>\n",
       "    </tr>\n",
       "    <tr>\n",
       "      <th>top</th>\n",
       "      <td>Habitación privada</td>\n",
       "      <td>Daniel</td>\n",
       "      <td>Centro</td>\n",
       "      <td>Embajadores</td>\n",
       "      <td>Entire home/apt</td>\n",
       "      <td>2020-03-01</td>\n",
       "    </tr>\n",
       "    <tr>\n",
       "      <th>freq</th>\n",
       "      <td>22</td>\n",
       "      <td>255</td>\n",
       "      <td>8649</td>\n",
       "      <td>2318</td>\n",
       "      <td>11314</td>\n",
       "      <td>359</td>\n",
       "    </tr>\n",
       "  </tbody>\n",
       "</table>\n",
       "</div>"
      ],
      "text/plain": [
       "                      name host_name neighbourhood_group neighbourhood  \\\n",
       "count                19615     19091               19618         19618   \n",
       "unique               18793      3900                  21           128   \n",
       "top     Habitación privada    Daniel              Centro   Embajadores   \n",
       "freq                    22       255                8649          2318   \n",
       "\n",
       "              room_type last_review  \n",
       "count             19618       13981  \n",
       "unique                4        1590  \n",
       "top     Entire home/apt  2020-03-01  \n",
       "freq              11314         359  "
      ]
     },
     "execution_count": 316,
     "metadata": {},
     "output_type": "execute_result"
    }
   ],
   "source": [
    "airbnb_df.describe(include='O')"
   ]
  },
  {
   "cell_type": "code",
   "execution_count": 317,
   "id": "1aba3cde",
   "metadata": {},
   "outputs": [
    {
     "data": {
      "text/plain": [
       "id                                   0\n",
       "name                                 3\n",
       "host_id                              0\n",
       "host_name                          527\n",
       "neighbourhood_group                  0\n",
       "neighbourhood                        0\n",
       "latitude                             0\n",
       "longitude                            0\n",
       "room_type                            0\n",
       "price                                0\n",
       "minimum_nights                       0\n",
       "number_of_reviews                    0\n",
       "last_review                       5637\n",
       "reviews_per_month                 5637\n",
       "calculated_host_listings_count       0\n",
       "availability_365                     0\n",
       "dtype: int64"
      ]
     },
     "execution_count": 317,
     "metadata": {},
     "output_type": "execute_result"
    }
   ],
   "source": [
    "airbnb_df.isnull().sum()"
   ]
  },
  {
   "cell_type": "code",
   "execution_count": 318,
   "id": "48f2a8dc",
   "metadata": {},
   "outputs": [
    {
     "data": {
      "text/html": [
       "<div>\n",
       "<style scoped>\n",
       "    .dataframe tbody tr th:only-of-type {\n",
       "        vertical-align: middle;\n",
       "    }\n",
       "\n",
       "    .dataframe tbody tr th {\n",
       "        vertical-align: top;\n",
       "    }\n",
       "\n",
       "    .dataframe thead th {\n",
       "        text-align: right;\n",
       "    }\n",
       "</style>\n",
       "<table border=\"1\" class=\"dataframe\">\n",
       "  <thead>\n",
       "    <tr style=\"text-align: right;\">\n",
       "      <th></th>\n",
       "      <th>id</th>\n",
       "      <th>name</th>\n",
       "      <th>host_id</th>\n",
       "      <th>host_name</th>\n",
       "      <th>neighbourhood_group</th>\n",
       "      <th>neighbourhood</th>\n",
       "      <th>latitude</th>\n",
       "      <th>longitude</th>\n",
       "      <th>room_type</th>\n",
       "      <th>price</th>\n",
       "      <th>minimum_nights</th>\n",
       "      <th>number_of_reviews</th>\n",
       "      <th>last_review</th>\n",
       "      <th>reviews_per_month</th>\n",
       "      <th>calculated_host_listings_count</th>\n",
       "      <th>availability_365</th>\n",
       "    </tr>\n",
       "  </thead>\n",
       "  <tbody>\n",
       "    <tr>\n",
       "      <th>0</th>\n",
       "      <td>False</td>\n",
       "      <td>False</td>\n",
       "      <td>False</td>\n",
       "      <td>False</td>\n",
       "      <td>False</td>\n",
       "      <td>False</td>\n",
       "      <td>False</td>\n",
       "      <td>False</td>\n",
       "      <td>False</td>\n",
       "      <td>False</td>\n",
       "      <td>False</td>\n",
       "      <td>False</td>\n",
       "      <td>False</td>\n",
       "      <td>False</td>\n",
       "      <td>False</td>\n",
       "      <td>False</td>\n",
       "    </tr>\n",
       "    <tr>\n",
       "      <th>1</th>\n",
       "      <td>False</td>\n",
       "      <td>False</td>\n",
       "      <td>False</td>\n",
       "      <td>False</td>\n",
       "      <td>False</td>\n",
       "      <td>False</td>\n",
       "      <td>False</td>\n",
       "      <td>False</td>\n",
       "      <td>False</td>\n",
       "      <td>False</td>\n",
       "      <td>False</td>\n",
       "      <td>False</td>\n",
       "      <td>False</td>\n",
       "      <td>False</td>\n",
       "      <td>False</td>\n",
       "      <td>False</td>\n",
       "    </tr>\n",
       "    <tr>\n",
       "      <th>2</th>\n",
       "      <td>False</td>\n",
       "      <td>False</td>\n",
       "      <td>False</td>\n",
       "      <td>False</td>\n",
       "      <td>False</td>\n",
       "      <td>False</td>\n",
       "      <td>False</td>\n",
       "      <td>False</td>\n",
       "      <td>False</td>\n",
       "      <td>False</td>\n",
       "      <td>False</td>\n",
       "      <td>False</td>\n",
       "      <td>True</td>\n",
       "      <td>True</td>\n",
       "      <td>False</td>\n",
       "      <td>False</td>\n",
       "    </tr>\n",
       "    <tr>\n",
       "      <th>3</th>\n",
       "      <td>False</td>\n",
       "      <td>False</td>\n",
       "      <td>False</td>\n",
       "      <td>False</td>\n",
       "      <td>False</td>\n",
       "      <td>False</td>\n",
       "      <td>False</td>\n",
       "      <td>False</td>\n",
       "      <td>False</td>\n",
       "      <td>False</td>\n",
       "      <td>False</td>\n",
       "      <td>False</td>\n",
       "      <td>False</td>\n",
       "      <td>False</td>\n",
       "      <td>False</td>\n",
       "      <td>False</td>\n",
       "    </tr>\n",
       "    <tr>\n",
       "      <th>4</th>\n",
       "      <td>False</td>\n",
       "      <td>False</td>\n",
       "      <td>False</td>\n",
       "      <td>False</td>\n",
       "      <td>False</td>\n",
       "      <td>False</td>\n",
       "      <td>False</td>\n",
       "      <td>False</td>\n",
       "      <td>False</td>\n",
       "      <td>False</td>\n",
       "      <td>False</td>\n",
       "      <td>False</td>\n",
       "      <td>False</td>\n",
       "      <td>False</td>\n",
       "      <td>False</td>\n",
       "      <td>False</td>\n",
       "    </tr>\n",
       "    <tr>\n",
       "      <th>...</th>\n",
       "      <td>...</td>\n",
       "      <td>...</td>\n",
       "      <td>...</td>\n",
       "      <td>...</td>\n",
       "      <td>...</td>\n",
       "      <td>...</td>\n",
       "      <td>...</td>\n",
       "      <td>...</td>\n",
       "      <td>...</td>\n",
       "      <td>...</td>\n",
       "      <td>...</td>\n",
       "      <td>...</td>\n",
       "      <td>...</td>\n",
       "      <td>...</td>\n",
       "      <td>...</td>\n",
       "      <td>...</td>\n",
       "    </tr>\n",
       "    <tr>\n",
       "      <th>19613</th>\n",
       "      <td>False</td>\n",
       "      <td>False</td>\n",
       "      <td>False</td>\n",
       "      <td>False</td>\n",
       "      <td>False</td>\n",
       "      <td>False</td>\n",
       "      <td>False</td>\n",
       "      <td>False</td>\n",
       "      <td>False</td>\n",
       "      <td>False</td>\n",
       "      <td>False</td>\n",
       "      <td>False</td>\n",
       "      <td>True</td>\n",
       "      <td>True</td>\n",
       "      <td>False</td>\n",
       "      <td>False</td>\n",
       "    </tr>\n",
       "    <tr>\n",
       "      <th>19614</th>\n",
       "      <td>False</td>\n",
       "      <td>False</td>\n",
       "      <td>False</td>\n",
       "      <td>False</td>\n",
       "      <td>False</td>\n",
       "      <td>False</td>\n",
       "      <td>False</td>\n",
       "      <td>False</td>\n",
       "      <td>False</td>\n",
       "      <td>False</td>\n",
       "      <td>False</td>\n",
       "      <td>False</td>\n",
       "      <td>True</td>\n",
       "      <td>True</td>\n",
       "      <td>False</td>\n",
       "      <td>False</td>\n",
       "    </tr>\n",
       "    <tr>\n",
       "      <th>19615</th>\n",
       "      <td>False</td>\n",
       "      <td>False</td>\n",
       "      <td>False</td>\n",
       "      <td>False</td>\n",
       "      <td>False</td>\n",
       "      <td>False</td>\n",
       "      <td>False</td>\n",
       "      <td>False</td>\n",
       "      <td>False</td>\n",
       "      <td>False</td>\n",
       "      <td>False</td>\n",
       "      <td>False</td>\n",
       "      <td>True</td>\n",
       "      <td>True</td>\n",
       "      <td>False</td>\n",
       "      <td>False</td>\n",
       "    </tr>\n",
       "    <tr>\n",
       "      <th>19616</th>\n",
       "      <td>False</td>\n",
       "      <td>False</td>\n",
       "      <td>False</td>\n",
       "      <td>False</td>\n",
       "      <td>False</td>\n",
       "      <td>False</td>\n",
       "      <td>False</td>\n",
       "      <td>False</td>\n",
       "      <td>False</td>\n",
       "      <td>False</td>\n",
       "      <td>False</td>\n",
       "      <td>False</td>\n",
       "      <td>True</td>\n",
       "      <td>True</td>\n",
       "      <td>False</td>\n",
       "      <td>False</td>\n",
       "    </tr>\n",
       "    <tr>\n",
       "      <th>19617</th>\n",
       "      <td>False</td>\n",
       "      <td>False</td>\n",
       "      <td>False</td>\n",
       "      <td>False</td>\n",
       "      <td>False</td>\n",
       "      <td>False</td>\n",
       "      <td>False</td>\n",
       "      <td>False</td>\n",
       "      <td>False</td>\n",
       "      <td>False</td>\n",
       "      <td>False</td>\n",
       "      <td>False</td>\n",
       "      <td>True</td>\n",
       "      <td>True</td>\n",
       "      <td>False</td>\n",
       "      <td>False</td>\n",
       "    </tr>\n",
       "  </tbody>\n",
       "</table>\n",
       "<p>19618 rows × 16 columns</p>\n",
       "</div>"
      ],
      "text/plain": [
       "          id   name  host_id  host_name  neighbourhood_group  neighbourhood  \\\n",
       "0      False  False    False      False                False          False   \n",
       "1      False  False    False      False                False          False   \n",
       "2      False  False    False      False                False          False   \n",
       "3      False  False    False      False                False          False   \n",
       "4      False  False    False      False                False          False   \n",
       "...      ...    ...      ...        ...                  ...            ...   \n",
       "19613  False  False    False      False                False          False   \n",
       "19614  False  False    False      False                False          False   \n",
       "19615  False  False    False      False                False          False   \n",
       "19616  False  False    False      False                False          False   \n",
       "19617  False  False    False      False                False          False   \n",
       "\n",
       "       latitude  longitude  room_type  price  minimum_nights  \\\n",
       "0         False      False      False  False           False   \n",
       "1         False      False      False  False           False   \n",
       "2         False      False      False  False           False   \n",
       "3         False      False      False  False           False   \n",
       "4         False      False      False  False           False   \n",
       "...         ...        ...        ...    ...             ...   \n",
       "19613     False      False      False  False           False   \n",
       "19614     False      False      False  False           False   \n",
       "19615     False      False      False  False           False   \n",
       "19616     False      False      False  False           False   \n",
       "19617     False      False      False  False           False   \n",
       "\n",
       "       number_of_reviews  last_review  reviews_per_month  \\\n",
       "0                  False        False              False   \n",
       "1                  False        False              False   \n",
       "2                  False         True               True   \n",
       "3                  False        False              False   \n",
       "4                  False        False              False   \n",
       "...                  ...          ...                ...   \n",
       "19613              False         True               True   \n",
       "19614              False         True               True   \n",
       "19615              False         True               True   \n",
       "19616              False         True               True   \n",
       "19617              False         True               True   \n",
       "\n",
       "       calculated_host_listings_count  availability_365  \n",
       "0                               False             False  \n",
       "1                               False             False  \n",
       "2                               False             False  \n",
       "3                               False             False  \n",
       "4                               False             False  \n",
       "...                               ...               ...  \n",
       "19613                           False             False  \n",
       "19614                           False             False  \n",
       "19615                           False             False  \n",
       "19616                           False             False  \n",
       "19617                           False             False  \n",
       "\n",
       "[19618 rows x 16 columns]"
      ]
     },
     "execution_count": 318,
     "metadata": {},
     "output_type": "execute_result"
    }
   ],
   "source": [
    "airbnb_df.isnull()"
   ]
  },
  {
   "cell_type": "code",
   "execution_count": 319,
   "id": "6d01988c",
   "metadata": {},
   "outputs": [
    {
     "data": {
      "text/plain": [
       "Index(['id', 'name', 'host_id', 'host_name', 'neighbourhood_group',\n",
       "       'neighbourhood', 'latitude', 'longitude', 'room_type', 'price',\n",
       "       'minimum_nights', 'number_of_reviews', 'last_review',\n",
       "       'reviews_per_month', 'calculated_host_listings_count',\n",
       "       'availability_365'],\n",
       "      dtype='object')"
      ]
     },
     "execution_count": 319,
     "metadata": {},
     "output_type": "execute_result"
    }
   ],
   "source": [
    "airbnb_df.columns"
   ]
  },
  {
   "cell_type": "code",
   "execution_count": 320,
   "id": "2ec2d3ef",
   "metadata": {},
   "outputs": [
    {
     "data": {
      "text/plain": [
       "(19618, 16)"
      ]
     },
     "execution_count": 320,
     "metadata": {},
     "output_type": "execute_result"
    }
   ],
   "source": [
    "airbnb_df.shape"
   ]
  },
  {
   "cell_type": "code",
   "execution_count": 321,
   "id": "06ad3ba9",
   "metadata": {},
   "outputs": [
    {
     "data": {
      "text/plain": [
       "RangeIndex(start=0, stop=19618, step=1)"
      ]
     },
     "execution_count": 321,
     "metadata": {},
     "output_type": "execute_result"
    }
   ],
   "source": [
    "airbnb_df.index"
   ]
  },
  {
   "cell_type": "markdown",
   "id": "07f1976e",
   "metadata": {},
   "source": [
    "# exploratory data analysis"
   ]
  },
  {
   "cell_type": "markdown",
   "id": "868c2976",
   "metadata": {},
   "source": [
    "numerical column-[id,host id,latitute ,longitute,price,minimum no of night,no of revies, reviews per month,calculated host listing,availibility 365]"
   ]
  },
  {
   "cell_type": "markdown",
   "id": "d46ec2d3",
   "metadata": {},
   "source": [
    "categorical column-[name ,hostname ,neighbourboodgroup,neighbourhood,room type,]"
   ]
  },
  {
   "cell_type": "markdown",
   "id": "44a8ab59",
   "metadata": {},
   "source": [
    "# numerical nalysis"
   ]
  },
  {
   "cell_type": "markdown",
   "id": "b05a7a8c",
   "metadata": {},
   "source": [
    "# id"
   ]
  },
  {
   "cell_type": "code",
   "execution_count": 322,
   "id": "aead4ed6",
   "metadata": {},
   "outputs": [
    {
     "data": {
      "text/plain": [
       "571315470941"
      ]
     },
     "execution_count": 322,
     "metadata": {},
     "output_type": "execute_result"
    }
   ],
   "source": [
    "airbnb_df[\"id\"].sum()"
   ]
  },
  {
   "cell_type": "code",
   "execution_count": 323,
   "id": "bc9e0344",
   "metadata": {},
   "outputs": [
    {
     "data": {
      "text/plain": [
       "49187791"
      ]
     },
     "execution_count": 323,
     "metadata": {},
     "output_type": "execute_result"
    }
   ],
   "source": [
    "airbnb_df[\"id\"].max()"
   ]
  },
  {
   "cell_type": "code",
   "execution_count": 324,
   "id": "89bb3036",
   "metadata": {},
   "outputs": [
    {
     "data": {
      "text/plain": [
       "6369"
      ]
     },
     "execution_count": 324,
     "metadata": {},
     "output_type": "execute_result"
    }
   ],
   "source": [
    "airbnb_df[\"id\"].min()"
   ]
  },
  {
   "cell_type": "code",
   "execution_count": 325,
   "id": "d8dc44ec",
   "metadata": {},
   "outputs": [
    {
     "data": {
      "text/plain": [
       "29122003.820012234"
      ]
     },
     "execution_count": 325,
     "metadata": {},
     "output_type": "execute_result"
    }
   ],
   "source": [
    "airbnb_df[\"id\"].mean()"
   ]
  },
  {
   "cell_type": "code",
   "execution_count": 326,
   "id": "10079e08",
   "metadata": {},
   "outputs": [
    {
     "data": {
      "text/plain": [
       "-0.42411354681995544"
      ]
     },
     "execution_count": 326,
     "metadata": {},
     "output_type": "execute_result"
    }
   ],
   "source": [
    "airbnb_df[\"id\"].skew()"
   ]
  },
  {
   "cell_type": "code",
   "execution_count": 327,
   "id": "dc749806",
   "metadata": {},
   "outputs": [
    {
     "data": {
      "text/plain": [
       "array([    6369,    21853,    23001, ..., 49187258, 49187471, 49187791],\n",
       "      dtype=int64)"
      ]
     },
     "execution_count": 327,
     "metadata": {},
     "output_type": "execute_result"
    }
   ],
   "source": [
    "airbnb_df[\"id\"].unique()"
   ]
  },
  {
   "cell_type": "code",
   "execution_count": 328,
   "id": "a6f16113",
   "metadata": {},
   "outputs": [
    {
     "data": {
      "text/plain": [
       "19618"
      ]
     },
     "execution_count": 328,
     "metadata": {},
     "output_type": "execute_result"
    }
   ],
   "source": [
    "airbnb_df[\"id\"].nunique()"
   ]
  },
  {
   "cell_type": "code",
   "execution_count": 329,
   "id": "ecb88c7e",
   "metadata": {},
   "outputs": [
    {
     "data": {
      "text/plain": [
       "13518391.708053155"
      ]
     },
     "execution_count": 329,
     "metadata": {},
     "output_type": "execute_result"
    }
   ],
   "source": [
    "airbnb_df[\"id\"].std()"
   ]
  },
  {
   "cell_type": "code",
   "execution_count": 330,
   "id": "0c7a5a65",
   "metadata": {},
   "outputs": [
    {
     "data": {
      "text/plain": [
       "31875060.5"
      ]
     },
     "execution_count": 330,
     "metadata": {},
     "output_type": "execute_result"
    }
   ],
   "source": [
    "airbnb_df[\"id\"].median()"
   ]
  },
  {
   "cell_type": "code",
   "execution_count": 331,
   "id": "65fe0feb",
   "metadata": {},
   "outputs": [
    {
     "data": {
      "text/plain": [
       "Text(0.5, 1.06, 'histogram plot of id')"
      ]
     },
     "execution_count": 331,
     "metadata": {},
     "output_type": "execute_result"
    },
    {
     "data": {
      "image/png": "[encoded data removed]",
      "text/plain": [
       "<Figure size 640x480 with 1 Axes>"
      ]
     },
     "metadata": {},
     "output_type": "display_data"
    }
   ],
   "source": [
    "sns.histplot(airbnb_df[\"id\"])\n",
    "plt.title('histogram plot of id',y=1.06)"
   ]
  },
  {
   "cell_type": "code",
   "execution_count": 332,
   "id": "8fafb4f0",
   "metadata": {},
   "outputs": [
    {
     "name": "stderr",
     "output_type": "stream",
     "text": [
      "C:\\Users\\Vishal\\AppData\\Local\\Temp\\ipykernel_16932\\3668513751.py:1: UserWarning: \n",
      "\n",
      "`distplot` is a deprecated function and will be removed in seaborn v0.14.0.\n",
      "\n",
      "Please adapt your code to use either `displot` (a figure-level function with\n",
      "similar flexibility) or `histplot` (an axes-level function for histograms).\n",
      "\n",
      "For a guide to updating your code to use the new functions, please see\n",
      "https://gist.github.com/mwaskom/de44147ed2974457ad6372750bbe5751\n",
      "\n",
      "  sns.distplot(airbnb_df[\"id\"])\n"
     ]
    },
    {
     "data": {
      "text/plain": [
       "Text(0.5, 1.06, 'distribution plot of id')"
      ]
     },
     "execution_count": 332,
     "metadata": {},
     "output_type": "execute_result"
    },
    {
     "data": {
      "image/png": "[encoded data removed]",
      "text/plain": [
       "<Figure size 640x480 with 1 Axes>"
      ]
     },
     "metadata": {},
     "output_type": "display_data"
    }
   ],
   "source": [
    "sns.distplot(airbnb_df[\"id\"])\n",
    "plt.title('distribution plot of id',y=1.06)"
   ]
  },
  {
   "cell_type": "code",
   "execution_count": 333,
   "id": "26dd3d4a",
   "metadata": {},
   "outputs": [
    {
     "data": {
      "text/plain": [
       "Text(0.5, 1.06, 'box plot of id')"
      ]
     },
     "execution_count": 333,
     "metadata": {},
     "output_type": "execute_result"
    },
    {
     "data": {
      "image/png": "[encoded data removed]",
      "text/plain": [
       "<Figure size 640x480 with 1 Axes>"
      ]
     },
     "metadata": {},
     "output_type": "display_data"
    }
   ],
   "source": [
    "sns.boxplot(airbnb_df[\"id\"],color=\"red\",orient='h')\n",
    "plt.title(\"box plot of id\",y=1.06)"
   ]
  },
  {
   "cell_type": "code",
   "execution_count": 334,
   "id": "f94c9e7b",
   "metadata": {},
   "outputs": [
    {
     "data": {
      "text/plain": [
       "Text(0.5, 1.06, 'violin plot of id')"
      ]
     },
     "execution_count": 334,
     "metadata": {},
     "output_type": "execute_result"
    },
    {
     "data": {
      "image/png": "[encoded data removed]",
      "text/plain": [
       "<Figure size 640x480 with 1 Axes>"
      ]
     },
     "metadata": {},
     "output_type": "display_data"
    }
   ],
   "source": [
    "sns.violinplot(airbnb_df[\"id\"],color=\"green\",orient='h')\n",
    "plt.title(\"violin plot of id\",y=1.06)"
   ]
  },
  {
   "cell_type": "code",
   "execution_count": null,
   "id": "d97a7f37",
   "metadata": {},
   "outputs": [],
   "source": []
  },
  {
   "cell_type": "code",
   "execution_count": null,
   "id": "7d067cb5",
   "metadata": {},
   "outputs": [],
   "source": []
  },
  {
   "cell_type": "code",
   "execution_count": 335,
   "id": "092db857",
   "metadata": {},
   "outputs": [
    {
     "data": {
      "text/plain": [
       "(8659025.6, 16319695.6, 19034239.0, 31875060.5, 40909940.5, 45466019.3)"
      ]
     },
     "execution_count": 335,
     "metadata": {},
     "output_type": "execute_result"
    }
   ],
   "source": [
    "airbnb_df[\"id\"].quantile(0.10),airbnb_df[\"id\"].quantile(0.20),airbnb_df[\"id\"].quantile(0.25),airbnb_df[\"id\"].quantile(0.50),airbnb_df[\"id\"].quantile(0.75),airbnb_df[\"id\"].quantile(0.90)"
   ]
  },
  {
   "cell_type": "markdown",
   "id": "a56798bc",
   "metadata": {},
   "source": [
    "**id** Column has a symmetrical distribution with skew -0.4211 which is   between -0.5 and 0.5 . \n",
    "- Density curve for id is centred around mean 29122003.820012234  with standard deviation of 13518391.708053155\n",
    "- Range of id  is from minimum 6369 and maximum 49187791\n",
    ".\n",
    "- 10%  of id is 8659025.6\n",
    "- 20% of id is 16319695.6\n",
    "- 25% of id is 19034239.0\n",
    "- 50% of id is 31875060.5\n",
    "- 75% of id is 40909940.5\n",
    "-90%  of id is 45466019.3\n",
    "- id  has few extreme values toward  according to boxplot 4.9 analysis\n",
    "temperature colum canot be a good predictor for further analysis with diff colums .its not that important \n",
    "there is no need to calculate mean median and quantile value as well its not needed "
   ]
  },
  {
   "cell_type": "markdown",
   "id": "95dcb2e4",
   "metadata": {},
   "source": [
    "# host id"
   ]
  },
  {
   "cell_type": "code",
   "execution_count": 336,
   "id": "36230024",
   "metadata": {},
   "outputs": [
    {
     "data": {
      "text/plain": [
       "2574205348583"
      ]
     },
     "execution_count": 336,
     "metadata": {},
     "output_type": "execute_result"
    }
   ],
   "source": [
    "airbnb_df[\"host_id\"].sum()"
   ]
  },
  {
   "cell_type": "code",
   "execution_count": 337,
   "id": "35aebbb1",
   "metadata": {},
   "outputs": [
    {
     "data": {
      "text/plain": [
       "396428081"
      ]
     },
     "execution_count": 337,
     "metadata": {},
     "output_type": "execute_result"
    }
   ],
   "source": [
    "airbnb_df[\"host_id\"].max()"
   ]
  },
  {
   "cell_type": "code",
   "execution_count": 338,
   "id": "090b203a",
   "metadata": {},
   "outputs": [
    {
     "data": {
      "text/plain": [
       "7952"
      ]
     },
     "execution_count": 338,
     "metadata": {},
     "output_type": "execute_result"
    }
   ],
   "source": [
    "airbnb_df[\"host_id\"].min()"
   ]
  },
  {
   "cell_type": "code",
   "execution_count": 339,
   "id": "ee3788e1",
   "metadata": {},
   "outputs": [
    {
     "data": {
      "text/plain": [
       "array([    13660,     83531,     82175, ..., 151861190,  38544397,\n",
       "       269722123], dtype=int64)"
      ]
     },
     "execution_count": 339,
     "metadata": {},
     "output_type": "execute_result"
    }
   ],
   "source": [
    "airbnb_df[\"host_id\"].unique()"
   ]
  },
  {
   "cell_type": "code",
   "execution_count": 340,
   "id": "6999e035",
   "metadata": {},
   "outputs": [
    {
     "data": {
      "text/plain": [
       "11325"
      ]
     },
     "execution_count": 340,
     "metadata": {},
     "output_type": "execute_result"
    }
   ],
   "source": [
    "airbnb_df[\"host_id\"].nunique()"
   ]
  },
  {
   "cell_type": "code",
   "execution_count": 341,
   "id": "57443097",
   "metadata": {},
   "outputs": [
    {
     "data": {
      "text/plain": [
       "131216502.62937099"
      ]
     },
     "execution_count": 341,
     "metadata": {},
     "output_type": "execute_result"
    }
   ],
   "source": [
    "airbnb_df[\"host_id\"].mean()"
   ]
  },
  {
   "cell_type": "code",
   "execution_count": 342,
   "id": "fb85b929",
   "metadata": {},
   "outputs": [
    {
     "data": {
      "text/plain": [
       "116678973.52863286"
      ]
     },
     "execution_count": 342,
     "metadata": {},
     "output_type": "execute_result"
    }
   ],
   "source": [
    "airbnb_df[\"host_id\"].std()"
   ]
  },
  {
   "cell_type": "code",
   "execution_count": 343,
   "id": "4c5fd36c",
   "metadata": {},
   "outputs": [
    {
     "data": {
      "text/plain": [
       "0.6466101716460232"
      ]
     },
     "execution_count": 343,
     "metadata": {},
     "output_type": "execute_result"
    }
   ],
   "source": [
    "airbnb_df[\"host_id\"].skew()"
   ]
  },
  {
   "cell_type": "code",
   "execution_count": 344,
   "id": "afe648b2",
   "metadata": {},
   "outputs": [
    {
     "data": {
      "text/plain": [
       "2574205348583"
      ]
     },
     "execution_count": 344,
     "metadata": {},
     "output_type": "execute_result"
    }
   ],
   "source": [
    "airbnb_df[\"host_id\"].sum()"
   ]
  },
  {
   "cell_type": "code",
   "execution_count": 345,
   "id": "311cec44",
   "metadata": {},
   "outputs": [
    {
     "data": {
      "text/plain": [
       "Text(0.5, 1.06, 'histogram plot of \"host_id\"')"
      ]
     },
     "execution_count": 345,
     "metadata": {},
     "output_type": "execute_result"
    },
    {
     "data": {
      "image/png": "[encoded data removed]",
      "text/plain": [
       "<Figure size 640x480 with 1 Axes>"
      ]
     },
     "metadata": {},
     "output_type": "display_data"
    }
   ],
   "source": [
    "sns.histplot(airbnb_df[\"host_id\"])\n",
    "plt.title('histogram plot of \"host_id\"',y=1.06)"
   ]
  },
  {
   "cell_type": "code",
   "execution_count": 346,
   "id": "4f5082b3",
   "metadata": {},
   "outputs": [
    {
     "name": "stderr",
     "output_type": "stream",
     "text": [
      "C:\\Users\\Vishal\\AppData\\Local\\Temp\\ipykernel_16932\\1089948468.py:1: UserWarning: \n",
      "\n",
      "`distplot` is a deprecated function and will be removed in seaborn v0.14.0.\n",
      "\n",
      "Please adapt your code to use either `displot` (a figure-level function with\n",
      "similar flexibility) or `histplot` (an axes-level function for histograms).\n",
      "\n",
      "For a guide to updating your code to use the new functions, please see\n",
      "https://gist.github.com/mwaskom/de44147ed2974457ad6372750bbe5751\n",
      "\n",
      "  sns.distplot(airbnb_df[\"host_id\"])\n"
     ]
    },
    {
     "data": {
      "text/plain": [
       "Text(0.5, 1.06, 'distribution plot of \"host_id\"')"
      ]
     },
     "execution_count": 346,
     "metadata": {},
     "output_type": "execute_result"
    },
    {
     "data": {
      "image/png": "[encoded data removed]",
      "text/plain": [
       "<Figure size 640x480 with 1 Axes>"
      ]
     },
     "metadata": {},
     "output_type": "display_data"
    }
   ],
   "source": [
    "sns.distplot(airbnb_df[\"host_id\"])\n",
    "plt.title('distribution plot of \"host_id\"',y=1.06)"
   ]
  },
  {
   "cell_type": "code",
   "execution_count": 347,
   "id": "f313effa",
   "metadata": {},
   "outputs": [
    {
     "data": {
      "text/plain": [
       "Text(0.5, 1.06, 'box plot of host id')"
      ]
     },
     "execution_count": 347,
     "metadata": {},
     "output_type": "execute_result"
    },
    {
     "data": {
      "image/png": "[encoded data removed]",
      "text/plain": [
       "<Figure size 640x480 with 1 Axes>"
      ]
     },
     "metadata": {},
     "output_type": "display_data"
    }
   ],
   "source": [
    "sns.boxplot(airbnb_df[\"host_id\"],color=\"blue\",orient='h')\n",
    "plt.title(\"box plot of host id\",y=1.06)"
   ]
  },
  {
   "cell_type": "code",
   "execution_count": 348,
   "id": "50c93749",
   "metadata": {},
   "outputs": [
    {
     "data": {
      "text/plain": [
       "Text(0.5, 1.06, 'violin plot if host id')"
      ]
     },
     "execution_count": 348,
     "metadata": {},
     "output_type": "execute_result"
    },
    {
     "data": {
      "image/png": "[encoded data removed]",
      "text/plain": [
       "<Figure size 640x480 with 1 Axes>"
      ]
     },
     "metadata": {},
     "output_type": "display_data"
    }
   ],
   "source": [
    "sns.violinplot(airbnb_df[\"host_id\"],color=\"plum\",orient='h')\n",
    "plt.title(\"violin plot if host id\",y=1.06)"
   ]
  },
  {
   "cell_type": "code",
   "execution_count": 349,
   "id": "6b976331",
   "metadata": {},
   "outputs": [
    {
     "data": {
      "text/plain": [
       "(6098530.200000001,\n",
       " 19099150.0,\n",
       " 27653128.5,\n",
       " 99018982.0,\n",
       " 225689762.0,\n",
       " 316691516.7)"
      ]
     },
     "execution_count": 349,
     "metadata": {},
     "output_type": "execute_result"
    }
   ],
   "source": [
    "airbnb_df[\"host_id\"].quantile(0.10),airbnb_df[\"host_id\"].quantile(0.20),airbnb_df[\"host_id\"].quantile(0.25),airbnb_df[\"host_id\"].quantile(0.50),airbnb_df[\"host_id\"].quantile(0.75),airbnb_df[\"host_id\"].quantile(0.90)"
   ]
  },
  {
   "cell_type": "markdown",
   "id": "80b9c2d0",
   "metadata": {},
   "source": [
    "**hostid** Column has a asymmetrical distribution with skew 0.646 which is not  between -0.5 and 0.5 . \n",
    "- Density curve for hostid is centred around mean 131216502.62937099  with standard deviation of 116678973.52863286\n",
    "- Range of hostid  is from minimum 7952  and maximum 396428081\n",
    ".\n",
    "- 10%  of hostid is  6098530.200000001\n",
    "- 20% of hostid is 19099150.0\n",
    "- 25% of hostid is 27653128.599018982.0\n",
    "- 50% of hostid is 99018982.0\n",
    "- 75% of hostid is 225689762.0\n",
    "-90%  of hostid is  316691516.7\n",
    "- hostid  has few extreme values toward  according to boxplot 4.0 analysis\n",
    "hostid colum canot be a good predictor for further analysis with diff colums .its not that important \n",
    "calculating max mean min quantile values is not needed "
   ]
  },
  {
   "cell_type": "code",
   "execution_count": 350,
   "id": "5e8bb9b5",
   "metadata": {},
   "outputs": [
    {
     "data": {
      "text/html": [
       "<div>\n",
       "<style scoped>\n",
       "    .dataframe tbody tr th:only-of-type {\n",
       "        vertical-align: middle;\n",
       "    }\n",
       "\n",
       "    .dataframe tbody tr th {\n",
       "        vertical-align: top;\n",
       "    }\n",
       "\n",
       "    .dataframe thead th {\n",
       "        text-align: right;\n",
       "    }\n",
       "</style>\n",
       "<table border=\"1\" class=\"dataframe\">\n",
       "  <thead>\n",
       "    <tr style=\"text-align: right;\">\n",
       "      <th></th>\n",
       "      <th>id</th>\n",
       "      <th>name</th>\n",
       "      <th>host_id</th>\n",
       "      <th>host_name</th>\n",
       "      <th>neighbourhood_group</th>\n",
       "      <th>neighbourhood</th>\n",
       "      <th>latitude</th>\n",
       "      <th>longitude</th>\n",
       "      <th>room_type</th>\n",
       "      <th>price</th>\n",
       "      <th>minimum_nights</th>\n",
       "      <th>number_of_reviews</th>\n",
       "      <th>last_review</th>\n",
       "      <th>reviews_per_month</th>\n",
       "      <th>calculated_host_listings_count</th>\n",
       "      <th>availability_365</th>\n",
       "    </tr>\n",
       "  </thead>\n",
       "  <tbody>\n",
       "    <tr>\n",
       "      <th>0</th>\n",
       "      <td>6369</td>\n",
       "      <td>Rooftop terrace room ,  ensuite bathroom</td>\n",
       "      <td>13660</td>\n",
       "      <td>Simon</td>\n",
       "      <td>Chamartín</td>\n",
       "      <td>Hispanoamérica</td>\n",
       "      <td>40.45724</td>\n",
       "      <td>-3.67688</td>\n",
       "      <td>Private room</td>\n",
       "      <td>60</td>\n",
       "      <td>1</td>\n",
       "      <td>78</td>\n",
       "      <td>2020-09-20</td>\n",
       "      <td>0.58</td>\n",
       "      <td>1</td>\n",
       "      <td>180</td>\n",
       "    </tr>\n",
       "    <tr>\n",
       "      <th>1</th>\n",
       "      <td>21853</td>\n",
       "      <td>Bright and airy room</td>\n",
       "      <td>83531</td>\n",
       "      <td>Abdel</td>\n",
       "      <td>Latina</td>\n",
       "      <td>Cármenes</td>\n",
       "      <td>40.40381</td>\n",
       "      <td>-3.74130</td>\n",
       "      <td>Private room</td>\n",
       "      <td>31</td>\n",
       "      <td>4</td>\n",
       "      <td>33</td>\n",
       "      <td>2018-07-15</td>\n",
       "      <td>0.42</td>\n",
       "      <td>2</td>\n",
       "      <td>364</td>\n",
       "    </tr>\n",
       "    <tr>\n",
       "      <th>2</th>\n",
       "      <td>23001</td>\n",
       "      <td>Apartmento Arganzuela- Madrid Rio</td>\n",
       "      <td>82175</td>\n",
       "      <td>Jesus</td>\n",
       "      <td>Arganzuela</td>\n",
       "      <td>Legazpi</td>\n",
       "      <td>40.38840</td>\n",
       "      <td>-3.69511</td>\n",
       "      <td>Entire home/apt</td>\n",
       "      <td>50</td>\n",
       "      <td>15</td>\n",
       "      <td>0</td>\n",
       "      <td>NaN</td>\n",
       "      <td>NaN</td>\n",
       "      <td>7</td>\n",
       "      <td>1</td>\n",
       "    </tr>\n",
       "    <tr>\n",
       "      <th>3</th>\n",
       "      <td>24805</td>\n",
       "      <td>Gran Via Studio Madrid</td>\n",
       "      <td>346366726</td>\n",
       "      <td>A</td>\n",
       "      <td>Centro</td>\n",
       "      <td>Universidad</td>\n",
       "      <td>40.42183</td>\n",
       "      <td>-3.70529</td>\n",
       "      <td>Entire home/apt</td>\n",
       "      <td>92</td>\n",
       "      <td>5</td>\n",
       "      <td>10</td>\n",
       "      <td>2020-03-01</td>\n",
       "      <td>0.13</td>\n",
       "      <td>1</td>\n",
       "      <td>72</td>\n",
       "    </tr>\n",
       "    <tr>\n",
       "      <th>4</th>\n",
       "      <td>26825</td>\n",
       "      <td>Single Room whith private Bathroom</td>\n",
       "      <td>114340</td>\n",
       "      <td>Agustina</td>\n",
       "      <td>Arganzuela</td>\n",
       "      <td>Legazpi</td>\n",
       "      <td>40.38975</td>\n",
       "      <td>-3.69018</td>\n",
       "      <td>Private room</td>\n",
       "      <td>26</td>\n",
       "      <td>2</td>\n",
       "      <td>149</td>\n",
       "      <td>2020-03-12</td>\n",
       "      <td>1.12</td>\n",
       "      <td>1</td>\n",
       "      <td>365</td>\n",
       "    </tr>\n",
       "    <tr>\n",
       "      <th>...</th>\n",
       "      <td>...</td>\n",
       "      <td>...</td>\n",
       "      <td>...</td>\n",
       "      <td>...</td>\n",
       "      <td>...</td>\n",
       "      <td>...</td>\n",
       "      <td>...</td>\n",
       "      <td>...</td>\n",
       "      <td>...</td>\n",
       "      <td>...</td>\n",
       "      <td>...</td>\n",
       "      <td>...</td>\n",
       "      <td>...</td>\n",
       "      <td>...</td>\n",
       "      <td>...</td>\n",
       "      <td>...</td>\n",
       "    </tr>\n",
       "    <tr>\n",
       "      <th>19613</th>\n",
       "      <td>49185822</td>\n",
       "      <td>Habitación con TV con Netflix en Lavapiés</td>\n",
       "      <td>172011610</td>\n",
       "      <td>Belaid</td>\n",
       "      <td>Centro</td>\n",
       "      <td>Embajadores</td>\n",
       "      <td>40.40756</td>\n",
       "      <td>-3.69937</td>\n",
       "      <td>Private room</td>\n",
       "      <td>23</td>\n",
       "      <td>30</td>\n",
       "      <td>0</td>\n",
       "      <td>NaN</td>\n",
       "      <td>NaN</td>\n",
       "      <td>8</td>\n",
       "      <td>349</td>\n",
       "    </tr>\n",
       "    <tr>\n",
       "      <th>19614</th>\n",
       "      <td>49186179</td>\n",
       "      <td>Habitación con TV con Netflix en Gaztambide</td>\n",
       "      <td>172011610</td>\n",
       "      <td>Belaid</td>\n",
       "      <td>Chamberí</td>\n",
       "      <td>Gaztambide</td>\n",
       "      <td>40.43706</td>\n",
       "      <td>-3.71364</td>\n",
       "      <td>Private room</td>\n",
       "      <td>21</td>\n",
       "      <td>30</td>\n",
       "      <td>0</td>\n",
       "      <td>NaN</td>\n",
       "      <td>NaN</td>\n",
       "      <td>8</td>\n",
       "      <td>350</td>\n",
       "    </tr>\n",
       "    <tr>\n",
       "      <th>19615</th>\n",
       "      <td>49187258</td>\n",
       "      <td>Habitación con TV con Netflix en Chamberí</td>\n",
       "      <td>172011610</td>\n",
       "      <td>Belaid</td>\n",
       "      <td>Chamberí</td>\n",
       "      <td>Arapiles</td>\n",
       "      <td>40.43857</td>\n",
       "      <td>-3.70715</td>\n",
       "      <td>Private room</td>\n",
       "      <td>22</td>\n",
       "      <td>7</td>\n",
       "      <td>0</td>\n",
       "      <td>NaN</td>\n",
       "      <td>NaN</td>\n",
       "      <td>8</td>\n",
       "      <td>364</td>\n",
       "    </tr>\n",
       "    <tr>\n",
       "      <th>19616</th>\n",
       "      <td>49187471</td>\n",
       "      <td>Habitación con TV con Netflix en Goya</td>\n",
       "      <td>172011610</td>\n",
       "      <td>Belaid</td>\n",
       "      <td>Salamanca</td>\n",
       "      <td>Guindalera</td>\n",
       "      <td>40.43027</td>\n",
       "      <td>-3.66759</td>\n",
       "      <td>Private room</td>\n",
       "      <td>19</td>\n",
       "      <td>30</td>\n",
       "      <td>0</td>\n",
       "      <td>NaN</td>\n",
       "      <td>NaN</td>\n",
       "      <td>8</td>\n",
       "      <td>349</td>\n",
       "    </tr>\n",
       "    <tr>\n",
       "      <th>19617</th>\n",
       "      <td>49187791</td>\n",
       "      <td>Habitación con TV con Netflix en Chamberí</td>\n",
       "      <td>172011610</td>\n",
       "      <td>Belaid</td>\n",
       "      <td>Chamberí</td>\n",
       "      <td>Arapiles</td>\n",
       "      <td>40.43484</td>\n",
       "      <td>-3.70667</td>\n",
       "      <td>Private room</td>\n",
       "      <td>20</td>\n",
       "      <td>30</td>\n",
       "      <td>0</td>\n",
       "      <td>NaN</td>\n",
       "      <td>NaN</td>\n",
       "      <td>8</td>\n",
       "      <td>349</td>\n",
       "    </tr>\n",
       "  </tbody>\n",
       "</table>\n",
       "<p>19618 rows × 16 columns</p>\n",
       "</div>"
      ],
      "text/plain": [
       "             id                                         name    host_id  \\\n",
       "0          6369     Rooftop terrace room ,  ensuite bathroom      13660   \n",
       "1         21853                         Bright and airy room      83531   \n",
       "2         23001            Apartmento Arganzuela- Madrid Rio      82175   \n",
       "3         24805                       Gran Via Studio Madrid  346366726   \n",
       "4         26825           Single Room whith private Bathroom     114340   \n",
       "...         ...                                          ...        ...   \n",
       "19613  49185822    Habitación con TV con Netflix en Lavapiés  172011610   \n",
       "19614  49186179  Habitación con TV con Netflix en Gaztambide  172011610   \n",
       "19615  49187258    Habitación con TV con Netflix en Chamberí  172011610   \n",
       "19616  49187471        Habitación con TV con Netflix en Goya  172011610   \n",
       "19617  49187791    Habitación con TV con Netflix en Chamberí  172011610   \n",
       "\n",
       "      host_name neighbourhood_group   neighbourhood  latitude  longitude  \\\n",
       "0         Simon           Chamartín  Hispanoamérica  40.45724   -3.67688   \n",
       "1         Abdel              Latina        Cármenes  40.40381   -3.74130   \n",
       "2         Jesus          Arganzuela         Legazpi  40.38840   -3.69511   \n",
       "3             A              Centro     Universidad  40.42183   -3.70529   \n",
       "4      Agustina          Arganzuela         Legazpi  40.38975   -3.69018   \n",
       "...         ...                 ...             ...       ...        ...   \n",
       "19613    Belaid              Centro     Embajadores  40.40756   -3.69937   \n",
       "19614    Belaid            Chamberí      Gaztambide  40.43706   -3.71364   \n",
       "19615    Belaid            Chamberí        Arapiles  40.43857   -3.70715   \n",
       "19616    Belaid           Salamanca      Guindalera  40.43027   -3.66759   \n",
       "19617    Belaid            Chamberí        Arapiles  40.43484   -3.70667   \n",
       "\n",
       "             room_type  price  minimum_nights  number_of_reviews last_review  \\\n",
       "0         Private room     60               1                 78  2020-09-20   \n",
       "1         Private room     31               4                 33  2018-07-15   \n",
       "2      Entire home/apt     50              15                  0         NaN   \n",
       "3      Entire home/apt     92               5                 10  2020-03-01   \n",
       "4         Private room     26               2                149  2020-03-12   \n",
       "...                ...    ...             ...                ...         ...   \n",
       "19613     Private room     23              30                  0         NaN   \n",
       "19614     Private room     21              30                  0         NaN   \n",
       "19615     Private room     22               7                  0         NaN   \n",
       "19616     Private room     19              30                  0         NaN   \n",
       "19617     Private room     20              30                  0         NaN   \n",
       "\n",
       "       reviews_per_month  calculated_host_listings_count  availability_365  \n",
       "0                   0.58                               1               180  \n",
       "1                   0.42                               2               364  \n",
       "2                    NaN                               7                 1  \n",
       "3                   0.13                               1                72  \n",
       "4                   1.12                               1               365  \n",
       "...                  ...                             ...               ...  \n",
       "19613                NaN                               8               349  \n",
       "19614                NaN                               8               350  \n",
       "19615                NaN                               8               364  \n",
       "19616                NaN                               8               349  \n",
       "19617                NaN                               8               349  \n",
       "\n",
       "[19618 rows x 16 columns]"
      ]
     },
     "execution_count": 350,
     "metadata": {},
     "output_type": "execute_result"
    }
   ],
   "source": [
    "airbnb_df"
   ]
  },
  {
   "cell_type": "markdown",
   "id": "f4f9abde",
   "metadata": {},
   "source": [
    "# latitude"
   ]
  },
  {
   "cell_type": "code",
   "execution_count": 351,
   "id": "8b75091a",
   "metadata": {},
   "outputs": [
    {
     "data": {
      "text/plain": [
       "792978.86015"
      ]
     },
     "execution_count": 351,
     "metadata": {},
     "output_type": "execute_result"
    }
   ],
   "source": [
    "airbnb_df[\"latitude\"].sum()"
   ]
  },
  {
   "cell_type": "code",
   "execution_count": 352,
   "id": "7dbe3060",
   "metadata": {},
   "outputs": [
    {
     "data": {
      "text/plain": [
       "40.56274"
      ]
     },
     "execution_count": 352,
     "metadata": {},
     "output_type": "execute_result"
    }
   ],
   "source": [
    "airbnb_df[\"latitude\"].max()"
   ]
  },
  {
   "cell_type": "code",
   "execution_count": 353,
   "id": "3845d084",
   "metadata": {},
   "outputs": [
    {
     "data": {
      "text/plain": [
       "40.33221"
      ]
     },
     "execution_count": 353,
     "metadata": {},
     "output_type": "execute_result"
    }
   ],
   "source": [
    "airbnb_df[\"latitude\"].min()"
   ]
  },
  {
   "cell_type": "code",
   "execution_count": 354,
   "id": "76c1ebd1",
   "metadata": {},
   "outputs": [
    {
     "data": {
      "text/plain": [
       "40.42098379804261"
      ]
     },
     "execution_count": 354,
     "metadata": {},
     "output_type": "execute_result"
    }
   ],
   "source": [
    "airbnb_df[\"latitude\"].mean()"
   ]
  },
  {
   "cell_type": "code",
   "execution_count": 355,
   "id": "45a50e66",
   "metadata": {},
   "outputs": [
    {
     "data": {
      "text/plain": [
       "0.022626926667915506"
      ]
     },
     "execution_count": 355,
     "metadata": {},
     "output_type": "execute_result"
    }
   ],
   "source": [
    "airbnb_df[\"latitude\"].std()"
   ]
  },
  {
   "cell_type": "code",
   "execution_count": 356,
   "id": "4e0a8c7e",
   "metadata": {},
   "outputs": [
    {
     "data": {
      "text/plain": [
       "array([40.45724, 40.40381, 40.3884 , ..., 40.45424, 40.46203, 40.37898])"
      ]
     },
     "execution_count": 356,
     "metadata": {},
     "output_type": "execute_result"
    }
   ],
   "source": [
    "airbnb_df[\"latitude\"].unique()"
   ]
  },
  {
   "cell_type": "code",
   "execution_count": 357,
   "id": "29d959ca",
   "metadata": {},
   "outputs": [
    {
     "data": {
      "text/plain": [
       "7536"
      ]
     },
     "execution_count": 357,
     "metadata": {},
     "output_type": "execute_result"
    }
   ],
   "source": [
    "airbnb_df[\"latitude\"].nunique()"
   ]
  },
  {
   "cell_type": "code",
   "execution_count": 358,
   "id": "3f658e09",
   "metadata": {},
   "outputs": [
    {
     "data": {
      "text/plain": [
       "0.44439622092520875"
      ]
     },
     "execution_count": 358,
     "metadata": {},
     "output_type": "execute_result"
    }
   ],
   "source": [
    "airbnb_df[\"latitude\"].skew()"
   ]
  },
  {
   "cell_type": "code",
   "execution_count": 359,
   "id": "780ab783",
   "metadata": {},
   "outputs": [
    {
     "data": {
      "text/plain": [
       "Text(0.5, 1.06, 'histogram plot of latitude')"
      ]
     },
     "execution_count": 359,
     "metadata": {},
     "output_type": "execute_result"
    },
    {
     "data": {
      "image/png": "[encoded data removed]",
      "text/plain": [
       "<Figure size 640x480 with 1 Axes>"
      ]
     },
     "metadata": {},
     "output_type": "display_data"
    }
   ],
   "source": [
    "sns.histplot(airbnb_df[\"latitude\"])\n",
    "plt.title('histogram plot of latitude',y=1.06)"
   ]
  },
  {
   "cell_type": "code",
   "execution_count": 360,
   "id": "4ad2c84b",
   "metadata": {},
   "outputs": [
    {
     "name": "stderr",
     "output_type": "stream",
     "text": [
      "C:\\Users\\Vishal\\AppData\\Local\\Temp\\ipykernel_16932\\1428211087.py:1: UserWarning: \n",
      "\n",
      "`distplot` is a deprecated function and will be removed in seaborn v0.14.0.\n",
      "\n",
      "Please adapt your code to use either `displot` (a figure-level function with\n",
      "similar flexibility) or `histplot` (an axes-level function for histograms).\n",
      "\n",
      "For a guide to updating your code to use the new functions, please see\n",
      "https://gist.github.com/mwaskom/de44147ed2974457ad6372750bbe5751\n",
      "\n",
      "  sns.distplot(airbnb_df[\"latitude\"])\n"
     ]
    },
    {
     "data": {
      "text/plain": [
       "Text(0.5, 1.06, 'distribution plot of latitude')"
      ]
     },
     "execution_count": 360,
     "metadata": {},
     "output_type": "execute_result"
    },
    {
     "data": {
      "image/png": "[encoded data removed]",
      "text/plain": [
       "<Figure size 640x480 with 1 Axes>"
      ]
     },
     "metadata": {},
     "output_type": "display_data"
    }
   ],
   "source": [
    "sns.distplot(airbnb_df[\"latitude\"])\n",
    "plt.title('distribution plot of latitude',y=1.06)"
   ]
  },
  {
   "cell_type": "code",
   "execution_count": 361,
   "id": "d8a54b46",
   "metadata": {},
   "outputs": [
    {
     "data": {
      "text/plain": [
       "Text(0.5, 1.06, 'box plot of latitude')"
      ]
     },
     "execution_count": 361,
     "metadata": {},
     "output_type": "execute_result"
    },
    {
     "data": {
      "image/png": "[encoded data removed]",
      "text/plain": [
       "<Figure size 640x480 with 1 Axes>"
      ]
     },
     "metadata": {},
     "output_type": "display_data"
    }
   ],
   "source": [
    "sns.boxplot(airbnb_df[\"latitude\"],color=\"blue\",orient='h')\n",
    "plt.title(\"box plot of latitude\",y=1.06)"
   ]
  },
  {
   "cell_type": "code",
   "execution_count": 362,
   "id": "a3ca4721",
   "metadata": {},
   "outputs": [
    {
     "data": {
      "text/plain": [
       "Text(0.5, 1.06, 'violin plot if latitude')"
      ]
     },
     "execution_count": 362,
     "metadata": {},
     "output_type": "execute_result"
    },
    {
     "data": {
      "image/png": "[encoded data removed]",
      "text/plain": [
       "<Figure size 640x480 with 1 Axes>"
      ]
     },
     "metadata": {},
     "output_type": "display_data"
    }
   ],
   "source": [
    "sns.violinplot(airbnb_df[\"latitude\"],color=\"plum\",orient='h')\n",
    "plt.title(\"violin plot if latitude\",y=1.06)"
   ]
  },
  {
   "cell_type": "code",
   "execution_count": 363,
   "id": "80c453b3",
   "metadata": {},
   "outputs": [
    {
     "data": {
      "text/plain": [
       "(40.395931000000004,\n",
       " 40.407464000000004,\n",
       " 40.4093925,\n",
       " 40.419735,\n",
       " 40.43029,\n",
       " 316691516.7)"
      ]
     },
     "execution_count": 363,
     "metadata": {},
     "output_type": "execute_result"
    }
   ],
   "source": [
    "airbnb_df[\"latitude\"].quantile(0.10),airbnb_df[\"latitude\"].quantile(0.20),airbnb_df[\"latitude\"].quantile(0.25),airbnb_df[\"latitude\"].quantile(0.50),airbnb_df[\"latitude\"].quantile(0.75),airbnb_df[\"host_id\"].quantile(0.90)"
   ]
  },
  {
   "cell_type": "code",
   "execution_count": 364,
   "id": "10ad2e7b",
   "metadata": {},
   "outputs": [
    {
     "ename": "SyntaxError",
     "evalue": "invalid syntax (1266558038.py, line 1)",
     "output_type": "error",
     "traceback": [
      "\u001b[1;36m  Cell \u001b[1;32mIn[364], line 1\u001b[1;36m\u001b[0m\n\u001b[1;33m    **latitude** Column has a symmetrical distribution with skew  which is 0.444  between -0.5 and 0.5 .\u001b[0m\n\u001b[1;37m    ^\u001b[0m\n\u001b[1;31mSyntaxError\u001b[0m\u001b[1;31m:\u001b[0m invalid syntax\n"
     ]
    }
   ],
   "source": [
    "**latitude** Column has a symmetrical distribution with skew  which is 0.444  between -0.5 and 0.5 . \n",
    "- Density curve for latitude is centred around mean 40.42  with standard deviation of 0.0226\n",
    "- Range of latitude  is from minimum 40.332  and maximum 40.562\n",
    ".\n",
    "- 10%  of latitude is 40.395\n",
    "- 20% of latitude is 40.407\n",
    "- 25% of latitude is 40.409\n",
    "- 50% of latitude is 40.419\n",
    "- 75% of latitude is 40.43029\n",
    "-90%  of latitude  is 316691516.7\n",
    "- latitude  has few extreme values toward 40.57 according to boxplot  analysis\n",
    "latitude colum can be a good predictor for further analysis with diff colums. \n",
    "calculating max min std and quantile value is not needed "
   ]
  },
  {
   "cell_type": "markdown",
   "id": "5b345e70",
   "metadata": {},
   "source": [
    "# longitude"
   ]
  },
  {
   "cell_type": "code",
   "execution_count": null,
   "id": "d5e71477",
   "metadata": {},
   "outputs": [],
   "source": [
    "airbnb_df[\"longitude\"].sum()"
   ]
  },
  {
   "cell_type": "code",
   "execution_count": null,
   "id": "3b85cd52",
   "metadata": {},
   "outputs": [],
   "source": [
    "airbnb_df[\"longitude\"].max()"
   ]
  },
  {
   "cell_type": "code",
   "execution_count": null,
   "id": "ae88ad06",
   "metadata": {},
   "outputs": [],
   "source": [
    "airbnb_df[\"longitude\"].min()"
   ]
  },
  {
   "cell_type": "code",
   "execution_count": null,
   "id": "c10b0c5e",
   "metadata": {},
   "outputs": [],
   "source": [
    "airbnb_df[\"longitude\"].mean()"
   ]
  },
  {
   "cell_type": "code",
   "execution_count": null,
   "id": "c027ffc5",
   "metadata": {},
   "outputs": [],
   "source": [
    "airbnb_df[\"longitude\"].std()"
   ]
  },
  {
   "cell_type": "code",
   "execution_count": null,
   "id": "8919e6fd",
   "metadata": {},
   "outputs": [],
   "source": [
    "airbnb_df[\"longitude\"].unique()"
   ]
  },
  {
   "cell_type": "code",
   "execution_count": null,
   "id": "9cfcd6ee",
   "metadata": {},
   "outputs": [],
   "source": [
    "airbnb_df[\"longitude\"].nunique()"
   ]
  },
  {
   "cell_type": "code",
   "execution_count": null,
   "id": "87a36d20",
   "metadata": {},
   "outputs": [],
   "source": [
    "airbnb_df[\"longitude\"].skew()"
   ]
  },
  {
   "cell_type": "code",
   "execution_count": null,
   "id": "8b27129e",
   "metadata": {},
   "outputs": [],
   "source": [
    "sns.histplot(airbnb_df[\"longitude\"])\n",
    "plt.title('histogram plot of longitude',y=1.06)"
   ]
  },
  {
   "cell_type": "code",
   "execution_count": null,
   "id": "ea148b36",
   "metadata": {},
   "outputs": [],
   "source": [
    "sns.distplot(airbnb_df[\"longitude\"])\n",
    "plt.title('distribution plot of longitude',y=1.06)"
   ]
  },
  {
   "cell_type": "code",
   "execution_count": null,
   "id": "4e2d3e25",
   "metadata": {},
   "outputs": [],
   "source": [
    "sns.boxplot(airbnb_df[\"longitude\"],color=\"blue\",orient='h')\n",
    "plt.title(\"box plot of longitute\",y=1.06)"
   ]
  },
  {
   "cell_type": "code",
   "execution_count": null,
   "id": "8e63a5cd",
   "metadata": {},
   "outputs": [],
   "source": [
    "sns.violinplot(airbnb_df[\"longitude\"],color=\"plum\",orient='h')\n",
    "plt.title(\"violin plot if longitude\",y=1.06)"
   ]
  },
  {
   "cell_type": "code",
   "execution_count": null,
   "id": "a9fc0bec",
   "metadata": {},
   "outputs": [],
   "source": [
    "airbnb_df[\"longitude\"].quantile(0.10),airbnb_df[\"longitude\"].quantile(0.20),airbnb_df[\"longitude\"].quantile(0.25),airbnb_df[\"longitude\"].quantile(0.50),airbnb_df[\"longitude\"].quantile(0.75),airbnb_df[\"longitude\"].quantile(0.90)"
   ]
  },
  {
   "cell_type": "code",
   "execution_count": null,
   "id": "3806ae68",
   "metadata": {},
   "outputs": [],
   "source": [
    "**latitude** Column has a asymmetrical distribution with skew  which is 1.28 which does not lie  between -0.5 and 0.5 . \n",
    "- Density curve for longitude  is centred around mean -3.6940  with standard deviation of 0.02867\n",
    "- Range of longitude is from minimum -3.8631 and maximum -3.5319\n",
    ".\n",
    "- 10%  of longitude is -3.71\n",
    "- 20% of longitude is -3.70\n",
    "- 25% of longitude is-3.707\n",
    "- 50% of longitude is *3.7011\n",
    "- 75% of longitude is -3.6845\n",
    "-90%  of longitude  is -3.68531\n",
    "- longitude  has few extreme values toward -3.556 according to boxplot  analysis\n",
    "longitude colum can be a good predictor for further analysis with diff colums. \n",
    "calculating max min std and quantile value is not needed "
   ]
  },
  {
   "cell_type": "code",
   "execution_count": null,
   "id": "16f335b1",
   "metadata": {},
   "outputs": [],
   "source": [
    "airbnb_df"
   ]
  },
  {
   "cell_type": "markdown",
   "id": "6f48c7b8",
   "metadata": {},
   "source": [
    "# price"
   ]
  },
  {
   "cell_type": "code",
   "execution_count": null,
   "id": "c5395cb9",
   "metadata": {},
   "outputs": [],
   "source": [
    "airbnb_df[\"price\"].sum()"
   ]
  },
  {
   "cell_type": "code",
   "execution_count": null,
   "id": "f5633717",
   "metadata": {},
   "outputs": [],
   "source": [
    "airbnb_df[\"price\"].max()"
   ]
  },
  {
   "cell_type": "code",
   "execution_count": null,
   "id": "4d6dd132",
   "metadata": {},
   "outputs": [],
   "source": [
    "airbnb_df[\"price\"].min()"
   ]
  },
  {
   "cell_type": "code",
   "execution_count": null,
   "id": "81e10251",
   "metadata": {},
   "outputs": [],
   "source": [
    "airbnb_df[\"price\"].mean()"
   ]
  },
  {
   "cell_type": "code",
   "execution_count": null,
   "id": "41927574",
   "metadata": {},
   "outputs": [],
   "source": [
    "airbnb_df[\"price\"].std()"
   ]
  },
  {
   "cell_type": "code",
   "execution_count": null,
   "id": "55453b8b",
   "metadata": {},
   "outputs": [],
   "source": [
    "airbnb_df[\"price\"].unique()"
   ]
  },
  {
   "cell_type": "code",
   "execution_count": null,
   "id": "5f56fd06",
   "metadata": {},
   "outputs": [],
   "source": [
    "airbnb_df[\"price\"].nunique()"
   ]
  },
  {
   "cell_type": "code",
   "execution_count": null,
   "id": "1261c97b",
   "metadata": {},
   "outputs": [],
   "source": [
    "airbnb_df[\"price\"].skew()"
   ]
  },
  {
   "cell_type": "code",
   "execution_count": null,
   "id": "1e572c16",
   "metadata": {},
   "outputs": [],
   "source": [
    "airbnb_df[\"price\"].sum()"
   ]
  },
  {
   "cell_type": "code",
   "execution_count": null,
   "id": "fb2bbea2",
   "metadata": {},
   "outputs": [],
   "source": [
    "sns.histplot(airbnb_df[\"price\"],bins=20)\n",
    "plt.title('histogram plot of price',y=1.06)"
   ]
  },
  {
   "cell_type": "code",
   "execution_count": null,
   "id": "9abd3005",
   "metadata": {},
   "outputs": [],
   "source": [
    "sns.distplot(airbnb_df[\"price\"])\n",
    "plt.title('distribution plot of price',y=1.06)"
   ]
  },
  {
   "cell_type": "code",
   "execution_count": null,
   "id": "856e19d0",
   "metadata": {},
   "outputs": [],
   "source": [
    "sns.boxplot(airbnb_df[\"price\"],color='red',orient='h')\n",
    "plt.title(\"box plot of price\",y=1.06)"
   ]
  },
  {
   "cell_type": "code",
   "execution_count": null,
   "id": "f36d3ff1",
   "metadata": {},
   "outputs": [],
   "source": [
    "sns.violinplot(airbnb_df[\"price\"],color=\"plum\",orient='h')\n",
    "plt.title(\"violin plot if price\",y=1.06)"
   ]
  },
  {
   "cell_type": "code",
   "execution_count": null,
   "id": "efdf82f7",
   "metadata": {},
   "outputs": [],
   "source": [
    "airbnb_df[\"price\"].quantile(0.10),airbnb_df[\"price\"].quantile(0.20),airbnb_df[\"price\"].quantile(0.25),airbnb_df[\"price\"].quantile(0.50),airbnb_df[\"price\"].quantile(0.75),airbnb_df[\"price\"].quantile(0.90)"
   ]
  },
  {
   "cell_type": "code",
   "execution_count": null,
   "id": "275513c6",
   "metadata": {},
   "outputs": [],
   "source": [
    "**price** Column has a asymmetrical distribution with skew  which is 15.44 which does not lie  between -0.5 and 0.5 . \n",
    "- Density curve for price  is centred around mean 129.27  with standard deviation of 484.13\n",
    "- Range of price is from minimum 0 and maximum 9999\n",
    ".\n",
    "- 10%  of price is 21.0\n",
    "- 20% of price is 30.0\n",
    "- 25% of price is 35.0\n",
    "- 50% of longitude is 58.0\n",
    "- 75% of longitude is 100.0\n",
    "-90%  of longitude  is 191.0\n",
    "- price  has few extreme values toward 10000 according to boxplot  analysis\n",
    "price colum can be a good predictor for further analysis with diff colums. "
   ]
  },
  {
   "cell_type": "markdown",
   "id": "38a257dd",
   "metadata": {},
   "source": [
    "# minimun night"
   ]
  },
  {
   "cell_type": "code",
   "execution_count": null,
   "id": "15f3359a",
   "metadata": {},
   "outputs": [],
   "source": [
    "airbnb_df[\"minimum_nights\"].sum()"
   ]
  },
  {
   "cell_type": "code",
   "execution_count": null,
   "id": "11e01d16",
   "metadata": {},
   "outputs": [],
   "source": [
    "airbnb_df[\"minimum_nights\"].min()"
   ]
  },
  {
   "cell_type": "code",
   "execution_count": null,
   "id": "0f245d4f",
   "metadata": {},
   "outputs": [],
   "source": [
    "airbnb_df[\"minimum_nights\"].max()"
   ]
  },
  {
   "cell_type": "code",
   "execution_count": null,
   "id": "a1c1867a",
   "metadata": {},
   "outputs": [],
   "source": [
    "airbnb_df[\"minimum_nights\"].mean()"
   ]
  },
  {
   "cell_type": "code",
   "execution_count": null,
   "id": "72df0171",
   "metadata": {},
   "outputs": [],
   "source": [
    "airbnb_df[\"minimum_nights\"].std()"
   ]
  },
  {
   "cell_type": "code",
   "execution_count": null,
   "id": "7366ee47",
   "metadata": {},
   "outputs": [],
   "source": [
    "airbnb_df[\"minimum_nights\"].std()"
   ]
  },
  {
   "cell_type": "code",
   "execution_count": null,
   "id": "677d55d3",
   "metadata": {},
   "outputs": [],
   "source": [
    "airbnb_df[\"minimum_nights\"].nunique()"
   ]
  },
  {
   "cell_type": "code",
   "execution_count": null,
   "id": "9695b186",
   "metadata": {},
   "outputs": [],
   "source": [
    "airbnb_df[\"minimum_nights\"].skew()"
   ]
  },
  {
   "cell_type": "code",
   "execution_count": null,
   "id": "a5709696",
   "metadata": {},
   "outputs": [],
   "source": [
    "sns.histplot(airbnb_df[\"minimum_nights\"],bins=20)\n",
    "plt.title('histogram plot of \"minimum_nights\"',y=1.06)"
   ]
  },
  {
   "cell_type": "code",
   "execution_count": null,
   "id": "d633b5f7",
   "metadata": {},
   "outputs": [],
   "source": [
    "sns.distplot(airbnb_df[\"minimum_nights\"])\n",
    "plt.title('distribution plot of \"minimum_nights\"',y=1.06)"
   ]
  },
  {
   "cell_type": "code",
   "execution_count": null,
   "id": "14c499f2",
   "metadata": {},
   "outputs": [],
   "source": [
    "sns.boxplot(airbnb_df[\"minimum_nights\"],color='green',orient='h')\n",
    "plt.title(\"box plot of minimum no of nights\",y=1.06)"
   ]
  },
  {
   "cell_type": "code",
   "execution_count": null,
   "id": "8b7f945d",
   "metadata": {},
   "outputs": [],
   "source": [
    "sns.violinplot(airbnb_df[\"minimum_nights\"],color=\"plum\",orient='h')\n",
    "plt.title(\"violin plot if minimum nights\",y=1.06)"
   ]
  },
  {
   "cell_type": "code",
   "execution_count": null,
   "id": "b9b1f322",
   "metadata": {},
   "outputs": [],
   "source": [
    "airbnb_df[\"minimum_nights\"].quantile(0.10),airbnb_df[\"minimum_nights\"].quantile(0.20),airbnb_df[\"minimum_nights\"].quantile(0.25),airbnb_df[\"minimum_nights\"].quantile(0.50),airbnb_df[\"minimum_nights\"].quantile(0.75),airbnb_df[\"minimum_nights\"].quantile(0.90)"
   ]
  },
  {
   "cell_type": "markdown",
   "id": "a43d8a45",
   "metadata": {},
   "source": [
    "**minimum night** Column has a asymmetrical distribution with skew  which is 20.97 which does not lie  between -0.5 and 0.5 . \n",
    "- Density curve for min nights is centred around mean 6.586  with standard deviation of 33.28\n",
    "- Range of min nights is from minimum 1 and maximum 1125\n",
    ".\n",
    "- 10%  of min nights is 1.0\n",
    "- 20% of min nights is 1.0\n",
    "- 25% of min nights is 1.0\n",
    "- 50% of min nights is 2.0\n",
    "- 75% of min nights is 3.0\n",
    "-90%  of min nights  is 10.0\n",
    "- min nights  has few extreme values toward 1500 according to boxplot  analysis\n",
    "min nights colum can be a good predictor for further analysis with diff colums. "
   ]
  },
  {
   "cell_type": "markdown",
   "id": "b0145041",
   "metadata": {},
   "source": [
    "# number of reviews "
   ]
  },
  {
   "cell_type": "code",
   "execution_count": null,
   "id": "a08bcbab",
   "metadata": {},
   "outputs": [],
   "source": [
    "airbnb_df[\"number_of_reviews\"].sum()"
   ]
  },
  {
   "cell_type": "code",
   "execution_count": null,
   "id": "bd0a4abb",
   "metadata": {},
   "outputs": [],
   "source": [
    "airbnb_df[\"number_of_reviews\"].max()"
   ]
  },
  {
   "cell_type": "code",
   "execution_count": null,
   "id": "bf925327",
   "metadata": {},
   "outputs": [],
   "source": [
    "airbnb_df[\"number_of_reviews\"].min()"
   ]
  },
  {
   "cell_type": "code",
   "execution_count": null,
   "id": "cc8d939d",
   "metadata": {},
   "outputs": [],
   "source": [
    "airbnb_df[\"number_of_reviews\"].mean()"
   ]
  },
  {
   "cell_type": "code",
   "execution_count": null,
   "id": "ccbbb010",
   "metadata": {},
   "outputs": [],
   "source": [
    "airbnb_df[\"number_of_reviews\"].std()"
   ]
  },
  {
   "cell_type": "code",
   "execution_count": null,
   "id": "76eabdb3",
   "metadata": {},
   "outputs": [],
   "source": [
    "airbnb_df[\"number_of_reviews\"].unique()"
   ]
  },
  {
   "cell_type": "code",
   "execution_count": null,
   "id": "f31128df",
   "metadata": {},
   "outputs": [],
   "source": [
    "airbnb_df[\"number_of_reviews\"].nunique()"
   ]
  },
  {
   "cell_type": "code",
   "execution_count": null,
   "id": "5dd85f7b",
   "metadata": {},
   "outputs": [],
   "source": [
    "airbnb_df[\"number_of_reviews\"].skew()"
   ]
  },
  {
   "cell_type": "code",
   "execution_count": null,
   "id": "0aa293cd",
   "metadata": {},
   "outputs": [],
   "source": [
    "sns.histplot(airbnb_df[\"number_of_reviews\"],bins=20)\n",
    "plt.title('histogram plot of \"number_of_reviews\"',y=1.06)"
   ]
  },
  {
   "cell_type": "code",
   "execution_count": null,
   "id": "689ef865",
   "metadata": {},
   "outputs": [],
   "source": [
    "sns.distplot(airbnb_df[\"number_of_reviews\"])\n",
    "plt.title('distribution plot of \"\"number_of_reviews\"\"',y=1.06)"
   ]
  },
  {
   "cell_type": "code",
   "execution_count": null,
   "id": "3fcb6ae0",
   "metadata": {},
   "outputs": [],
   "source": [
    "sns.boxplot(airbnb_df[\"number_of_reviews\"],color='red',orient='h')\n",
    "plt.title(\"box plot of number of reviews\",y=1.06)"
   ]
  },
  {
   "cell_type": "code",
   "execution_count": null,
   "id": "6866eecb",
   "metadata": {},
   "outputs": [],
   "source": [
    "sns.violinplot(airbnb_df[\"number_of_reviews\"],color=\"plum\",orient='h')\n",
    "plt.title(\"violin plot if number of reviews \",y=1.06)"
   ]
  },
  {
   "cell_type": "code",
   "execution_count": null,
   "id": "6e0d5f11",
   "metadata": {},
   "outputs": [],
   "source": [
    "airbnb_df[\"number_of_reviews\"].quantile(0.10),airbnb_df[\"number_of_reviews\"].quantile(0.20),airbnb_df[\"number_of_reviews\"].quantile(0.25),airbnb_df[\"number_of_reviews\"].quantile(0.50),airbnb_df[\"number_of_reviews\"].quantile(0.75),airbnb_df[\"number_of_reviews\"].quantile(0.90)"
   ]
  },
  {
   "cell_type": "code",
   "execution_count": null,
   "id": "97d24b59",
   "metadata": {},
   "outputs": [],
   "source": [
    "**no of reviews** Column has a asymmetrical distribution with skew 3.439 which does not lie  between -0.5 and 0.5 . \n",
    "- Density curve for no of review  is centred around mean 31.85 with standard deviation of 63.93\n",
    "- Range of no of review is from minimum 0 and maximum 706\n",
    ".\n",
    "- 10%  of no of reviews is 0.0\n",
    "- 20% of no of reviews is 0.0\n",
    "- 25% of no if reviews is 0.0\n",
    "- 50% of no of reviews is 4.0\n",
    " - 75% of no of reviews is 31.0\n",
    "-90%  of no of reviews is 102.0\n",
    "- no of reviews  has few extreme values toward 750 according to boxplot  analysis\n",
    "no of reviews  colum can be a good predictor for further analysis with diff colums. \n",
    "calculating max min std and quantile value is not needed "
   ]
  },
  {
   "cell_type": "markdown",
   "id": "a9a473cb",
   "metadata": {},
   "source": [
    "# last review"
   ]
  },
  {
   "cell_type": "code",
   "execution_count": null,
   "id": "2ed14f8f",
   "metadata": {},
   "outputs": [],
   "source": [
    "airbnb_df"
   ]
  },
  {
   "cell_type": "code",
   "execution_count": null,
   "id": "62cd867e",
   "metadata": {},
   "outputs": [],
   "source": [
    "airbnb_df[\"last_review\"].sum()"
   ]
  },
  {
   "cell_type": "code",
   "execution_count": null,
   "id": "68bd4c3c",
   "metadata": {},
   "outputs": [],
   "source": [
    "airbnb_df[\"last_review\"].max()"
   ]
  },
  {
   "cell_type": "code",
   "execution_count": null,
   "id": "1a474a46",
   "metadata": {},
   "outputs": [],
   "source": [
    "airbnb_df[\"last_review\"].min()"
   ]
  },
  {
   "cell_type": "code",
   "execution_count": null,
   "id": "1884d53e",
   "metadata": {},
   "outputs": [],
   "source": [
    "airbnb_df[].mean()"
   ]
  },
  {
   "cell_type": "code",
   "execution_count": null,
   "id": "2e517db7",
   "metadata": {},
   "outputs": [],
   "source": [
    "airbnb_df[\"last_review\"].std()"
   ]
  },
  {
   "cell_type": "code",
   "execution_count": null,
   "id": "c447ea2d",
   "metadata": {},
   "outputs": [],
   "source": [
    "airbnb_df[\"last_review\"].unique()"
   ]
  },
  {
   "cell_type": "code",
   "execution_count": null,
   "id": "a27435c6",
   "metadata": {},
   "outputs": [],
   "source": [
    "airbnb_df[\"last_review\"].nunique()"
   ]
  },
  {
   "cell_type": "code",
   "execution_count": null,
   "id": "3e7cca5a",
   "metadata": {},
   "outputs": [],
   "source": [
    "airbnb_df[\"last_review\"].skew()"
   ]
  },
  {
   "cell_type": "code",
   "execution_count": null,
   "id": "b6807481",
   "metadata": {},
   "outputs": [],
   "source": [
    "sns.histplot(airbnb_df[\"last_review\"],bins=20)\n",
    "plt.title('histogram plot of \"last_review\"',y=1.06)"
   ]
  },
  {
   "cell_type": "code",
   "execution_count": null,
   "id": "aca1c33b",
   "metadata": {},
   "outputs": [],
   "source": [
    "sns.distplot(airbnb_df[\"last_review\"])\n",
    "plt.title('distribution plot of \"last_review\"',y=1.06)"
   ]
  },
  {
   "cell_type": "code",
   "execution_count": null,
   "id": "5aab8c52",
   "metadata": {},
   "outputs": [],
   "source": [
    "sns.boxplot(airbnb_df[\"last_review\"],color='red',orient='h')\n",
    "plt.title(\"box plot of last review\"),y=1.06)"
   ]
  },
  {
   "cell_type": "code",
   "execution_count": null,
   "id": "6907e5a6",
   "metadata": {},
   "outputs": [],
   "source": [
    "sns.violinplot(airbnb_df[\"last_review\"],color=\"plum\",orient='h')\n",
    "plt.title(\"violin plot of last reviews \",y=1.06)"
   ]
  },
  {
   "cell_type": "code",
   "execution_count": null,
   "id": "43fc02c4",
   "metadata": {},
   "outputs": [],
   "source": [
    "airbnb_df[\"last_review\"].quantile(0.10),airbnb_df[\"last_review\"].quantile(0.20),airbnb_df[\"last_review\"].quantile(0.25),airbnb_df[\"last_review\"].quantile(0.50),airbnb_df[\"last_review\"].quantile(0.75),airbnb_df[\"last_review\"].quantile(0.90)"
   ]
  },
  {
   "cell_type": "markdown",
   "id": "8307f704",
   "metadata": {},
   "source": [
    "# reviews_per_month"
   ]
  },
  {
   "cell_type": "code",
   "execution_count": null,
   "id": "e03af9d3",
   "metadata": {},
   "outputs": [],
   "source": [
    "airbnb_df[\"reviews_per_month\"].sum()"
   ]
  },
  {
   "cell_type": "code",
   "execution_count": null,
   "id": "a3944fe2",
   "metadata": {},
   "outputs": [],
   "source": [
    "airbnb_df[\"reviews_per_month\"].sum()"
   ]
  },
  {
   "cell_type": "code",
   "execution_count": null,
   "id": "a202701f",
   "metadata": {},
   "outputs": [],
   "source": [
    "airbnb_df[\"reviews_per_month\"].max()"
   ]
  },
  {
   "cell_type": "code",
   "execution_count": null,
   "id": "2f1bb21e",
   "metadata": {},
   "outputs": [],
   "source": [
    "airbnb_df[\"reviews_per_month\"].min()"
   ]
  },
  {
   "cell_type": "code",
   "execution_count": null,
   "id": "233abc3f",
   "metadata": {},
   "outputs": [],
   "source": [
    "airbnb_df[\"reviews_per_month\"].mean()"
   ]
  },
  {
   "cell_type": "code",
   "execution_count": null,
   "id": "95888e55",
   "metadata": {},
   "outputs": [],
   "source": [
    "airbnb_df[\"reviews_per_month\"].std()"
   ]
  },
  {
   "cell_type": "code",
   "execution_count": null,
   "id": "54996115",
   "metadata": {},
   "outputs": [],
   "source": [
    "airbnb_df[\"reviews_per_month\"].unique()"
   ]
  },
  {
   "cell_type": "code",
   "execution_count": null,
   "id": "36211e1a",
   "metadata": {},
   "outputs": [],
   "source": [
    "airbnb_df[\"reviews_per_month\"].nunique()"
   ]
  },
  {
   "cell_type": "code",
   "execution_count": null,
   "id": "e6f4c19a",
   "metadata": {},
   "outputs": [],
   "source": [
    "airbnb_df[\"reviews_per_month\"].skew()"
   ]
  },
  {
   "cell_type": "code",
   "execution_count": null,
   "id": "827bc73f",
   "metadata": {},
   "outputs": [],
   "source": [
    "sns.histplot(airbnb_df[\"reviews_per_month\"],bins=20)\n",
    "plt.title('histogram plot of reviews per month',y=1.06)"
   ]
  },
  {
   "cell_type": "code",
   "execution_count": null,
   "id": "b934ac8e",
   "metadata": {},
   "outputs": [],
   "source": [
    "sns.distplot(airbnb_df[\"reviews_per_month\"])\n",
    "plt.title('distribution plot of reviews per month',y=1.06)"
   ]
  },
  {
   "cell_type": "code",
   "execution_count": null,
   "id": "5fad34a6",
   "metadata": {},
   "outputs": [],
   "source": [
    "sns.boxplot(airbnb_df[\"reviews_per_month\"],color='red',orient='h')\n",
    "plt.title(\"box plot of reviews per month\",y=1.06)"
   ]
  },
  {
   "cell_type": "code",
   "execution_count": null,
   "id": "d4d81771",
   "metadata": {},
   "outputs": [],
   "source": [
    "sns.violinplot(airbnb_df[\"reviews_per_month\"],color=\"plum\",orient='h')\n",
    "plt.title(\"violin plot of reviews per month \",y=1.06)"
   ]
  },
  {
   "cell_type": "code",
   "execution_count": null,
   "id": "4f92254e",
   "metadata": {},
   "outputs": [],
   "source": [
    "airbnb_df[\"reviews_per_month\"].quantile(0.10),airbnb_df[\"reviews_per_month\"].quantile(0.20),airbnb_df[\"reviews_per_month\"].quantile(0.25),airbnb_df[\"reviews_per_month\"].quantile(0.50),airbnb_df[\"reviews_per_month\"].quantile(0.75),airbnb_df[\"reviews_per_month\"].quantile(0.90)"
   ]
  },
  {
   "cell_type": "code",
   "execution_count": null,
   "id": "c67b763e",
   "metadata": {},
   "outputs": [],
   "source": [
    "**reviews per month** Column has a asymmetrical distribution with skew 2.05 which does not lie  between -0.5 and 0.5 . \n",
    "- Density curve for reviews per month   is centred around mean 1.125 with standard deviation of 1.348\n",
    "- Range of reviews per month is from minimum 0.01 and maximum 16.22\n",
    ".\n",
    "- 10%  of reviews per month is 0.06\n",
    "- 20% of reviews per month is  0.13\n",
    "- 25% of reviws per month is 0.17\n",
    "- 50% of rreviews per month is 0.59\n",
    " - 75% of reviews per month is 1.63\n",
    "-90%  of reviews per month 3.0\n",
    "- reviews per month  has few extreme values toward  17 according to boxplot  analysis\n",
    "-reviews per month   colum can be a good predictor for further analysis with diff colums. \n",
    "calculating max min std and quantile value is not needed "
   ]
  },
  {
   "cell_type": "markdown",
   "id": "8f3af02d",
   "metadata": {},
   "source": [
    "# calculated_host_listings_count"
   ]
  },
  {
   "cell_type": "code",
   "execution_count": null,
   "id": "fbd72cbb",
   "metadata": {},
   "outputs": [],
   "source": [
    "airbnb_df[\"calculated_host_listings_count\"].sum()"
   ]
  },
  {
   "cell_type": "code",
   "execution_count": null,
   "id": "837da166",
   "metadata": {},
   "outputs": [],
   "source": [
    "airbnb_df[\"calculated_host_listings_count\"].max()"
   ]
  },
  {
   "cell_type": "code",
   "execution_count": null,
   "id": "46eb4cbc",
   "metadata": {},
   "outputs": [],
   "source": [
    "airbnb_df[\"calculated_host_listings_count\"].min()"
   ]
  },
  {
   "cell_type": "code",
   "execution_count": null,
   "id": "dcf14cbd",
   "metadata": {},
   "outputs": [],
   "source": [
    "airbnb_df[\"calculated_host_listings_count\"].mean()"
   ]
  },
  {
   "cell_type": "code",
   "execution_count": null,
   "id": "36cdef88",
   "metadata": {},
   "outputs": [],
   "source": [
    "airbnb_df[\"calculated_host_listings_count\"].std()"
   ]
  },
  {
   "cell_type": "code",
   "execution_count": null,
   "id": "1cb3a9f2",
   "metadata": {},
   "outputs": [],
   "source": [
    "airbnb_df[\"calculated_host_listings_count\"].unique()"
   ]
  },
  {
   "cell_type": "code",
   "execution_count": null,
   "id": "956bf6c6",
   "metadata": {},
   "outputs": [],
   "source": [
    "airbnb_df[\"calculated_host_listings_count\"].nunique()"
   ]
  },
  {
   "cell_type": "code",
   "execution_count": null,
   "id": "ee735ee2",
   "metadata": {},
   "outputs": [],
   "source": [
    "airbnb_df[\"calculated_host_listings_count\"].skew()"
   ]
  },
  {
   "cell_type": "code",
   "execution_count": null,
   "id": "b1427716",
   "metadata": {},
   "outputs": [],
   "source": [
    "sns.histplot(airbnb_df[\"calculated_host_listings_count\"],bins=20)\n",
    "plt.title('histogram plot of calculated host listing count',y=1.06)"
   ]
  },
  {
   "cell_type": "code",
   "execution_count": null,
   "id": "fabf469f",
   "metadata": {},
   "outputs": [],
   "source": [
    "sns.distplot(airbnb_df[\"calculated_host_listings_count\"])\n",
    "plt.title('distribution plot of calculated host listing count',y=1.06)"
   ]
  },
  {
   "cell_type": "code",
   "execution_count": null,
   "id": "258a2d48",
   "metadata": {},
   "outputs": [],
   "source": [
    "sns.boxplot(airbnb_df[\"calculated_host_listings_count\"],color='red',orient='h')\n",
    "plt.title(\"box plot of calculated host listing count\",y=1.06)"
   ]
  },
  {
   "cell_type": "code",
   "execution_count": null,
   "id": "3c32692a",
   "metadata": {},
   "outputs": [],
   "source": [
    "sns.violinplot(airbnb_df[\"calculated_host_listings_count\"],color=\"plum\",orient='h')\n",
    "plt.title(\"violin plot of calculates host listing count \",y=1.06)"
   ]
  },
  {
   "cell_type": "code",
   "execution_count": null,
   "id": "4f4b69af",
   "metadata": {},
   "outputs": [],
   "source": [
    "airbnb_df[\"calculated_host_listings_count\"].quantile(0.10),airbnb_df[\"calculated_host_listings_count\"].quantile(0.20),airbnb_df[\"calculated_host_listings_count\"].quantile(0.25),airbnb_df[\"calculated_host_listings_count\"].quantile(0.50),airbnb_df[\"calculated_host_listings_count\"].quantile(0.75),airbnb_df[\"calculated_host_listings_count\"].quantile(0.90)"
   ]
  },
  {
   "cell_type": "code",
   "execution_count": null,
   "id": "3ea195aa",
   "metadata": {},
   "outputs": [],
   "source": [
    "**calculated field under counts** Column has a asymmetrical distribution with skew 4.01 which does not lie  between -0.5 and 0.5 . \n",
    "- Density curve for cal field  is centred around mean 10.229 with standard deviation of 23.54\n",
    "- Range of calculated field under counts is from minimum 1 and maximum 163\n",
    "\n",
    ".- 10%  of calculate field 1.0\n",
    "\n",
    "- 20% of calculated filed is  1.0\n",
    "- 25% of calculated filed is 1.0\n",
    "- 50% of calculated field is 2.0\n",
    " - 75% of calculated field is 6.0\n",
    "-90%  of calculated field is 26.0\n",
    "\n",
    "- calculated field under counts has few extreme values toward  170 according to boxplot  analysis\n",
    "-calculated field under counts   colum can be a good predictor for further analysis with diff colums. \n",
    "calculating max min std and quantile value is not needed "
   ]
  },
  {
   "cell_type": "markdown",
   "id": "6ae2e5e9",
   "metadata": {},
   "source": [
    "# availibility_365"
   ]
  },
  {
   "cell_type": "code",
   "execution_count": null,
   "id": "593d2cc7",
   "metadata": {},
   "outputs": [],
   "source": [
    "airbnb_df"
   ]
  },
  {
   "cell_type": "code",
   "execution_count": null,
   "id": "72bec6c9",
   "metadata": {},
   "outputs": [],
   "source": [
    "airbnb_df[\"availability_365\"].sum()"
   ]
  },
  {
   "cell_type": "code",
   "execution_count": null,
   "id": "3204c6da",
   "metadata": {},
   "outputs": [],
   "source": [
    "airbnb_df[\"availability_365\"].sum()"
   ]
  },
  {
   "cell_type": "code",
   "execution_count": null,
   "id": "dd8ec535",
   "metadata": {},
   "outputs": [],
   "source": [
    "airbnb_df[\"availability_365\"].max()"
   ]
  },
  {
   "cell_type": "code",
   "execution_count": null,
   "id": "8b90fc14",
   "metadata": {},
   "outputs": [],
   "source": [
    "airbnb_df[\"availability_365\"].min()"
   ]
  },
  {
   "cell_type": "code",
   "execution_count": null,
   "id": "c7e60116",
   "metadata": {},
   "outputs": [],
   "source": [
    "airbnb_df[\"availability_365\"].mean()"
   ]
  },
  {
   "cell_type": "code",
   "execution_count": null,
   "id": "068e089d",
   "metadata": {},
   "outputs": [],
   "source": [
    "airbnb_df[\"availability_365\"].std()"
   ]
  },
  {
   "cell_type": "code",
   "execution_count": null,
   "id": "fadc5867",
   "metadata": {},
   "outputs": [],
   "source": [
    "airbnb_df[\"availability_365\"].unique()"
   ]
  },
  {
   "cell_type": "code",
   "execution_count": null,
   "id": "61554ba4",
   "metadata": {},
   "outputs": [],
   "source": [
    "airbnb_df[\"availability_365\"].nunique()"
   ]
  },
  {
   "cell_type": "code",
   "execution_count": null,
   "id": "5efe1c60",
   "metadata": {},
   "outputs": [],
   "source": [
    "airbnb_df[\"availability_365\"].skew()"
   ]
  },
  {
   "cell_type": "code",
   "execution_count": null,
   "id": "032c5d5f",
   "metadata": {},
   "outputs": [],
   "source": [
    "sns.histplot(airbnb_df[\"availability_365\"],bins=20)\n",
    "plt.title('histogram plot of availibility',y=1.06)"
   ]
  },
  {
   "cell_type": "code",
   "execution_count": null,
   "id": "18988c07",
   "metadata": {},
   "outputs": [],
   "source": [
    "sns.distplot(airbnb_df[\"availability_365\"])\n",
    "plt.title('distribution plot of \"availability_365\"',y=1.06)"
   ]
  },
  {
   "cell_type": "code",
   "execution_count": null,
   "id": "d2233ee9",
   "metadata": {},
   "outputs": [],
   "source": [
    "sns.boxplot(airbnb_df[\"availability_365\"],color='red',orient='h')\n",
    "plt.title(\"box plot of availibility_365\",y=1.06)"
   ]
  },
  {
   "cell_type": "code",
   "execution_count": null,
   "id": "19e953d6",
   "metadata": {},
   "outputs": [],
   "source": [
    "sns.violinplot(airbnb_df[\"availability_365\"],color=\"plum\",orient='h')\n",
    "plt.title(\"violin plot of avilibility 365 \",y=1.06)"
   ]
  },
  {
   "cell_type": "code",
   "execution_count": null,
   "id": "41c81b0b",
   "metadata": {},
   "outputs": [],
   "source": [
    "airbnb_df[\"availability_365\"].quantile(0.10),airbnb_df[\"availability_365\"].quantile(0.20),airbnb_df[\"availability_365\"].quantile(0.25),airbnb_df[\"availability_365\"].quantile(0.50),airbnb_df[\"availability_365\"].quantile(0.75),airbnb_df[\"availability_365\"].quantile(0.90)"
   ]
  },
  {
   "cell_type": "markdown",
   "id": "7334518d",
   "metadata": {},
   "source": [
    "**availibility 365** Column has a symmetrical distribution with skew 0.26  which  lie  between -0.5 and 0.5 . \n",
    "- Density curve for availibility  is centred around mean 159.098 with standard deviation of 144.25\n",
    "- Range of availibility 365 is from minimum 0 and maximum 365\n",
    "\n",
    ".- 10%  of avilibility_365 0.0\n",
    "\n",
    "- 20% of avilibility_365 is  0.0\n",
    "- 25% of avilibility_365 is 0.0\n",
    "- 50% of availibility_365 is 126.0\n",
    " - 75% of avilibility_365 is 320.0\n",
    "-90%  of avilibility_365 is 364.0\n",
    "\n",
    "- availibilty_365 has few extreme values toward  350 according to boxplot  analysis\n",
    "-availibility_365 under counts   colum can be a good predictor for further analysis with diff colums. \n",
    "calculating max min std and quantile value is not needed "
   ]
  },
  {
   "cell_type": "markdown",
   "id": "8d4de806",
   "metadata": {},
   "source": [
    "# categorical colum analysis"
   ]
  },
  {
   "cell_type": "code",
   "execution_count": null,
   "id": "12f6c015",
   "metadata": {},
   "outputs": [],
   "source": [
    "airbnb_df"
   ]
  },
  {
   "cell_type": "markdown",
   "id": "370bea91",
   "metadata": {},
   "source": [
    "# name"
   ]
  },
  {
   "cell_type": "code",
   "execution_count": null,
   "id": "d5d6ae70",
   "metadata": {},
   "outputs": [],
   "source": [
    "airbnb_df[\"name\"].value_counts().sort_values(ascending=True)"
   ]
  },
  {
   "cell_type": "code",
   "execution_count": null,
   "id": "1ca3c42d",
   "metadata": {},
   "outputs": [],
   "source": [
    "airbnb_df[\"name\"].count()"
   ]
  },
  {
   "cell_type": "code",
   "execution_count": null,
   "id": "59743f6f",
   "metadata": {},
   "outputs": [],
   "source": [
    "airbnb_df[\"name\"].isnull()"
   ]
  },
  {
   "cell_type": "code",
   "execution_count": null,
   "id": "2a25b9f2",
   "metadata": {},
   "outputs": [],
   "source": [
    "count plot cannot be ploted due to large amount of data "
   ]
  },
  {
   "cell_type": "markdown",
   "id": "ae4dcff4",
   "metadata": {},
   "source": [
    "# host name"
   ]
  },
  {
   "cell_type": "code",
   "execution_count": null,
   "id": "9b8193d3",
   "metadata": {},
   "outputs": [],
   "source": [
    "airbnb_df[\"host_name\"].value_counts().sort_values(ascending=True)"
   ]
  },
  {
   "cell_type": "code",
   "execution_count": null,
   "id": "8af16411",
   "metadata": {},
   "outputs": [],
   "source": [
    "airbnb_df[\"host_name\"].count()"
   ]
  },
  {
   "cell_type": "code",
   "execution_count": null,
   "id": "525231aa",
   "metadata": {},
   "outputs": [],
   "source": [
    "airbnb_df[\"host_name\"].isnull()"
   ]
  },
  {
   "cell_type": "markdown",
   "id": "3982c884",
   "metadata": {},
   "source": [
    "count plot is not possible best host name has large amount of data "
   ]
  },
  {
   "cell_type": "markdown",
   "id": "ffa98998",
   "metadata": {},
   "source": [
    "# neighbourhood_group\t"
   ]
  },
  {
   "cell_type": "code",
   "execution_count": null,
   "id": "fe0330a2",
   "metadata": {},
   "outputs": [],
   "source": [
    "airbnb_df[\"neighbourhood_group\"].value_counts().sort_values(ascending=True)"
   ]
  },
  {
   "cell_type": "code",
   "execution_count": null,
   "id": "318e193e",
   "metadata": {},
   "outputs": [],
   "source": [
    "airbnb_df[\"neighbourhood_group\"].count()"
   ]
  },
  {
   "cell_type": "code",
   "execution_count": null,
   "id": "448e56de",
   "metadata": {},
   "outputs": [],
   "source": [
    "airbnb_df[\"neighbourhood_group\"].isnull()"
   ]
  },
  {
   "cell_type": "code",
   "execution_count": null,
   "id": "def91051",
   "metadata": {},
   "outputs": [],
   "source": [
    "sns.countplot(x=airbnb_df[\"neighbourhood_group\"])\n",
    "plt.figure(figsize=(100,500))\n",
    "plt.title(\"count plot of neighbourhood group\",y=1.6)"
   ]
  },
  {
   "cell_type": "markdown",
   "id": "eae4b1c2",
   "metadata": {},
   "source": [
    "# neighbourhood"
   ]
  },
  {
   "cell_type": "code",
   "execution_count": null,
   "id": "b07088f1",
   "metadata": {},
   "outputs": [],
   "source": [
    "airbnb_df[\"neighbourhood\"].value_counts().sort_values(ascending=True)"
   ]
  },
  {
   "cell_type": "code",
   "execution_count": null,
   "id": "72494582",
   "metadata": {},
   "outputs": [],
   "source": [
    "airbnb_df[\"neighbourhood\"].count()"
   ]
  },
  {
   "cell_type": "code",
   "execution_count": null,
   "id": "200f413a",
   "metadata": {},
   "outputs": [],
   "source": [
    "airbnb_df[\"neighbourhood\"].isnull()"
   ]
  },
  {
   "cell_type": "code",
   "execution_count": null,
   "id": "38b6221d",
   "metadata": {},
   "outputs": [],
   "source": [
    "sns.countplot(x=airbnb_df[\"neighbourhood\"])"
   ]
  },
  {
   "cell_type": "code",
   "execution_count": null,
   "id": "190329e9",
   "metadata": {},
   "outputs": [],
   "source": [
    "airbnb_df"
   ]
  },
  {
   "cell_type": "markdown",
   "id": "81cf4ebe",
   "metadata": {},
   "source": [
    "# room_type\t"
   ]
  },
  {
   "cell_type": "code",
   "execution_count": null,
   "id": "a76aee84",
   "metadata": {},
   "outputs": [],
   "source": [
    "airbnb_df[\"room_type\"].value_counts().sort_values(ascending=True)"
   ]
  },
  {
   "cell_type": "code",
   "execution_count": null,
   "id": "4cf0ed23",
   "metadata": {},
   "outputs": [],
   "source": [
    "airbnb_df[\"room_type\"].count()"
   ]
  },
  {
   "cell_type": "code",
   "execution_count": null,
   "id": "addfc0fa",
   "metadata": {},
   "outputs": [],
   "source": [
    "airbnb_df[\"room_type\"].isnull()"
   ]
  },
  {
   "cell_type": "code",
   "execution_count": null,
   "id": "12dc8127",
   "metadata": {},
   "outputs": [],
   "source": [
    "sns.countplot(x=airbnb_df[\"room_type\"])"
   ]
  },
  {
   "cell_type": "markdown",
   "id": "2a518728",
   "metadata": {},
   "source": [
    "from the above findings we can say entire home apartment booking is more followed by provate room then shared room and lest is hotel room"
   ]
  },
  {
   "cell_type": "markdown",
   "id": "f17dba5a",
   "metadata": {},
   "source": [
    "# combining numberical and categorical columns "
   ]
  },
  {
   "cell_type": "code",
   "execution_count": null,
   "id": "68280110",
   "metadata": {},
   "outputs": [],
   "source": [
    "airbnb_df"
   ]
  },
  {
   "cell_type": "markdown",
   "id": "3b6cadbf",
   "metadata": {},
   "source": [
    "# combining name and id"
   ]
  },
  {
   "cell_type": "markdown",
   "id": "04026036",
   "metadata": {},
   "source": [
    "calulate the the sum and counr of name according to id?"
   ]
  },
  {
   "cell_type": "code",
   "execution_count": null,
   "id": "3be3e320",
   "metadata": {},
   "outputs": [],
   "source": [
    "airbnb_df.groupby(\"name\")[\"id\"].count()"
   ]
  },
  {
   "cell_type": "code",
   "execution_count": null,
   "id": "90a46ba8",
   "metadata": {},
   "outputs": [],
   "source": [
    "airbnb_df.groupby(\"name\")[\"id\"].sum()"
   ]
  },
  {
   "cell_type": "code",
   "execution_count": null,
   "id": "415e50b9",
   "metadata": {},
   "outputs": [],
   "source": [
    "sns.barplot(airbnb_df,x='id',y='neighbourhood_group',errorbar=None)\n",
    "plt.title(\"bar plot of neighbourhoodgroups and id\",y=1.06)"
   ]
  },
  {
   "cell_type": "markdown",
   "id": "c4d28ec9",
   "metadata": {},
   "source": [
    "from the above findings we can say tetuan,moratalaz,usera cuidad lineal is max  and from the above fraph we cpme to ranking of neighbourbood group according to id"
   ]
  },
  {
   "cell_type": "markdown",
   "id": "54d239c5",
   "metadata": {},
   "source": [
    "# combining name name and minimum nights"
   ]
  },
  {
   "cell_type": "code",
   "execution_count": null,
   "id": "284ec05a",
   "metadata": {},
   "outputs": [],
   "source": [
    "whsy is te sum max min and count of name according to minimum nights?"
   ]
  },
  {
   "cell_type": "code",
   "execution_count": null,
   "id": "90c9d320",
   "metadata": {},
   "outputs": [],
   "source": [
    "airbnb_df.groupby(\"name\")[\"minimum_nights\"].min()"
   ]
  },
  {
   "cell_type": "code",
   "execution_count": null,
   "id": "95a4d44c",
   "metadata": {},
   "outputs": [],
   "source": [
    "airbnb_df.groupby(\"name\")[\"minimum_nights\"].sum()"
   ]
  },
  {
   "cell_type": "code",
   "execution_count": null,
   "id": "e0fd14f0",
   "metadata": {},
   "outputs": [],
   "source": [
    "airbnb_df.groupby(\"name\")[\"minimum_nights\"].max()"
   ]
  },
  {
   "cell_type": "code",
   "execution_count": null,
   "id": "26ed9316",
   "metadata": {},
   "outputs": [],
   "source": [
    "sns.barplot(airbnb_df,x='name',y='minimum_nights',errorbar=None)\n"
   ]
  },
  {
   "cell_type": "code",
   "execution_count": null,
   "id": "8262e9c8",
   "metadata": {},
   "outputs": [],
   "source": [
    "airbnb_df"
   ]
  },
  {
   "cell_type": "markdown",
   "id": "ccbcb362",
   "metadata": {},
   "source": [
    "# combining roomtype and minimum no of nights "
   ]
  },
  {
   "cell_type": "markdown",
   "id": "b5fad0c5",
   "metadata": {},
   "source": [
    "what is the sum maximum ninimum and count of roomtype depending on minimum no of nights?"
   ]
  },
  {
   "cell_type": "code",
   "execution_count": null,
   "id": "15268ab0",
   "metadata": {},
   "outputs": [],
   "source": [
    "airbnb_df.groupby(\"minimum_nights\")[\"room_type\"].count()"
   ]
  },
  {
   "cell_type": "code",
   "execution_count": null,
   "id": "527a560b",
   "metadata": {},
   "outputs": [],
   "source": [
    "airbnb_df.groupby(\"room_type\")[\"minimum_nights\"].count()"
   ]
  },
  {
   "cell_type": "code",
   "execution_count": null,
   "id": "60355490",
   "metadata": {},
   "outputs": [],
   "source": [
    "airbnb_df.groupby(\"minimum_nights\")[\"room_type\"].max()"
   ]
  },
  {
   "cell_type": "code",
   "execution_count": null,
   "id": "a9904dd1",
   "metadata": {},
   "outputs": [],
   "source": [
    "airbnb_df.groupby(\"minimum_nights\")[\"room_type\"].min()"
   ]
  },
  {
   "cell_type": "code",
   "execution_count": null,
   "id": "585d8aaa",
   "metadata": {},
   "outputs": [],
   "source": [
    "airbnb_df.groupby(\"minimum_nights\")[\"room_type\"].sum()"
   ]
  },
  {
   "cell_type": "code",
   "execution_count": null,
   "id": "1b78c100",
   "metadata": {},
   "outputs": [],
   "source": [
    "sns.barplot(airbnb_df,x='room_type',y=\"minimum_nights\",errorbar=None)"
   ]
  },
  {
   "cell_type": "markdown",
   "id": "9677075f",
   "metadata": {},
   "source": [
    "from the above findings we can say minimum no of nightis more in hotel followed by entire home /apt ,private room and shared room "
   ]
  },
  {
   "cell_type": "markdown",
   "id": "25573a2d",
   "metadata": {},
   "source": [
    "# combining neighbourhood group and no of reviews "
   ]
  },
  {
   "cell_type": "code",
   "execution_count": null,
   "id": "e9ab3b0e",
   "metadata": {},
   "outputs": [],
   "source": [
    "what is the sum maximum ninimum and count of number of reviews as per neighbourhood group?"
   ]
  },
  {
   "cell_type": "code",
   "execution_count": null,
   "id": "8a003719",
   "metadata": {},
   "outputs": [],
   "source": [
    "airbnb_df.groupby(\"neighbourhood_group\")[\"number_of_reviews\"].count()"
   ]
  },
  {
   "cell_type": "code",
   "execution_count": null,
   "id": "d2391aa0",
   "metadata": {},
   "outputs": [],
   "source": [
    "airbnb_df.groupby(\"neighbourhood_group\")[\"number_of_reviews\"].max()"
   ]
  },
  {
   "cell_type": "code",
   "execution_count": null,
   "id": "664bb6fc",
   "metadata": {},
   "outputs": [],
   "source": [
    "airbnb_df.groupby(\"neighbourhood_group\")[\"number_of_reviews\"].min()"
   ]
  },
  {
   "cell_type": "code",
   "execution_count": null,
   "id": "bacbca88",
   "metadata": {},
   "outputs": [],
   "source": [
    "airbnb_df.groupby(\"neighbourhood_group\")[\"number_of_reviews\"].sum()"
   ]
  },
  {
   "cell_type": "code",
   "execution_count": null,
   "id": "4a609544",
   "metadata": {},
   "outputs": [],
   "source": [
    "sns.barplot(airbnb_df,x=\"number_of_reviews\",y=\"neighbourhood_group\",errorbar=None)"
   ]
  },
  {
   "cell_type": "markdown",
   "id": "ed247395",
   "metadata": {},
   "source": [
    "from the above findings we can no of reviews of barjas is more folowwed by centro and arganzuela"
   ]
  },
  {
   "cell_type": "markdown",
   "id": "33d28dd3",
   "metadata": {},
   "source": [
    "# combining neighbourhood and reviews per month"
   ]
  },
  {
   "cell_type": "markdown",
   "id": "5b617167",
   "metadata": {},
   "source": [
    "what is the sum maximum ninimum and count of number of reviewsper month  as per neighbourhood group?"
   ]
  },
  {
   "cell_type": "code",
   "execution_count": null,
   "id": "8db9042a",
   "metadata": {},
   "outputs": [],
   "source": [
    "airbnb_df.groupby(\"neighbourhood_group\")[\"reviews_per_month\"].count()"
   ]
  },
  {
   "cell_type": "code",
   "execution_count": null,
   "id": "d5edbe11",
   "metadata": {},
   "outputs": [],
   "source": [
    "airbnb_df.groupby(\"neighbourhood_group\")[\"reviews_per_month\"].max()"
   ]
  },
  {
   "cell_type": "code",
   "execution_count": null,
   "id": "b99bace9",
   "metadata": {},
   "outputs": [],
   "source": [
    "airbnb_df.groupby(\"neighbourhood_group\")[\"reviews_per_month\"].min()"
   ]
  },
  {
   "cell_type": "code",
   "execution_count": null,
   "id": "ebf67579",
   "metadata": {},
   "outputs": [],
   "source": [
    "sns.barplot(airbnb_df,x=\"reviews_per_month\",y=\"neighbourhood_group\",errorbar=None)"
   ]
  },
  {
   "cell_type": "code",
   "execution_count": null,
   "id": "8c79ee47",
   "metadata": {},
   "outputs": [],
   "source": [
    "from the above findings we can no of reviews per month  of barjas is more folowwed by centro and arganzuela"
   ]
  },
  {
   "cell_type": "code",
   "execution_count": null,
   "id": "e480e618",
   "metadata": {},
   "outputs": [],
   "source": [
    "airbnb_df"
   ]
  },
  {
   "cell_type": "markdown",
   "id": "a3ac183a",
   "metadata": {},
   "source": [
    "# combining calculated_host_listings_count with neighbouthood group"
   ]
  },
  {
   "cell_type": "markdown",
   "id": "711c0864",
   "metadata": {},
   "source": [
    "what is the sum maximum ninimum and count of calculated_host_listings_count  as per neighbourhood group?"
   ]
  },
  {
   "cell_type": "code",
   "execution_count": null,
   "id": "b5c290a7",
   "metadata": {},
   "outputs": [],
   "source": [
    "airbnb_df.groupby(\"neighbourhood_group\")[\"calculated_host_listings_count\"].count()"
   ]
  },
  {
   "cell_type": "code",
   "execution_count": null,
   "id": "dd09edd3",
   "metadata": {},
   "outputs": [],
   "source": [
    "airbnb_df.groupby(\"neighbourhood_group\")[\"calculated_host_listings_count\"].sum()"
   ]
  },
  {
   "cell_type": "code",
   "execution_count": null,
   "id": "65c192f2",
   "metadata": {},
   "outputs": [],
   "source": [
    "airbnb_df.groupby(\"neighbourhood_group\")[\"calculated_host_listings_count\"].max()"
   ]
  },
  {
   "cell_type": "code",
   "execution_count": null,
   "id": "5eedf6ec",
   "metadata": {},
   "outputs": [],
   "source": [
    "airbnb_df.groupby(\"neighbourhood_group\")[\"calculated_host_listings_count\"].min()"
   ]
  },
  {
   "cell_type": "code",
   "execution_count": null,
   "id": "ffdf3831",
   "metadata": {},
   "outputs": [],
   "source": [
    "sns.barplot(airbnb_df,x=\"calculated_host_listings_count\",y=\"neighbourhood_group\",errorbar=None)"
   ]
  },
  {
   "cell_type": "markdown",
   "id": "dbdcb290",
   "metadata": {},
   "source": [
    "according to calculated_host_listings_count neighbourhood group salamanca has higest  followed by chamberi and centro"
   ]
  },
  {
   "cell_type": "markdown",
   "id": "a2c6f4c4",
   "metadata": {},
   "source": [
    "# combining availability_365 with neighbourhood groups"
   ]
  },
  {
   "cell_type": "markdown",
   "id": "7b7b21a7",
   "metadata": {},
   "source": [
    "what is the sum maximum ninimum and count of vailibility_365  as per neighbourhood group?"
   ]
  },
  {
   "cell_type": "code",
   "execution_count": null,
   "id": "8e0b6af9",
   "metadata": {},
   "outputs": [],
   "source": [
    "airbnb_df.groupby(\"neighbourhood_group\")[\"availability_365\"].count()"
   ]
  },
  {
   "cell_type": "code",
   "execution_count": null,
   "id": "0dcdcf18",
   "metadata": {},
   "outputs": [],
   "source": [
    "airbnb_df.groupby(\"neighbourhood_group\")[\"availability_365\"].sum()"
   ]
  },
  {
   "cell_type": "code",
   "execution_count": null,
   "id": "b643d92e",
   "metadata": {},
   "outputs": [],
   "source": [
    "airbnb_df.groupby(\"neighbourhood_group\")[\"availability_365\"].max()"
   ]
  },
  {
   "cell_type": "code",
   "execution_count": null,
   "id": "a804f3dc",
   "metadata": {},
   "outputs": [],
   "source": [
    "airbnb_df.groupby(\"neighbourhood_group\")[\"availability_365\"].min()"
   ]
  },
  {
   "cell_type": "code",
   "execution_count": null,
   "id": "8dbb2967",
   "metadata": {},
   "outputs": [],
   "source": [
    "sns.barplot(airbnb_df,x=\"availability_365\",y=\"neighbourhood_group\",errorbar=None)"
   ]
  },
  {
   "cell_type": "markdown",
   "id": "4e229347",
   "metadata": {},
   "source": [
    "according to the above findings we can say according to the neighbourhood group availibility of vicalvaro is more compared to puente de vallecas\n",
    "san blas and villade vallecas is same "
   ]
  },
  {
   "cell_type": "markdown",
   "id": "99f570a1",
   "metadata": {},
   "source": [
    "# combining neighbourhood group with price"
   ]
  },
  {
   "cell_type": "markdown",
   "id": "dddc4625",
   "metadata": {},
   "source": [
    "what is the maximum and minimum as per neighbourhood group?"
   ]
  },
  {
   "cell_type": "code",
   "execution_count": null,
   "id": "71d11d25",
   "metadata": {},
   "outputs": [],
   "source": [
    "airbnb_df.groupby(\"neighbourhood_group\")[\"price\"].max()"
   ]
  },
  {
   "cell_type": "code",
   "execution_count": null,
   "id": "ac4a466c",
   "metadata": {},
   "outputs": [],
   "source": [
    "airbnb_df.groupby(\"neighbourhood_group\")[\"price\"].min()"
   ]
  },
  {
   "cell_type": "code",
   "execution_count": null,
   "id": "4cc183f8",
   "metadata": {},
   "outputs": [],
   "source": [
    "sns.barplot(airbnb_df,x=\"price\",y=\"neighbourhood_group\",errorbar=None)"
   ]
  },
  {
   "cell_type": "markdown",
   "id": "65d64e34",
   "metadata": {},
   "source": [
    "according to the above findings we can say sanblas price is max folwwed by villaverde"
   ]
  },
  {
   "cell_type": "code",
   "execution_count": null,
   "id": "5f15c4e3",
   "metadata": {},
   "outputs": [],
   "source": [
    "airbnb_df"
   ]
  },
  {
   "cell_type": "markdown",
   "id": "eef590ea",
   "metadata": {},
   "source": [
    "# combining room type and minimum no if nights"
   ]
  },
  {
   "cell_type": "code",
   "execution_count": null,
   "id": "b77b2e15",
   "metadata": {},
   "outputs": [],
   "source": [
    "what is the maximum and minimum roomtypes according to minimum of nights?"
   ]
  },
  {
   "cell_type": "code",
   "execution_count": null,
   "id": "12a6300a",
   "metadata": {},
   "outputs": [],
   "source": [
    "airbnb_df.groupby(\"room_type\")[\"minimum_nights\"].max()"
   ]
  },
  {
   "cell_type": "code",
   "execution_count": null,
   "id": "1a9910f8",
   "metadata": {},
   "outputs": [],
   "source": [
    "airbnb_df.groupby(\"room_type\")[\"minimum_nights\"].min()"
   ]
  },
  {
   "cell_type": "code",
   "execution_count": null,
   "id": "ce55f4d5",
   "metadata": {},
   "outputs": [],
   "source": [
    "sns.barplot(airbnb_df,x=\"room_type\",y=\"minimum_nights\",errorbar=None)"
   ]
  },
  {
   "cell_type": "markdown",
   "id": "8b419d84",
   "metadata": {},
   "source": [
    " according to the above findings we can say maximum room type according to min no of night is hotel room followed by entire apt,private room and shared room"
   ]
  },
  {
   "cell_type": "markdown",
   "id": "83c85197",
   "metadata": {},
   "source": [
    "# combining room type and availibility"
   ]
  },
  {
   "cell_type": "markdown",
   "id": "73414bdd",
   "metadata": {},
   "source": [
    "what is the maximum and minimum and count of availibility accorfing to room type?"
   ]
  },
  {
   "cell_type": "code",
   "execution_count": null,
   "id": "edaf2ed3",
   "metadata": {},
   "outputs": [],
   "source": [
    "airbnb_df.groupby(\"room_type\")[\"availability_365\"].max()"
   ]
  },
  {
   "cell_type": "code",
   "execution_count": null,
   "id": "1611a101",
   "metadata": {},
   "outputs": [],
   "source": [
    "airbnb_df.groupby(\"room_type\")[\"availability_365\"].min()"
   ]
  },
  {
   "cell_type": "code",
   "execution_count": null,
   "id": "6dfcaf78",
   "metadata": {},
   "outputs": [],
   "source": [
    "airbnb_df.groupby(\"room_type\")[\"availability_365\"].count()"
   ]
  },
  {
   "cell_type": "code",
   "execution_count": null,
   "id": "16eade63",
   "metadata": {},
   "outputs": [],
   "source": [
    "sns.barplot(airbnb_df,x=\"availability_365\",y=\"room_type\",errorbar=None)"
   ]
  },
  {
   "cell_type": "code",
   "execution_count": null,
   "id": "d4698e6e",
   "metadata": {},
   "outputs": [],
   "source": [
    "according to the above findinds we can say avalibility of hotel is more compared to sharedroom,apartment and private room"
   ]
  },
  {
   "cell_type": "markdown",
   "id": "4e646e5d",
   "metadata": {},
   "source": [
    "# combining room type and reviews per month "
   ]
  },
  {
   "cell_type": "code",
   "execution_count": null,
   "id": "a0424628",
   "metadata": {},
   "outputs": [],
   "source": [
    "what is the maximum and minimum and count of room type according to review?"
   ]
  },
  {
   "cell_type": "code",
   "execution_count": null,
   "id": "3b422ac4",
   "metadata": {},
   "outputs": [],
   "source": [
    "airbnb_df.groupby(\"room_type\")[\"reviews_per_month\"].max()"
   ]
  },
  {
   "cell_type": "code",
   "execution_count": null,
   "id": "613cbd1e",
   "metadata": {},
   "outputs": [],
   "source": [
    "airbnb_df.groupby(\"room_type\")[\"reviews_per_month\"].min()"
   ]
  },
  {
   "cell_type": "code",
   "execution_count": null,
   "id": "978a9927",
   "metadata": {},
   "outputs": [],
   "source": [
    "airbnb_df.groupby(\"room_type\")[\"reviews_per_month\"].count()"
   ]
  },
  {
   "cell_type": "code",
   "execution_count": null,
   "id": "be032ce3",
   "metadata": {},
   "outputs": [],
   "source": [
    "sns.barplot(airbnb_df,x=\"reviews_per_month\",y=\"room_type\",errorbar=None)"
   ]
  },
  {
   "cell_type": "markdown",
   "id": "b274a8b8",
   "metadata": {},
   "source": [
    "from the above findings we can say the review of the entire apartment is more followed by private room,hotel room and shared room "
   ]
  },
  {
   "cell_type": "code",
   "execution_count": null,
   "id": "0649fc15",
   "metadata": {},
   "outputs": [],
   "source": [
    "airbnb_df"
   ]
  },
  {
   "cell_type": "markdown",
   "id": "24e36d41",
   "metadata": {},
   "source": [
    "# combining neighbourhood and price"
   ]
  },
  {
   "cell_type": "code",
   "execution_count": null,
   "id": "331814f8",
   "metadata": {},
   "outputs": [],
   "source": [
    "what is the maximum and minimum price according to neighbourhood?"
   ]
  },
  {
   "cell_type": "code",
   "execution_count": null,
   "id": "090b0ba8",
   "metadata": {},
   "outputs": [],
   "source": [
    "airbnb_df.groupby(\"neighbourhood\")[\"price\"].max()"
   ]
  },
  {
   "cell_type": "code",
   "execution_count": null,
   "id": "9b31fb15",
   "metadata": {},
   "outputs": [],
   "source": [
    "airbnb_df.groupby(\"neighbourhood\")[\"price\"].min()"
   ]
  },
  {
   "cell_type": "code",
   "execution_count": null,
   "id": "fa2ef02b",
   "metadata": {},
   "outputs": [],
   "source": [
    "sns.barplot(airbnb_df,x=\"neighbourhood\",y=\"price\",errorbar=None)\n"
   ]
  },
  {
   "cell_type": "code",
   "execution_count": null,
   "id": "ce397c1b",
   "metadata": {},
   "outputs": [],
   "source": [
    "airbnb_df"
   ]
  },
  {
   "cell_type": "markdown",
   "id": "8a88f933",
   "metadata": {},
   "source": [
    "# combining neighbourhood with room type"
   ]
  },
  {
   "cell_type": "code",
   "execution_count": null,
   "id": "deca4203",
   "metadata": {},
   "outputs": [],
   "source": [
    "airbnb_df.groupby(\"neighbourhood\")[\"room_type\"].max()"
   ]
  },
  {
   "cell_type": "code",
   "execution_count": null,
   "id": "5e22bd07",
   "metadata": {},
   "outputs": [],
   "source": [
    "airbnb_df.groupby(\"neighbourhood\")[\"room_type\"].min()"
   ]
  },
  {
   "cell_type": "code",
   "execution_count": null,
   "id": "66e5302c",
   "metadata": {},
   "outputs": [],
   "source": [
    "airbnb_df.groupby(\"neighbourhood\")[\"room_type\"].count()"
   ]
  },
  {
   "cell_type": "markdown",
   "id": "e605c0fd",
   "metadata": {},
   "source": [
    "as both are categorical not numerical valur is there barplot cannot be ploted\n"
   ]
  },
  {
   "cell_type": "markdown",
   "id": "823d62fc",
   "metadata": {},
   "source": [
    "# combining neighbourhood and minimum_nights"
   ]
  },
  {
   "cell_type": "code",
   "execution_count": null,
   "id": "9b1281d6",
   "metadata": {},
   "outputs": [],
   "source": [
    "airbnb_df.groupby(\"neighbourhood\")[\"minimum_nights\"].max()"
   ]
  },
  {
   "cell_type": "code",
   "execution_count": null,
   "id": "d7ee052c",
   "metadata": {},
   "outputs": [],
   "source": [
    "airbnb_df.groupby(\"neighbourhood\")[\"minimum_nights\"].min()"
   ]
  },
  {
   "cell_type": "code",
   "execution_count": null,
   "id": "6f041de1",
   "metadata": {},
   "outputs": [],
   "source": [
    "airbnb_df.groupby(\"neighbourhood\")[\"minimum_nights\"].count()"
   ]
  },
  {
   "cell_type": "code",
   "execution_count": null,
   "id": "51538e9a",
   "metadata": {},
   "outputs": [],
   "source": [
    "sns.barplot(airbnb_df,x=\"neighbourhood\",y=\"minimum_nights\",errorbar=None)\n"
   ]
  },
  {
   "cell_type": "markdown",
   "id": "bd9de4e1",
   "metadata": {},
   "source": [
    "# combining neighbourhood and availibility_365"
   ]
  },
  {
   "cell_type": "code",
   "execution_count": null,
   "id": "0d2f3562",
   "metadata": {},
   "outputs": [],
   "source": [
    "what is tha min and max availibility according to neighbourhood?"
   ]
  },
  {
   "cell_type": "code",
   "execution_count": null,
   "id": "3dd63196",
   "metadata": {},
   "outputs": [],
   "source": [
    "airbnb_df.groupby(\"neighbourhood\")[\"availability_365\"].max()"
   ]
  },
  {
   "cell_type": "code",
   "execution_count": null,
   "id": "1e240317",
   "metadata": {},
   "outputs": [],
   "source": [
    "airbnb_df.groupby(\"neighbourhood\")[\"availability_365\"].min()"
   ]
  },
  {
   "cell_type": "code",
   "execution_count": null,
   "id": "90570cfc",
   "metadata": {},
   "outputs": [],
   "source": [
    "airbnb_df.groupby(\"neighbourhood\")[\"availability_365\"].count()"
   ]
  },
  {
   "cell_type": "code",
   "execution_count": null,
   "id": "1abe9f97",
   "metadata": {},
   "outputs": [],
   "source": [
    "sns.barplot(airbnb_df,x=\"neighbourhood\",y=\"availability_365\",errorbar=None)\n"
   ]
  },
  {
   "cell_type": "code",
   "execution_count": null,
   "id": "3cf01b53",
   "metadata": {},
   "outputs": [],
   "source": [
    "airbnb_df"
   ]
  },
  {
   "cell_type": "markdown",
   "id": "8322cb85",
   "metadata": {},
   "source": [
    "# combining rom type and last review"
   ]
  },
  {
   "cell_type": "code",
   "execution_count": null,
   "id": "acb55062",
   "metadata": {},
   "outputs": [],
   "source": [
    "airbnb_df.groupby(\"room_type\")[\"last_review\"].count()"
   ]
  },
  {
   "cell_type": "code",
   "execution_count": null,
   "id": "2b21a7c2",
   "metadata": {},
   "outputs": [],
   "source": [
    "\n"
   ]
  },
  {
   "cell_type": "code",
   "execution_count": null,
   "id": "64fdb5b2",
   "metadata": {},
   "outputs": [],
   "source": []
  },
  {
   "cell_type": "markdown",
   "id": "862be835",
   "metadata": {},
   "source": [
    "# combining name and price"
   ]
  },
  {
   "cell_type": "code",
   "execution_count": null,
   "id": "08a7aaca",
   "metadata": {},
   "outputs": [],
   "source": [
    "whst is the maximum and nim fare paid according to name?"
   ]
  },
  {
   "cell_type": "code",
   "execution_count": null,
   "id": "21025fb0",
   "metadata": {},
   "outputs": [],
   "source": [
    "airbnb_df.groupby(\"name\")[\"price\"].max()"
   ]
  },
  {
   "cell_type": "code",
   "execution_count": null,
   "id": "57daf9e4",
   "metadata": {},
   "outputs": [],
   "source": [
    "airbnb_df.groupby(\"name\")[\"price\"].min()"
   ]
  },
  {
   "cell_type": "code",
   "execution_count": null,
   "id": "04a011e5",
   "metadata": {},
   "outputs": [],
   "source": [
    "sns.barplot(airbnb_df,x=\"name\",y=\"price\",errorbar=None)\n"
   ]
  },
  {
   "cell_type": "code",
   "execution_count": null,
   "id": "74a6b6fb",
   "metadata": {},
   "outputs": [],
   "source": [
    "airbnb_df"
   ]
  },
  {
   "cell_type": "markdown",
   "id": "0247b6c0",
   "metadata": {},
   "source": [
    "# combining multiple columns"
   ]
  },
  {
   "cell_type": "markdown",
   "id": "2ad6824f",
   "metadata": {},
   "source": [
    "# combining neighbourhood price and minimum no of nights "
   ]
  },
  {
   "cell_type": "code",
   "execution_count": null,
   "id": "89011b31",
   "metadata": {},
   "outputs": [],
   "source": [
    "what is the max and mini price of minimum nights according to neighbourhood?"
   ]
  },
  {
   "cell_type": "code",
   "execution_count": null,
   "id": "57d4b452",
   "metadata": {},
   "outputs": [],
   "source": [
    "airbnb_df.groupby(\"price\")[\"neighbourhood\",\"minimum_nights\"].max()"
   ]
  },
  {
   "cell_type": "code",
   "execution_count": null,
   "id": "ecbdcb21",
   "metadata": {},
   "outputs": [],
   "source": [
    "airbnb_df.groupby(\"price\")[\"neighbourhood\",\"minimum_nights\"].min()"
   ]
  },
  {
   "cell_type": "markdown",
   "id": "a3e9151d",
   "metadata": {},
   "source": [
    "# combining neighbourhoodgroup  price and minimum nights?\n"
   ]
  },
  {
   "cell_type": "code",
   "execution_count": null,
   "id": "bfd5d0aa",
   "metadata": {},
   "outputs": [],
   "source": [
    "what is the max and min price of neighbourhood according to minimum nights?"
   ]
  },
  {
   "cell_type": "code",
   "execution_count": null,
   "id": "5ef7b640",
   "metadata": {},
   "outputs": [],
   "source": [
    "airbnb_df.groupby(\"price\")[\"neighbourhood_group\",\"minimum_nights\"].max()"
   ]
  },
  {
   "cell_type": "code",
   "execution_count": null,
   "id": "608ee088",
   "metadata": {},
   "outputs": [],
   "source": [
    "sns.barplot(airbnb_df,x=\"minimum_nights\",y=\"neighbourhood_group\",hue=\"price\",errorbar=None)\n"
   ]
  },
  {
   "cell_type": "code",
   "execution_count": null,
   "id": "1be1968d",
   "metadata": {},
   "outputs": [],
   "source": [
    "airbnb_df.isnull().sum()"
   ]
  },
  {
   "cell_type": "code",
   "execution_count": null,
   "id": "048fba0a",
   "metadata": {},
   "outputs": [],
   "source": [
    "airbnb_df"
   ]
  },
  {
   "cell_type": "markdown",
   "id": "7f7a94a7",
   "metadata": {},
   "source": [
    "# filling null values"
   ]
  },
  {
   "cell_type": "markdown",
   "id": "b4c04b41",
   "metadata": {},
   "source": [
    "# review per month"
   ]
  },
  {
   "cell_type": "code",
   "execution_count": null,
   "id": "55532e88",
   "metadata": {},
   "outputs": [],
   "source": [
    "airbnb_df[\"reviews_per_month\"].mode()"
   ]
  },
  {
   "cell_type": "code",
   "execution_count": null,
   "id": "7f0d2138",
   "metadata": {},
   "outputs": [],
   "source": [
    "airbnb_df[\"reviews_per_month\"].fillna(0.06,inplace=True)"
   ]
  },
  {
   "cell_type": "code",
   "execution_count": null,
   "id": "9ab42ed8",
   "metadata": {},
   "outputs": [],
   "source": [
    "airbnb_df.isnull().sum()"
   ]
  },
  {
   "cell_type": "markdown",
   "id": "64df4c12",
   "metadata": {},
   "source": [
    "# lat_review"
   ]
  },
  {
   "cell_type": "code",
   "execution_count": null,
   "id": "95dc3c20",
   "metadata": {},
   "outputs": [],
   "source": [
    "airbnb_df[\"last_review\"].mode()"
   ]
  },
  {
   "cell_type": "code",
   "execution_count": null,
   "id": "9fb15838",
   "metadata": {},
   "outputs": [],
   "source": [
    "airbnb_df[\"last_review\"].fillna(2020-3-1,inplace=True)"
   ]
  },
  {
   "cell_type": "code",
   "execution_count": null,
   "id": "15ac27a5",
   "metadata": {},
   "outputs": [],
   "source": [
    "airbnb_df.isnull().sum()"
   ]
  },
  {
   "cell_type": "markdown",
   "id": "62076c6a",
   "metadata": {},
   "source": [
    "# host_name"
   ]
  },
  {
   "cell_type": "code",
   "execution_count": null,
   "id": "0f658240",
   "metadata": {},
   "outputs": [],
   "source": [
    "airbnb_df[\"host_name\"].mode()"
   ]
  },
  {
   "cell_type": "code",
   "execution_count": null,
   "id": "4a6e07bd",
   "metadata": {},
   "outputs": [],
   "source": [
    "airbnb_df[\"host_name\"].fillna(\"daniel\",inplace=True)"
   ]
  },
  {
   "cell_type": "code",
   "execution_count": null,
   "id": "c5941a9e",
   "metadata": {},
   "outputs": [],
   "source": [
    "airbnb_df.isnull().sum()"
   ]
  },
  {
   "cell_type": "markdown",
   "id": "d5b8ea5c",
   "metadata": {},
   "source": [
    "# host_id"
   ]
  },
  {
   "cell_type": "code",
   "execution_count": null,
   "id": "4828ca86",
   "metadata": {},
   "outputs": [],
   "source": [
    "airbnb_df[\"host_id\"].mode()"
   ]
  },
  {
   "cell_type": "code",
   "execution_count": null,
   "id": "47d38a08",
   "metadata": {},
   "outputs": [],
   "source": [
    "airbnb_df[\"host_name\"].fillna(377605855,inplace=True)"
   ]
  },
  {
   "cell_type": "code",
   "execution_count": null,
   "id": "f505b420",
   "metadata": {},
   "outputs": [],
   "source": [
    "airbnb_df.isnull().sum()"
   ]
  },
  {
   "cell_type": "markdown",
   "id": "e8332d5c",
   "metadata": {},
   "source": [
    "# name"
   ]
  },
  {
   "cell_type": "code",
   "execution_count": null,
   "id": "98d646df",
   "metadata": {},
   "outputs": [],
   "source": [
    "airbnb_df[\"name\"].mode()"
   ]
  },
  {
   "cell_type": "code",
   "execution_count": null,
   "id": "4a8d6bc1",
   "metadata": {},
   "outputs": [],
   "source": [
    "airbnb_df[\"name\"].fillna(\"Habitación privada\",inplace=True)"
   ]
  },
  {
   "cell_type": "code",
   "execution_count": null,
   "id": "8efa3674",
   "metadata": {},
   "outputs": [],
   "source": [
    "airbnb_df.isnull().sum()"
   ]
  },
  {
   "cell_type": "markdown",
   "id": "97c8f649",
   "metadata": {},
   "source": [
    "# interquantile range "
   ]
  },
  {
   "cell_type": "code",
   "execution_count": null,
   "id": "23741daf",
   "metadata": {},
   "outputs": [],
   "source": [
    "airbnb_df"
   ]
  },
  {
   "cell_type": "markdown",
   "id": "cc07df4f",
   "metadata": {},
   "source": [
    "# deopping columns"
   ]
  },
  {
   "cell_type": "markdown",
   "id": "84da40aa",
   "metadata": {},
   "source": [
    "# id and host _id columns are not that important and it does not give any important information so it can be dropped "
   ]
  },
  {
   "cell_type": "code",
   "execution_count": 367,
   "id": "36f109e1",
   "metadata": {},
   "outputs": [],
   "source": [
    "airbnb_df.drop([\"id\",\"host_id\"],axis=1,inplace=True)"
   ]
  },
  {
   "cell_type": "code",
   "execution_count": 368,
   "id": "a9ee74ba",
   "metadata": {},
   "outputs": [
    {
     "data": {
      "text/html": [
       "<div>\n",
       "<style scoped>\n",
       "    .dataframe tbody tr th:only-of-type {\n",
       "        vertical-align: middle;\n",
       "    }\n",
       "\n",
       "    .dataframe tbody tr th {\n",
       "        vertical-align: top;\n",
       "    }\n",
       "\n",
       "    .dataframe thead th {\n",
       "        text-align: right;\n",
       "    }\n",
       "</style>\n",
       "<table border=\"1\" class=\"dataframe\">\n",
       "  <thead>\n",
       "    <tr style=\"text-align: right;\">\n",
       "      <th></th>\n",
       "      <th>latitude</th>\n",
       "      <th>longitude</th>\n",
       "      <th>price</th>\n",
       "      <th>minimum_nights</th>\n",
       "      <th>number_of_reviews</th>\n",
       "      <th>last_review</th>\n",
       "      <th>reviews_per_month</th>\n",
       "      <th>calculated_host_listings_count</th>\n",
       "      <th>availability_365</th>\n",
       "      <th>name_\" A Little corner in the center \"</th>\n",
       "      <th>...</th>\n",
       "      <th>neighbourhood_Vallehermoso</th>\n",
       "      <th>neighbourhood_Valverde</th>\n",
       "      <th>neighbourhood_Ventas</th>\n",
       "      <th>neighbourhood_Vinateros</th>\n",
       "      <th>neighbourhood_Vista Alegre</th>\n",
       "      <th>neighbourhood_Zofío</th>\n",
       "      <th>room_type_Entire home/apt</th>\n",
       "      <th>room_type_Hotel room</th>\n",
       "      <th>room_type_Private room</th>\n",
       "      <th>room_type_Shared room</th>\n",
       "    </tr>\n",
       "  </thead>\n",
       "  <tbody>\n",
       "    <tr>\n",
       "      <th>0</th>\n",
       "      <td>40.45724</td>\n",
       "      <td>-3.67688</td>\n",
       "      <td>60</td>\n",
       "      <td>1</td>\n",
       "      <td>78</td>\n",
       "      <td>2020-09-20</td>\n",
       "      <td>0.58</td>\n",
       "      <td>1</td>\n",
       "      <td>180</td>\n",
       "      <td>0</td>\n",
       "      <td>...</td>\n",
       "      <td>0</td>\n",
       "      <td>0</td>\n",
       "      <td>0</td>\n",
       "      <td>0</td>\n",
       "      <td>0</td>\n",
       "      <td>0</td>\n",
       "      <td>0</td>\n",
       "      <td>0</td>\n",
       "      <td>1</td>\n",
       "      <td>0</td>\n",
       "    </tr>\n",
       "    <tr>\n",
       "      <th>1</th>\n",
       "      <td>40.40381</td>\n",
       "      <td>-3.74130</td>\n",
       "      <td>31</td>\n",
       "      <td>4</td>\n",
       "      <td>33</td>\n",
       "      <td>2018-07-15</td>\n",
       "      <td>0.42</td>\n",
       "      <td>2</td>\n",
       "      <td>364</td>\n",
       "      <td>0</td>\n",
       "      <td>...</td>\n",
       "      <td>0</td>\n",
       "      <td>0</td>\n",
       "      <td>0</td>\n",
       "      <td>0</td>\n",
       "      <td>0</td>\n",
       "      <td>0</td>\n",
       "      <td>0</td>\n",
       "      <td>0</td>\n",
       "      <td>1</td>\n",
       "      <td>0</td>\n",
       "    </tr>\n",
       "    <tr>\n",
       "      <th>2</th>\n",
       "      <td>40.38840</td>\n",
       "      <td>-3.69511</td>\n",
       "      <td>50</td>\n",
       "      <td>15</td>\n",
       "      <td>0</td>\n",
       "      <td>NaN</td>\n",
       "      <td>NaN</td>\n",
       "      <td>7</td>\n",
       "      <td>1</td>\n",
       "      <td>0</td>\n",
       "      <td>...</td>\n",
       "      <td>0</td>\n",
       "      <td>0</td>\n",
       "      <td>0</td>\n",
       "      <td>0</td>\n",
       "      <td>0</td>\n",
       "      <td>0</td>\n",
       "      <td>1</td>\n",
       "      <td>0</td>\n",
       "      <td>0</td>\n",
       "      <td>0</td>\n",
       "    </tr>\n",
       "    <tr>\n",
       "      <th>3</th>\n",
       "      <td>40.42183</td>\n",
       "      <td>-3.70529</td>\n",
       "      <td>92</td>\n",
       "      <td>5</td>\n",
       "      <td>10</td>\n",
       "      <td>2020-03-01</td>\n",
       "      <td>0.13</td>\n",
       "      <td>1</td>\n",
       "      <td>72</td>\n",
       "      <td>0</td>\n",
       "      <td>...</td>\n",
       "      <td>0</td>\n",
       "      <td>0</td>\n",
       "      <td>0</td>\n",
       "      <td>0</td>\n",
       "      <td>0</td>\n",
       "      <td>0</td>\n",
       "      <td>1</td>\n",
       "      <td>0</td>\n",
       "      <td>0</td>\n",
       "      <td>0</td>\n",
       "    </tr>\n",
       "    <tr>\n",
       "      <th>4</th>\n",
       "      <td>40.38975</td>\n",
       "      <td>-3.69018</td>\n",
       "      <td>26</td>\n",
       "      <td>2</td>\n",
       "      <td>149</td>\n",
       "      <td>2020-03-12</td>\n",
       "      <td>1.12</td>\n",
       "      <td>1</td>\n",
       "      <td>365</td>\n",
       "      <td>0</td>\n",
       "      <td>...</td>\n",
       "      <td>0</td>\n",
       "      <td>0</td>\n",
       "      <td>0</td>\n",
       "      <td>0</td>\n",
       "      <td>0</td>\n",
       "      <td>0</td>\n",
       "      <td>0</td>\n",
       "      <td>0</td>\n",
       "      <td>1</td>\n",
       "      <td>0</td>\n",
       "    </tr>\n",
       "    <tr>\n",
       "      <th>...</th>\n",
       "      <td>...</td>\n",
       "      <td>...</td>\n",
       "      <td>...</td>\n",
       "      <td>...</td>\n",
       "      <td>...</td>\n",
       "      <td>...</td>\n",
       "      <td>...</td>\n",
       "      <td>...</td>\n",
       "      <td>...</td>\n",
       "      <td>...</td>\n",
       "      <td>...</td>\n",
       "      <td>...</td>\n",
       "      <td>...</td>\n",
       "      <td>...</td>\n",
       "      <td>...</td>\n",
       "      <td>...</td>\n",
       "      <td>...</td>\n",
       "      <td>...</td>\n",
       "      <td>...</td>\n",
       "      <td>...</td>\n",
       "      <td>...</td>\n",
       "    </tr>\n",
       "    <tr>\n",
       "      <th>19613</th>\n",
       "      <td>40.40756</td>\n",
       "      <td>-3.69937</td>\n",
       "      <td>23</td>\n",
       "      <td>30</td>\n",
       "      <td>0</td>\n",
       "      <td>NaN</td>\n",
       "      <td>NaN</td>\n",
       "      <td>8</td>\n",
       "      <td>349</td>\n",
       "      <td>0</td>\n",
       "      <td>...</td>\n",
       "      <td>0</td>\n",
       "      <td>0</td>\n",
       "      <td>0</td>\n",
       "      <td>0</td>\n",
       "      <td>0</td>\n",
       "      <td>0</td>\n",
       "      <td>0</td>\n",
       "      <td>0</td>\n",
       "      <td>1</td>\n",
       "      <td>0</td>\n",
       "    </tr>\n",
       "    <tr>\n",
       "      <th>19614</th>\n",
       "      <td>40.43706</td>\n",
       "      <td>-3.71364</td>\n",
       "      <td>21</td>\n",
       "      <td>30</td>\n",
       "      <td>0</td>\n",
       "      <td>NaN</td>\n",
       "      <td>NaN</td>\n",
       "      <td>8</td>\n",
       "      <td>350</td>\n",
       "      <td>0</td>\n",
       "      <td>...</td>\n",
       "      <td>0</td>\n",
       "      <td>0</td>\n",
       "      <td>0</td>\n",
       "      <td>0</td>\n",
       "      <td>0</td>\n",
       "      <td>0</td>\n",
       "      <td>0</td>\n",
       "      <td>0</td>\n",
       "      <td>1</td>\n",
       "      <td>0</td>\n",
       "    </tr>\n",
       "    <tr>\n",
       "      <th>19615</th>\n",
       "      <td>40.43857</td>\n",
       "      <td>-3.70715</td>\n",
       "      <td>22</td>\n",
       "      <td>7</td>\n",
       "      <td>0</td>\n",
       "      <td>NaN</td>\n",
       "      <td>NaN</td>\n",
       "      <td>8</td>\n",
       "      <td>364</td>\n",
       "      <td>0</td>\n",
       "      <td>...</td>\n",
       "      <td>0</td>\n",
       "      <td>0</td>\n",
       "      <td>0</td>\n",
       "      <td>0</td>\n",
       "      <td>0</td>\n",
       "      <td>0</td>\n",
       "      <td>0</td>\n",
       "      <td>0</td>\n",
       "      <td>1</td>\n",
       "      <td>0</td>\n",
       "    </tr>\n",
       "    <tr>\n",
       "      <th>19616</th>\n",
       "      <td>40.43027</td>\n",
       "      <td>-3.66759</td>\n",
       "      <td>19</td>\n",
       "      <td>30</td>\n",
       "      <td>0</td>\n",
       "      <td>NaN</td>\n",
       "      <td>NaN</td>\n",
       "      <td>8</td>\n",
       "      <td>349</td>\n",
       "      <td>0</td>\n",
       "      <td>...</td>\n",
       "      <td>0</td>\n",
       "      <td>0</td>\n",
       "      <td>0</td>\n",
       "      <td>0</td>\n",
       "      <td>0</td>\n",
       "      <td>0</td>\n",
       "      <td>0</td>\n",
       "      <td>0</td>\n",
       "      <td>1</td>\n",
       "      <td>0</td>\n",
       "    </tr>\n",
       "    <tr>\n",
       "      <th>19617</th>\n",
       "      <td>40.43484</td>\n",
       "      <td>-3.70667</td>\n",
       "      <td>20</td>\n",
       "      <td>30</td>\n",
       "      <td>0</td>\n",
       "      <td>NaN</td>\n",
       "      <td>NaN</td>\n",
       "      <td>8</td>\n",
       "      <td>349</td>\n",
       "      <td>0</td>\n",
       "      <td>...</td>\n",
       "      <td>0</td>\n",
       "      <td>0</td>\n",
       "      <td>0</td>\n",
       "      <td>0</td>\n",
       "      <td>0</td>\n",
       "      <td>0</td>\n",
       "      <td>0</td>\n",
       "      <td>0</td>\n",
       "      <td>1</td>\n",
       "      <td>0</td>\n",
       "    </tr>\n",
       "  </tbody>\n",
       "</table>\n",
       "<p>19618 rows × 22855 columns</p>\n",
       "</div>"
      ],
      "text/plain": [
       "       latitude  longitude  price  minimum_nights  number_of_reviews  \\\n",
       "0      40.45724   -3.67688     60               1                 78   \n",
       "1      40.40381   -3.74130     31               4                 33   \n",
       "2      40.38840   -3.69511     50              15                  0   \n",
       "3      40.42183   -3.70529     92               5                 10   \n",
       "4      40.38975   -3.69018     26               2                149   \n",
       "...         ...        ...    ...             ...                ...   \n",
       "19613  40.40756   -3.69937     23              30                  0   \n",
       "19614  40.43706   -3.71364     21              30                  0   \n",
       "19615  40.43857   -3.70715     22               7                  0   \n",
       "19616  40.43027   -3.66759     19              30                  0   \n",
       "19617  40.43484   -3.70667     20              30                  0   \n",
       "\n",
       "      last_review  reviews_per_month  calculated_host_listings_count  \\\n",
       "0      2020-09-20               0.58                               1   \n",
       "1      2018-07-15               0.42                               2   \n",
       "2             NaN                NaN                               7   \n",
       "3      2020-03-01               0.13                               1   \n",
       "4      2020-03-12               1.12                               1   \n",
       "...           ...                ...                             ...   \n",
       "19613         NaN                NaN                               8   \n",
       "19614         NaN                NaN                               8   \n",
       "19615         NaN                NaN                               8   \n",
       "19616         NaN                NaN                               8   \n",
       "19617         NaN                NaN                               8   \n",
       "\n",
       "       availability_365  name_\" A Little corner in the center \"  ...  \\\n",
       "0                   180                                       0  ...   \n",
       "1                   364                                       0  ...   \n",
       "2                     1                                       0  ...   \n",
       "3                    72                                       0  ...   \n",
       "4                   365                                       0  ...   \n",
       "...                 ...                                     ...  ...   \n",
       "19613               349                                       0  ...   \n",
       "19614               350                                       0  ...   \n",
       "19615               364                                       0  ...   \n",
       "19616               349                                       0  ...   \n",
       "19617               349                                       0  ...   \n",
       "\n",
       "       neighbourhood_Vallehermoso  neighbourhood_Valverde  \\\n",
       "0                               0                       0   \n",
       "1                               0                       0   \n",
       "2                               0                       0   \n",
       "3                               0                       0   \n",
       "4                               0                       0   \n",
       "...                           ...                     ...   \n",
       "19613                           0                       0   \n",
       "19614                           0                       0   \n",
       "19615                           0                       0   \n",
       "19616                           0                       0   \n",
       "19617                           0                       0   \n",
       "\n",
       "       neighbourhood_Ventas  neighbourhood_Vinateros  \\\n",
       "0                         0                        0   \n",
       "1                         0                        0   \n",
       "2                         0                        0   \n",
       "3                         0                        0   \n",
       "4                         0                        0   \n",
       "...                     ...                      ...   \n",
       "19613                     0                        0   \n",
       "19614                     0                        0   \n",
       "19615                     0                        0   \n",
       "19616                     0                        0   \n",
       "19617                     0                        0   \n",
       "\n",
       "       neighbourhood_Vista Alegre  neighbourhood_Zofío  \\\n",
       "0                               0                    0   \n",
       "1                               0                    0   \n",
       "2                               0                    0   \n",
       "3                               0                    0   \n",
       "4                               0                    0   \n",
       "...                           ...                  ...   \n",
       "19613                           0                    0   \n",
       "19614                           0                    0   \n",
       "19615                           0                    0   \n",
       "19616                           0                    0   \n",
       "19617                           0                    0   \n",
       "\n",
       "       room_type_Entire home/apt  room_type_Hotel room  \\\n",
       "0                              0                     0   \n",
       "1                              0                     0   \n",
       "2                              1                     0   \n",
       "3                              1                     0   \n",
       "4                              0                     0   \n",
       "...                          ...                   ...   \n",
       "19613                          0                     0   \n",
       "19614                          0                     0   \n",
       "19615                          0                     0   \n",
       "19616                          0                     0   \n",
       "19617                          0                     0   \n",
       "\n",
       "       room_type_Private room  room_type_Shared room  \n",
       "0                           1                      0  \n",
       "1                           1                      0  \n",
       "2                           0                      0  \n",
       "3                           0                      0  \n",
       "4                           1                      0  \n",
       "...                       ...                    ...  \n",
       "19613                       1                      0  \n",
       "19614                       1                      0  \n",
       "19615                       1                      0  \n",
       "19616                       1                      0  \n",
       "19617                       1                      0  \n",
       "\n",
       "[19618 rows x 22855 columns]"
      ]
     },
     "execution_count": 368,
     "metadata": {},
     "output_type": "execute_result"
    }
   ],
   "source": [
    "airbnb_df"
   ]
  },
  {
   "cell_type": "markdown",
   "id": "4cb878b8",
   "metadata": {},
   "source": [
    "# handeling price outliers"
   ]
  },
  {
   "cell_type": "markdown",
   "id": "8f61be95",
   "metadata": {},
   "source": [
    "q1"
   ]
  },
  {
   "cell_type": "code",
   "execution_count": 369,
   "id": "f2de5a14",
   "metadata": {},
   "outputs": [
    {
     "data": {
      "text/plain": [
       "35.0"
      ]
     },
     "execution_count": 369,
     "metadata": {},
     "output_type": "execute_result"
    }
   ],
   "source": [
    "airbnb_df[\"price\"].quantile(0.25)"
   ]
  },
  {
   "cell_type": "markdown",
   "id": "0a599ae6",
   "metadata": {},
   "source": [
    "q2"
   ]
  },
  {
   "cell_type": "code",
   "execution_count": 370,
   "id": "067606a7",
   "metadata": {},
   "outputs": [
    {
     "data": {
      "text/plain": [
       "100.0"
      ]
     },
     "execution_count": 370,
     "metadata": {},
     "output_type": "execute_result"
    }
   ],
   "source": [
    "airbnb_df[\"price\"].quantile(0.75)"
   ]
  },
  {
   "cell_type": "markdown",
   "id": "1656687e",
   "metadata": {},
   "source": [
    "q3"
   ]
  },
  {
   "cell_type": "code",
   "execution_count": 371,
   "id": "55f66afe",
   "metadata": {},
   "outputs": [
    {
     "data": {
      "text/plain": [
       "191.0"
      ]
     },
     "execution_count": 371,
     "metadata": {},
     "output_type": "execute_result"
    }
   ],
   "source": [
    "airbnb_df[\"price\"].quantile(0.90)"
   ]
  },
  {
   "cell_type": "markdown",
   "id": "a6f352bd",
   "metadata": {},
   "source": [
    "iqr q3-q1"
   ]
  },
  {
   "cell_type": "code",
   "execution_count": 372,
   "id": "3b12a114",
   "metadata": {},
   "outputs": [
    {
     "data": {
      "text/plain": [
       "156.0"
      ]
     },
     "execution_count": 372,
     "metadata": {},
     "output_type": "execute_result"
    }
   ],
   "source": [
    "191.0-35.0"
   ]
  },
  {
   "cell_type": "markdown",
   "id": "c1f1d277",
   "metadata": {},
   "source": [
    "minimum whisker q1-1.5*iqr"
   ]
  },
  {
   "cell_type": "code",
   "execution_count": 373,
   "id": "a931ace4",
   "metadata": {},
   "outputs": [
    {
     "data": {
      "text/plain": [
       "-199.0"
      ]
     },
     "execution_count": 373,
     "metadata": {},
     "output_type": "execute_result"
    }
   ],
   "source": [
    "35.0-1.5*156.0"
   ]
  },
  {
   "cell_type": "code",
   "execution_count": 374,
   "id": "bb279a5d",
   "metadata": {},
   "outputs": [
    {
     "ename": "SyntaxError",
     "evalue": "invalid syntax (413682379.py, line 1)",
     "output_type": "error",
     "traceback": [
      "\u001b[1;36m  Cell \u001b[1;32mIn[374], line 1\u001b[1;36m\u001b[0m\n\u001b[1;33m    maximum whisker q3+1.5*iqr\u001b[0m\n\u001b[1;37m            ^\u001b[0m\n\u001b[1;31mSyntaxError\u001b[0m\u001b[1;31m:\u001b[0m invalid syntax\n"
     ]
    }
   ],
   "source": [
    "maximum whisker q3+1.5*iqr"
   ]
  },
  {
   "cell_type": "code",
   "execution_count": 375,
   "id": "aa62503f",
   "metadata": {},
   "outputs": [
    {
     "data": {
      "text/plain": [
       "425.0"
      ]
     },
     "execution_count": 375,
     "metadata": {},
     "output_type": "execute_result"
    }
   ],
   "source": [
    "191+1.5*156.0"
   ]
  },
  {
   "cell_type": "code",
   "execution_count": 376,
   "id": "4b1d85cd",
   "metadata": {},
   "outputs": [],
   "source": [
    "airbnb_df.drop(airbnb_df[airbnb_df['price']>=425.0].index,inplace=True)"
   ]
  },
  {
   "cell_type": "code",
   "execution_count": null,
   "id": "eb276d6d",
   "metadata": {},
   "outputs": [],
   "source": []
  },
  {
   "cell_type": "code",
   "execution_count": 377,
   "id": "757033da",
   "metadata": {},
   "outputs": [
    {
     "name": "stderr",
     "output_type": "stream",
     "text": [
      "C:\\Users\\Vishal\\AppData\\Local\\Temp\\ipykernel_16932\\613028198.py:1: UserWarning: \n",
      "\n",
      "`distplot` is a deprecated function and will be removed in seaborn v0.14.0.\n",
      "\n",
      "Please adapt your code to use either `displot` (a figure-level function with\n",
      "similar flexibility) or `histplot` (an axes-level function for histograms).\n",
      "\n",
      "For a guide to updating your code to use the new functions, please see\n",
      "https://gist.github.com/mwaskom/de44147ed2974457ad6372750bbe5751\n",
      "\n",
      "  sns.distplot(airbnb_df[\"price\"])\n"
     ]
    },
    {
     "data": {
      "text/plain": [
       "Text(0.5, 1.06, 'distribution plot of price')"
      ]
     },
     "execution_count": 377,
     "metadata": {},
     "output_type": "execute_result"
    },
    {
     "data": {
      "image/png": "[encoded data removed]",
      "text/plain": [
       "<Figure size 640x480 with 1 Axes>"
      ]
     },
     "metadata": {},
     "output_type": "display_data"
    }
   ],
   "source": [
    "sns.distplot(airbnb_df[\"price\"])\n",
    "plt.title(\"distribution plot of price\",y=1.06)"
   ]
  },
  {
   "cell_type": "code",
   "execution_count": 378,
   "id": "dfd14dbe",
   "metadata": {},
   "outputs": [
    {
     "data": {
      "text/plain": [
       "Text(0.5, 1.06, 'box plot of price')"
      ]
     },
     "execution_count": 378,
     "metadata": {},
     "output_type": "execute_result"
    },
    {
     "data": {
      "image/png": "[encoded data removed]",
      "text/plain": [
       "<Figure size 640x480 with 1 Axes>"
      ]
     },
     "metadata": {},
     "output_type": "display_data"
    }
   ],
   "source": [
    "sns.boxplot(airbnb_df[\"price\"],orient='h')\n",
    "plt.title(\"box plot of price\",y=1.06)"
   ]
  },
  {
   "cell_type": "markdown",
   "id": "bef005e8",
   "metadata": {},
   "source": [
    "# hadeling minimum_nights outliers"
   ]
  },
  {
   "cell_type": "markdown",
   "id": "aa4a0f33",
   "metadata": {},
   "source": [
    "q1"
   ]
  },
  {
   "cell_type": "code",
   "execution_count": 379,
   "id": "c89c21b5",
   "metadata": {},
   "outputs": [
    {
     "data": {
      "text/plain": [
       "1.0"
      ]
     },
     "execution_count": 379,
     "metadata": {},
     "output_type": "execute_result"
    }
   ],
   "source": [
    "airbnb_df[\"minimum_nights\"].quantile(0.25)"
   ]
  },
  {
   "cell_type": "markdown",
   "id": "dbc4c9a3",
   "metadata": {},
   "source": [
    "q2"
   ]
  },
  {
   "cell_type": "code",
   "execution_count": 380,
   "id": "fe110a56",
   "metadata": {},
   "outputs": [
    {
     "data": {
      "text/plain": [
       "1.0"
      ]
     },
     "execution_count": 380,
     "metadata": {},
     "output_type": "execute_result"
    }
   ],
   "source": [
    "airbnb_df[\"minimum_nights\"].quantile(0.25)"
   ]
  },
  {
   "cell_type": "markdown",
   "id": "5e817c81",
   "metadata": {},
   "source": [
    "q3"
   ]
  },
  {
   "cell_type": "code",
   "execution_count": 381,
   "id": "2a42f340",
   "metadata": {},
   "outputs": [
    {
     "data": {
      "text/plain": [
       "1.0"
      ]
     },
     "execution_count": 381,
     "metadata": {},
     "output_type": "execute_result"
    }
   ],
   "source": [
    "airbnb_df[\"minimum_nights\"].quantile(0.25)"
   ]
  },
  {
   "cell_type": "markdown",
   "id": "074b08d3",
   "metadata": {},
   "source": [
    "iqr q3-q1"
   ]
  },
  {
   "cell_type": "code",
   "execution_count": 382,
   "id": "21803a51",
   "metadata": {},
   "outputs": [
    {
     "data": {
      "text/plain": [
       "0.0"
      ]
     },
     "execution_count": 382,
     "metadata": {},
     "output_type": "execute_result"
    }
   ],
   "source": [
    "1.0-1.0"
   ]
  },
  {
   "cell_type": "markdown",
   "id": "4112214f",
   "metadata": {},
   "source": [
    "minimum whisker q1-1.5*iqr"
   ]
  },
  {
   "cell_type": "code",
   "execution_count": 383,
   "id": "d0e8c96c",
   "metadata": {},
   "outputs": [
    {
     "data": {
      "text/plain": [
       "1.0"
      ]
     },
     "execution_count": 383,
     "metadata": {},
     "output_type": "execute_result"
    }
   ],
   "source": [
    "1.0-1.5*0.0"
   ]
  },
  {
   "cell_type": "markdown",
   "id": "0db64eaf",
   "metadata": {},
   "source": [
    "maximum whisker q3+1.5*iqr"
   ]
  },
  {
   "cell_type": "code",
   "execution_count": 384,
   "id": "246a6036",
   "metadata": {},
   "outputs": [
    {
     "data": {
      "text/plain": [
       "1.0"
      ]
     },
     "execution_count": 384,
     "metadata": {},
     "output_type": "execute_result"
    }
   ],
   "source": [
    "1.0+1.5*0.0"
   ]
  },
  {
   "cell_type": "code",
   "execution_count": 385,
   "id": "332470b7",
   "metadata": {},
   "outputs": [
    {
     "name": "stderr",
     "output_type": "stream",
     "text": [
      "C:\\Users\\Vishal\\AppData\\Local\\Temp\\ipykernel_16932\\3401645843.py:1: UserWarning: \n",
      "\n",
      "`distplot` is a deprecated function and will be removed in seaborn v0.14.0.\n",
      "\n",
      "Please adapt your code to use either `displot` (a figure-level function with\n",
      "similar flexibility) or `histplot` (an axes-level function for histograms).\n",
      "\n",
      "For a guide to updating your code to use the new functions, please see\n",
      "https://gist.github.com/mwaskom/de44147ed2974457ad6372750bbe5751\n",
      "\n",
      "  sns.distplot(airbnb_df[\"minimum_nights\"])\n"
     ]
    },
    {
     "data": {
      "text/plain": [
       "Text(0.5, 1.06, 'distribution plot of minimum minghts')"
      ]
     },
     "execution_count": 385,
     "metadata": {},
     "output_type": "execute_result"
    },
    {
     "data": {
      "image/png": "[encoded data removed]",
      "text/plain": [
       "<Figure size 640x480 with 1 Axes>"
      ]
     },
     "metadata": {},
     "output_type": "display_data"
    }
   ],
   "source": [
    "sns.distplot(airbnb_df[\"minimum_nights\"])\n",
    "plt.title(\"distribution plot of minimum minghts\",y=1.06)"
   ]
  },
  {
   "cell_type": "code",
   "execution_count": null,
   "id": "46c67738",
   "metadata": {},
   "outputs": [],
   "source": []
  },
  {
   "cell_type": "code",
   "execution_count": 386,
   "id": "8d2d319d",
   "metadata": {},
   "outputs": [
    {
     "data": {
      "text/plain": [
       "Text(0.5, 1.06, 'box plot of minimum nights')"
      ]
     },
     "execution_count": 386,
     "metadata": {},
     "output_type": "execute_result"
    },
    {
     "data": {
      "image/png": "[encoded data removed]",
      "text/plain": [
       "<Figure size 640x480 with 1 Axes>"
      ]
     },
     "metadata": {},
     "output_type": "display_data"
    }
   ],
   "source": [
    "sns.boxplot(airbnb_df[\"minimum_nights\"],orient='h')\n",
    "plt.title(\"box plot of minimum nights\",y=1.06)"
   ]
  },
  {
   "cell_type": "markdown",
   "id": "7dd1be7e",
   "metadata": {},
   "source": [
    "# handeling outliers no of reviews"
   ]
  },
  {
   "cell_type": "code",
   "execution_count": 387,
   "id": "7715605f",
   "metadata": {},
   "outputs": [
    {
     "data": {
      "text/html": [
       "<div>\n",
       "<style scoped>\n",
       "    .dataframe tbody tr th:only-of-type {\n",
       "        vertical-align: middle;\n",
       "    }\n",
       "\n",
       "    .dataframe tbody tr th {\n",
       "        vertical-align: top;\n",
       "    }\n",
       "\n",
       "    .dataframe thead th {\n",
       "        text-align: right;\n",
       "    }\n",
       "</style>\n",
       "<table border=\"1\" class=\"dataframe\">\n",
       "  <thead>\n",
       "    <tr style=\"text-align: right;\">\n",
       "      <th></th>\n",
       "      <th>latitude</th>\n",
       "      <th>longitude</th>\n",
       "      <th>price</th>\n",
       "      <th>minimum_nights</th>\n",
       "      <th>number_of_reviews</th>\n",
       "      <th>last_review</th>\n",
       "      <th>reviews_per_month</th>\n",
       "      <th>calculated_host_listings_count</th>\n",
       "      <th>availability_365</th>\n",
       "      <th>name_\" A Little corner in the center \"</th>\n",
       "      <th>...</th>\n",
       "      <th>neighbourhood_Vallehermoso</th>\n",
       "      <th>neighbourhood_Valverde</th>\n",
       "      <th>neighbourhood_Ventas</th>\n",
       "      <th>neighbourhood_Vinateros</th>\n",
       "      <th>neighbourhood_Vista Alegre</th>\n",
       "      <th>neighbourhood_Zofío</th>\n",
       "      <th>room_type_Entire home/apt</th>\n",
       "      <th>room_type_Hotel room</th>\n",
       "      <th>room_type_Private room</th>\n",
       "      <th>room_type_Shared room</th>\n",
       "    </tr>\n",
       "  </thead>\n",
       "  <tbody>\n",
       "    <tr>\n",
       "      <th>0</th>\n",
       "      <td>40.45724</td>\n",
       "      <td>-3.67688</td>\n",
       "      <td>60</td>\n",
       "      <td>1</td>\n",
       "      <td>78</td>\n",
       "      <td>2020-09-20</td>\n",
       "      <td>0.58</td>\n",
       "      <td>1</td>\n",
       "      <td>180</td>\n",
       "      <td>0</td>\n",
       "      <td>...</td>\n",
       "      <td>0</td>\n",
       "      <td>0</td>\n",
       "      <td>0</td>\n",
       "      <td>0</td>\n",
       "      <td>0</td>\n",
       "      <td>0</td>\n",
       "      <td>0</td>\n",
       "      <td>0</td>\n",
       "      <td>1</td>\n",
       "      <td>0</td>\n",
       "    </tr>\n",
       "    <tr>\n",
       "      <th>1</th>\n",
       "      <td>40.40381</td>\n",
       "      <td>-3.74130</td>\n",
       "      <td>31</td>\n",
       "      <td>4</td>\n",
       "      <td>33</td>\n",
       "      <td>2018-07-15</td>\n",
       "      <td>0.42</td>\n",
       "      <td>2</td>\n",
       "      <td>364</td>\n",
       "      <td>0</td>\n",
       "      <td>...</td>\n",
       "      <td>0</td>\n",
       "      <td>0</td>\n",
       "      <td>0</td>\n",
       "      <td>0</td>\n",
       "      <td>0</td>\n",
       "      <td>0</td>\n",
       "      <td>0</td>\n",
       "      <td>0</td>\n",
       "      <td>1</td>\n",
       "      <td>0</td>\n",
       "    </tr>\n",
       "    <tr>\n",
       "      <th>2</th>\n",
       "      <td>40.38840</td>\n",
       "      <td>-3.69511</td>\n",
       "      <td>50</td>\n",
       "      <td>15</td>\n",
       "      <td>0</td>\n",
       "      <td>NaN</td>\n",
       "      <td>NaN</td>\n",
       "      <td>7</td>\n",
       "      <td>1</td>\n",
       "      <td>0</td>\n",
       "      <td>...</td>\n",
       "      <td>0</td>\n",
       "      <td>0</td>\n",
       "      <td>0</td>\n",
       "      <td>0</td>\n",
       "      <td>0</td>\n",
       "      <td>0</td>\n",
       "      <td>1</td>\n",
       "      <td>0</td>\n",
       "      <td>0</td>\n",
       "      <td>0</td>\n",
       "    </tr>\n",
       "    <tr>\n",
       "      <th>3</th>\n",
       "      <td>40.42183</td>\n",
       "      <td>-3.70529</td>\n",
       "      <td>92</td>\n",
       "      <td>5</td>\n",
       "      <td>10</td>\n",
       "      <td>2020-03-01</td>\n",
       "      <td>0.13</td>\n",
       "      <td>1</td>\n",
       "      <td>72</td>\n",
       "      <td>0</td>\n",
       "      <td>...</td>\n",
       "      <td>0</td>\n",
       "      <td>0</td>\n",
       "      <td>0</td>\n",
       "      <td>0</td>\n",
       "      <td>0</td>\n",
       "      <td>0</td>\n",
       "      <td>1</td>\n",
       "      <td>0</td>\n",
       "      <td>0</td>\n",
       "      <td>0</td>\n",
       "    </tr>\n",
       "    <tr>\n",
       "      <th>4</th>\n",
       "      <td>40.38975</td>\n",
       "      <td>-3.69018</td>\n",
       "      <td>26</td>\n",
       "      <td>2</td>\n",
       "      <td>149</td>\n",
       "      <td>2020-03-12</td>\n",
       "      <td>1.12</td>\n",
       "      <td>1</td>\n",
       "      <td>365</td>\n",
       "      <td>0</td>\n",
       "      <td>...</td>\n",
       "      <td>0</td>\n",
       "      <td>0</td>\n",
       "      <td>0</td>\n",
       "      <td>0</td>\n",
       "      <td>0</td>\n",
       "      <td>0</td>\n",
       "      <td>0</td>\n",
       "      <td>0</td>\n",
       "      <td>1</td>\n",
       "      <td>0</td>\n",
       "    </tr>\n",
       "    <tr>\n",
       "      <th>...</th>\n",
       "      <td>...</td>\n",
       "      <td>...</td>\n",
       "      <td>...</td>\n",
       "      <td>...</td>\n",
       "      <td>...</td>\n",
       "      <td>...</td>\n",
       "      <td>...</td>\n",
       "      <td>...</td>\n",
       "      <td>...</td>\n",
       "      <td>...</td>\n",
       "      <td>...</td>\n",
       "      <td>...</td>\n",
       "      <td>...</td>\n",
       "      <td>...</td>\n",
       "      <td>...</td>\n",
       "      <td>...</td>\n",
       "      <td>...</td>\n",
       "      <td>...</td>\n",
       "      <td>...</td>\n",
       "      <td>...</td>\n",
       "      <td>...</td>\n",
       "    </tr>\n",
       "    <tr>\n",
       "      <th>19613</th>\n",
       "      <td>40.40756</td>\n",
       "      <td>-3.69937</td>\n",
       "      <td>23</td>\n",
       "      <td>30</td>\n",
       "      <td>0</td>\n",
       "      <td>NaN</td>\n",
       "      <td>NaN</td>\n",
       "      <td>8</td>\n",
       "      <td>349</td>\n",
       "      <td>0</td>\n",
       "      <td>...</td>\n",
       "      <td>0</td>\n",
       "      <td>0</td>\n",
       "      <td>0</td>\n",
       "      <td>0</td>\n",
       "      <td>0</td>\n",
       "      <td>0</td>\n",
       "      <td>0</td>\n",
       "      <td>0</td>\n",
       "      <td>1</td>\n",
       "      <td>0</td>\n",
       "    </tr>\n",
       "    <tr>\n",
       "      <th>19614</th>\n",
       "      <td>40.43706</td>\n",
       "      <td>-3.71364</td>\n",
       "      <td>21</td>\n",
       "      <td>30</td>\n",
       "      <td>0</td>\n",
       "      <td>NaN</td>\n",
       "      <td>NaN</td>\n",
       "      <td>8</td>\n",
       "      <td>350</td>\n",
       "      <td>0</td>\n",
       "      <td>...</td>\n",
       "      <td>0</td>\n",
       "      <td>0</td>\n",
       "      <td>0</td>\n",
       "      <td>0</td>\n",
       "      <td>0</td>\n",
       "      <td>0</td>\n",
       "      <td>0</td>\n",
       "      <td>0</td>\n",
       "      <td>1</td>\n",
       "      <td>0</td>\n",
       "    </tr>\n",
       "    <tr>\n",
       "      <th>19615</th>\n",
       "      <td>40.43857</td>\n",
       "      <td>-3.70715</td>\n",
       "      <td>22</td>\n",
       "      <td>7</td>\n",
       "      <td>0</td>\n",
       "      <td>NaN</td>\n",
       "      <td>NaN</td>\n",
       "      <td>8</td>\n",
       "      <td>364</td>\n",
       "      <td>0</td>\n",
       "      <td>...</td>\n",
       "      <td>0</td>\n",
       "      <td>0</td>\n",
       "      <td>0</td>\n",
       "      <td>0</td>\n",
       "      <td>0</td>\n",
       "      <td>0</td>\n",
       "      <td>0</td>\n",
       "      <td>0</td>\n",
       "      <td>1</td>\n",
       "      <td>0</td>\n",
       "    </tr>\n",
       "    <tr>\n",
       "      <th>19616</th>\n",
       "      <td>40.43027</td>\n",
       "      <td>-3.66759</td>\n",
       "      <td>19</td>\n",
       "      <td>30</td>\n",
       "      <td>0</td>\n",
       "      <td>NaN</td>\n",
       "      <td>NaN</td>\n",
       "      <td>8</td>\n",
       "      <td>349</td>\n",
       "      <td>0</td>\n",
       "      <td>...</td>\n",
       "      <td>0</td>\n",
       "      <td>0</td>\n",
       "      <td>0</td>\n",
       "      <td>0</td>\n",
       "      <td>0</td>\n",
       "      <td>0</td>\n",
       "      <td>0</td>\n",
       "      <td>0</td>\n",
       "      <td>1</td>\n",
       "      <td>0</td>\n",
       "    </tr>\n",
       "    <tr>\n",
       "      <th>19617</th>\n",
       "      <td>40.43484</td>\n",
       "      <td>-3.70667</td>\n",
       "      <td>20</td>\n",
       "      <td>30</td>\n",
       "      <td>0</td>\n",
       "      <td>NaN</td>\n",
       "      <td>NaN</td>\n",
       "      <td>8</td>\n",
       "      <td>349</td>\n",
       "      <td>0</td>\n",
       "      <td>...</td>\n",
       "      <td>0</td>\n",
       "      <td>0</td>\n",
       "      <td>0</td>\n",
       "      <td>0</td>\n",
       "      <td>0</td>\n",
       "      <td>0</td>\n",
       "      <td>0</td>\n",
       "      <td>0</td>\n",
       "      <td>1</td>\n",
       "      <td>0</td>\n",
       "    </tr>\n",
       "  </tbody>\n",
       "</table>\n",
       "<p>18828 rows × 22855 columns</p>\n",
       "</div>"
      ],
      "text/plain": [
       "       latitude  longitude  price  minimum_nights  number_of_reviews  \\\n",
       "0      40.45724   -3.67688     60               1                 78   \n",
       "1      40.40381   -3.74130     31               4                 33   \n",
       "2      40.38840   -3.69511     50              15                  0   \n",
       "3      40.42183   -3.70529     92               5                 10   \n",
       "4      40.38975   -3.69018     26               2                149   \n",
       "...         ...        ...    ...             ...                ...   \n",
       "19613  40.40756   -3.69937     23              30                  0   \n",
       "19614  40.43706   -3.71364     21              30                  0   \n",
       "19615  40.43857   -3.70715     22               7                  0   \n",
       "19616  40.43027   -3.66759     19              30                  0   \n",
       "19617  40.43484   -3.70667     20              30                  0   \n",
       "\n",
       "      last_review  reviews_per_month  calculated_host_listings_count  \\\n",
       "0      2020-09-20               0.58                               1   \n",
       "1      2018-07-15               0.42                               2   \n",
       "2             NaN                NaN                               7   \n",
       "3      2020-03-01               0.13                               1   \n",
       "4      2020-03-12               1.12                               1   \n",
       "...           ...                ...                             ...   \n",
       "19613         NaN                NaN                               8   \n",
       "19614         NaN                NaN                               8   \n",
       "19615         NaN                NaN                               8   \n",
       "19616         NaN                NaN                               8   \n",
       "19617         NaN                NaN                               8   \n",
       "\n",
       "       availability_365  name_\" A Little corner in the center \"  ...  \\\n",
       "0                   180                                       0  ...   \n",
       "1                   364                                       0  ...   \n",
       "2                     1                                       0  ...   \n",
       "3                    72                                       0  ...   \n",
       "4                   365                                       0  ...   \n",
       "...                 ...                                     ...  ...   \n",
       "19613               349                                       0  ...   \n",
       "19614               350                                       0  ...   \n",
       "19615               364                                       0  ...   \n",
       "19616               349                                       0  ...   \n",
       "19617               349                                       0  ...   \n",
       "\n",
       "       neighbourhood_Vallehermoso  neighbourhood_Valverde  \\\n",
       "0                               0                       0   \n",
       "1                               0                       0   \n",
       "2                               0                       0   \n",
       "3                               0                       0   \n",
       "4                               0                       0   \n",
       "...                           ...                     ...   \n",
       "19613                           0                       0   \n",
       "19614                           0                       0   \n",
       "19615                           0                       0   \n",
       "19616                           0                       0   \n",
       "19617                           0                       0   \n",
       "\n",
       "       neighbourhood_Ventas  neighbourhood_Vinateros  \\\n",
       "0                         0                        0   \n",
       "1                         0                        0   \n",
       "2                         0                        0   \n",
       "3                         0                        0   \n",
       "4                         0                        0   \n",
       "...                     ...                      ...   \n",
       "19613                     0                        0   \n",
       "19614                     0                        0   \n",
       "19615                     0                        0   \n",
       "19616                     0                        0   \n",
       "19617                     0                        0   \n",
       "\n",
       "       neighbourhood_Vista Alegre  neighbourhood_Zofío  \\\n",
       "0                               0                    0   \n",
       "1                               0                    0   \n",
       "2                               0                    0   \n",
       "3                               0                    0   \n",
       "4                               0                    0   \n",
       "...                           ...                  ...   \n",
       "19613                           0                    0   \n",
       "19614                           0                    0   \n",
       "19615                           0                    0   \n",
       "19616                           0                    0   \n",
       "19617                           0                    0   \n",
       "\n",
       "       room_type_Entire home/apt  room_type_Hotel room  \\\n",
       "0                              0                     0   \n",
       "1                              0                     0   \n",
       "2                              1                     0   \n",
       "3                              1                     0   \n",
       "4                              0                     0   \n",
       "...                          ...                   ...   \n",
       "19613                          0                     0   \n",
       "19614                          0                     0   \n",
       "19615                          0                     0   \n",
       "19616                          0                     0   \n",
       "19617                          0                     0   \n",
       "\n",
       "       room_type_Private room  room_type_Shared room  \n",
       "0                           1                      0  \n",
       "1                           1                      0  \n",
       "2                           0                      0  \n",
       "3                           0                      0  \n",
       "4                           1                      0  \n",
       "...                       ...                    ...  \n",
       "19613                       1                      0  \n",
       "19614                       1                      0  \n",
       "19615                       1                      0  \n",
       "19616                       1                      0  \n",
       "19617                       1                      0  \n",
       "\n",
       "[18828 rows x 22855 columns]"
      ]
     },
     "execution_count": 387,
     "metadata": {},
     "output_type": "execute_result"
    }
   ],
   "source": [
    "airbnb_df"
   ]
  },
  {
   "cell_type": "markdown",
   "id": "614062af",
   "metadata": {},
   "source": [
    "q1"
   ]
  },
  {
   "cell_type": "code",
   "execution_count": 388,
   "id": "9c2de03f",
   "metadata": {},
   "outputs": [
    {
     "data": {
      "text/plain": [
       "0.0"
      ]
     },
     "execution_count": 388,
     "metadata": {},
     "output_type": "execute_result"
    }
   ],
   "source": [
    "airbnb_df[\"number_of_reviews\"].quantile(0.25)"
   ]
  },
  {
   "cell_type": "markdown",
   "id": "81a74a58",
   "metadata": {},
   "source": [
    "q2"
   ]
  },
  {
   "cell_type": "code",
   "execution_count": 389,
   "id": "7ea28f80",
   "metadata": {},
   "outputs": [
    {
     "data": {
      "text/plain": [
       "33.0"
      ]
     },
     "execution_count": 389,
     "metadata": {},
     "output_type": "execute_result"
    }
   ],
   "source": [
    "airbnb_df[\"number_of_reviews\"].quantile(0.75)"
   ]
  },
  {
   "cell_type": "markdown",
   "id": "eb64e364",
   "metadata": {},
   "source": [
    "q3"
   ]
  },
  {
   "cell_type": "code",
   "execution_count": 390,
   "id": "7e4d59bf",
   "metadata": {},
   "outputs": [
    {
     "data": {
      "text/plain": [
       "103.29999999999927"
      ]
     },
     "execution_count": 390,
     "metadata": {},
     "output_type": "execute_result"
    }
   ],
   "source": [
    "airbnb_df[\"number_of_reviews\"].quantile(0.90)"
   ]
  },
  {
   "cell_type": "code",
   "execution_count": 391,
   "id": "f400993a",
   "metadata": {},
   "outputs": [
    {
     "ename": "SyntaxError",
     "evalue": "invalid syntax (3619571908.py, line 1)",
     "output_type": "error",
     "traceback": [
      "\u001b[1;36m  Cell \u001b[1;32mIn[391], line 1\u001b[1;36m\u001b[0m\n\u001b[1;33m    iqr q3-q1\u001b[0m\n\u001b[1;37m        ^\u001b[0m\n\u001b[1;31mSyntaxError\u001b[0m\u001b[1;31m:\u001b[0m invalid syntax\n"
     ]
    }
   ],
   "source": [
    "iqr q3-q1"
   ]
  },
  {
   "cell_type": "code",
   "execution_count": null,
   "id": "e82a8781",
   "metadata": {},
   "outputs": [],
   "source": [
    "102.0-0.0"
   ]
  },
  {
   "cell_type": "markdown",
   "id": "a6538371",
   "metadata": {},
   "source": [
    "inimum whisker q1-1.5*iqr"
   ]
  },
  {
   "cell_type": "code",
   "execution_count": null,
   "id": "43fcb038",
   "metadata": {},
   "outputs": [],
   "source": [
    "0.0-1.5*102.0"
   ]
  },
  {
   "cell_type": "markdown",
   "id": "6bbf71a9",
   "metadata": {},
   "source": [
    "maximum whisker q3+1.5*iqr"
   ]
  },
  {
   "cell_type": "code",
   "execution_count": null,
   "id": "2b14b8d3",
   "metadata": {},
   "outputs": [],
   "source": [
    "102.0+1.5*102.0"
   ]
  },
  {
   "cell_type": "code",
   "execution_count": null,
   "id": "13dcbb36",
   "metadata": {},
   "outputs": [],
   "source": [
    "sns.distplot(airbnb_df[\"number_of_reviews\"])\n",
    "plt.title(\"distribution plot of number of reviews\",y=1.06)"
   ]
  },
  {
   "cell_type": "code",
   "execution_count": 392,
   "id": "4218ab5b",
   "metadata": {},
   "outputs": [],
   "source": [
    "airbnb_df.drop(airbnb_df[airbnb_df['number_of_reviews']>=225].index,inplace=True)"
   ]
  },
  {
   "cell_type": "code",
   "execution_count": 393,
   "id": "1260ed73",
   "metadata": {},
   "outputs": [
    {
     "data": {
      "text/plain": [
       "Text(0.5, 1.06, 'box plot of number of reviews')"
      ]
     },
     "execution_count": 393,
     "metadata": {},
     "output_type": "execute_result"
    },
    {
     "data": {
      "image/png": "[encoded data removed]",
      "text/plain": [
       "<Figure size 640x480 with 1 Axes>"
      ]
     },
     "metadata": {},
     "output_type": "display_data"
    }
   ],
   "source": [
    "sns.boxplot(airbnb_df[\"number_of_reviews\"],orient='h')\n",
    "plt.title(\"box plot of number of reviews\",y=1.06)"
   ]
  },
  {
   "cell_type": "code",
   "execution_count": 394,
   "id": "ef6e6b88",
   "metadata": {},
   "outputs": [
    {
     "data": {
      "text/html": [
       "<div>\n",
       "<style scoped>\n",
       "    .dataframe tbody tr th:only-of-type {\n",
       "        vertical-align: middle;\n",
       "    }\n",
       "\n",
       "    .dataframe tbody tr th {\n",
       "        vertical-align: top;\n",
       "    }\n",
       "\n",
       "    .dataframe thead th {\n",
       "        text-align: right;\n",
       "    }\n",
       "</style>\n",
       "<table border=\"1\" class=\"dataframe\">\n",
       "  <thead>\n",
       "    <tr style=\"text-align: right;\">\n",
       "      <th></th>\n",
       "      <th>latitude</th>\n",
       "      <th>longitude</th>\n",
       "      <th>price</th>\n",
       "      <th>minimum_nights</th>\n",
       "      <th>number_of_reviews</th>\n",
       "      <th>last_review</th>\n",
       "      <th>reviews_per_month</th>\n",
       "      <th>calculated_host_listings_count</th>\n",
       "      <th>availability_365</th>\n",
       "      <th>name_\" A Little corner in the center \"</th>\n",
       "      <th>...</th>\n",
       "      <th>neighbourhood_Vallehermoso</th>\n",
       "      <th>neighbourhood_Valverde</th>\n",
       "      <th>neighbourhood_Ventas</th>\n",
       "      <th>neighbourhood_Vinateros</th>\n",
       "      <th>neighbourhood_Vista Alegre</th>\n",
       "      <th>neighbourhood_Zofío</th>\n",
       "      <th>room_type_Entire home/apt</th>\n",
       "      <th>room_type_Hotel room</th>\n",
       "      <th>room_type_Private room</th>\n",
       "      <th>room_type_Shared room</th>\n",
       "    </tr>\n",
       "  </thead>\n",
       "  <tbody>\n",
       "    <tr>\n",
       "      <th>0</th>\n",
       "      <td>40.45724</td>\n",
       "      <td>-3.67688</td>\n",
       "      <td>60</td>\n",
       "      <td>1</td>\n",
       "      <td>78</td>\n",
       "      <td>2020-09-20</td>\n",
       "      <td>0.58</td>\n",
       "      <td>1</td>\n",
       "      <td>180</td>\n",
       "      <td>0</td>\n",
       "      <td>...</td>\n",
       "      <td>0</td>\n",
       "      <td>0</td>\n",
       "      <td>0</td>\n",
       "      <td>0</td>\n",
       "      <td>0</td>\n",
       "      <td>0</td>\n",
       "      <td>0</td>\n",
       "      <td>0</td>\n",
       "      <td>1</td>\n",
       "      <td>0</td>\n",
       "    </tr>\n",
       "    <tr>\n",
       "      <th>1</th>\n",
       "      <td>40.40381</td>\n",
       "      <td>-3.74130</td>\n",
       "      <td>31</td>\n",
       "      <td>4</td>\n",
       "      <td>33</td>\n",
       "      <td>2018-07-15</td>\n",
       "      <td>0.42</td>\n",
       "      <td>2</td>\n",
       "      <td>364</td>\n",
       "      <td>0</td>\n",
       "      <td>...</td>\n",
       "      <td>0</td>\n",
       "      <td>0</td>\n",
       "      <td>0</td>\n",
       "      <td>0</td>\n",
       "      <td>0</td>\n",
       "      <td>0</td>\n",
       "      <td>0</td>\n",
       "      <td>0</td>\n",
       "      <td>1</td>\n",
       "      <td>0</td>\n",
       "    </tr>\n",
       "    <tr>\n",
       "      <th>2</th>\n",
       "      <td>40.38840</td>\n",
       "      <td>-3.69511</td>\n",
       "      <td>50</td>\n",
       "      <td>15</td>\n",
       "      <td>0</td>\n",
       "      <td>NaN</td>\n",
       "      <td>NaN</td>\n",
       "      <td>7</td>\n",
       "      <td>1</td>\n",
       "      <td>0</td>\n",
       "      <td>...</td>\n",
       "      <td>0</td>\n",
       "      <td>0</td>\n",
       "      <td>0</td>\n",
       "      <td>0</td>\n",
       "      <td>0</td>\n",
       "      <td>0</td>\n",
       "      <td>1</td>\n",
       "      <td>0</td>\n",
       "      <td>0</td>\n",
       "      <td>0</td>\n",
       "    </tr>\n",
       "    <tr>\n",
       "      <th>3</th>\n",
       "      <td>40.42183</td>\n",
       "      <td>-3.70529</td>\n",
       "      <td>92</td>\n",
       "      <td>5</td>\n",
       "      <td>10</td>\n",
       "      <td>2020-03-01</td>\n",
       "      <td>0.13</td>\n",
       "      <td>1</td>\n",
       "      <td>72</td>\n",
       "      <td>0</td>\n",
       "      <td>...</td>\n",
       "      <td>0</td>\n",
       "      <td>0</td>\n",
       "      <td>0</td>\n",
       "      <td>0</td>\n",
       "      <td>0</td>\n",
       "      <td>0</td>\n",
       "      <td>1</td>\n",
       "      <td>0</td>\n",
       "      <td>0</td>\n",
       "      <td>0</td>\n",
       "    </tr>\n",
       "    <tr>\n",
       "      <th>4</th>\n",
       "      <td>40.38975</td>\n",
       "      <td>-3.69018</td>\n",
       "      <td>26</td>\n",
       "      <td>2</td>\n",
       "      <td>149</td>\n",
       "      <td>2020-03-12</td>\n",
       "      <td>1.12</td>\n",
       "      <td>1</td>\n",
       "      <td>365</td>\n",
       "      <td>0</td>\n",
       "      <td>...</td>\n",
       "      <td>0</td>\n",
       "      <td>0</td>\n",
       "      <td>0</td>\n",
       "      <td>0</td>\n",
       "      <td>0</td>\n",
       "      <td>0</td>\n",
       "      <td>0</td>\n",
       "      <td>0</td>\n",
       "      <td>1</td>\n",
       "      <td>0</td>\n",
       "    </tr>\n",
       "    <tr>\n",
       "      <th>...</th>\n",
       "      <td>...</td>\n",
       "      <td>...</td>\n",
       "      <td>...</td>\n",
       "      <td>...</td>\n",
       "      <td>...</td>\n",
       "      <td>...</td>\n",
       "      <td>...</td>\n",
       "      <td>...</td>\n",
       "      <td>...</td>\n",
       "      <td>...</td>\n",
       "      <td>...</td>\n",
       "      <td>...</td>\n",
       "      <td>...</td>\n",
       "      <td>...</td>\n",
       "      <td>...</td>\n",
       "      <td>...</td>\n",
       "      <td>...</td>\n",
       "      <td>...</td>\n",
       "      <td>...</td>\n",
       "      <td>...</td>\n",
       "      <td>...</td>\n",
       "    </tr>\n",
       "    <tr>\n",
       "      <th>19613</th>\n",
       "      <td>40.40756</td>\n",
       "      <td>-3.69937</td>\n",
       "      <td>23</td>\n",
       "      <td>30</td>\n",
       "      <td>0</td>\n",
       "      <td>NaN</td>\n",
       "      <td>NaN</td>\n",
       "      <td>8</td>\n",
       "      <td>349</td>\n",
       "      <td>0</td>\n",
       "      <td>...</td>\n",
       "      <td>0</td>\n",
       "      <td>0</td>\n",
       "      <td>0</td>\n",
       "      <td>0</td>\n",
       "      <td>0</td>\n",
       "      <td>0</td>\n",
       "      <td>0</td>\n",
       "      <td>0</td>\n",
       "      <td>1</td>\n",
       "      <td>0</td>\n",
       "    </tr>\n",
       "    <tr>\n",
       "      <th>19614</th>\n",
       "      <td>40.43706</td>\n",
       "      <td>-3.71364</td>\n",
       "      <td>21</td>\n",
       "      <td>30</td>\n",
       "      <td>0</td>\n",
       "      <td>NaN</td>\n",
       "      <td>NaN</td>\n",
       "      <td>8</td>\n",
       "      <td>350</td>\n",
       "      <td>0</td>\n",
       "      <td>...</td>\n",
       "      <td>0</td>\n",
       "      <td>0</td>\n",
       "      <td>0</td>\n",
       "      <td>0</td>\n",
       "      <td>0</td>\n",
       "      <td>0</td>\n",
       "      <td>0</td>\n",
       "      <td>0</td>\n",
       "      <td>1</td>\n",
       "      <td>0</td>\n",
       "    </tr>\n",
       "    <tr>\n",
       "      <th>19615</th>\n",
       "      <td>40.43857</td>\n",
       "      <td>-3.70715</td>\n",
       "      <td>22</td>\n",
       "      <td>7</td>\n",
       "      <td>0</td>\n",
       "      <td>NaN</td>\n",
       "      <td>NaN</td>\n",
       "      <td>8</td>\n",
       "      <td>364</td>\n",
       "      <td>0</td>\n",
       "      <td>...</td>\n",
       "      <td>0</td>\n",
       "      <td>0</td>\n",
       "      <td>0</td>\n",
       "      <td>0</td>\n",
       "      <td>0</td>\n",
       "      <td>0</td>\n",
       "      <td>0</td>\n",
       "      <td>0</td>\n",
       "      <td>1</td>\n",
       "      <td>0</td>\n",
       "    </tr>\n",
       "    <tr>\n",
       "      <th>19616</th>\n",
       "      <td>40.43027</td>\n",
       "      <td>-3.66759</td>\n",
       "      <td>19</td>\n",
       "      <td>30</td>\n",
       "      <td>0</td>\n",
       "      <td>NaN</td>\n",
       "      <td>NaN</td>\n",
       "      <td>8</td>\n",
       "      <td>349</td>\n",
       "      <td>0</td>\n",
       "      <td>...</td>\n",
       "      <td>0</td>\n",
       "      <td>0</td>\n",
       "      <td>0</td>\n",
       "      <td>0</td>\n",
       "      <td>0</td>\n",
       "      <td>0</td>\n",
       "      <td>0</td>\n",
       "      <td>0</td>\n",
       "      <td>1</td>\n",
       "      <td>0</td>\n",
       "    </tr>\n",
       "    <tr>\n",
       "      <th>19617</th>\n",
       "      <td>40.43484</td>\n",
       "      <td>-3.70667</td>\n",
       "      <td>20</td>\n",
       "      <td>30</td>\n",
       "      <td>0</td>\n",
       "      <td>NaN</td>\n",
       "      <td>NaN</td>\n",
       "      <td>8</td>\n",
       "      <td>349</td>\n",
       "      <td>0</td>\n",
       "      <td>...</td>\n",
       "      <td>0</td>\n",
       "      <td>0</td>\n",
       "      <td>0</td>\n",
       "      <td>0</td>\n",
       "      <td>0</td>\n",
       "      <td>0</td>\n",
       "      <td>0</td>\n",
       "      <td>0</td>\n",
       "      <td>1</td>\n",
       "      <td>0</td>\n",
       "    </tr>\n",
       "  </tbody>\n",
       "</table>\n",
       "<p>18324 rows × 22855 columns</p>\n",
       "</div>"
      ],
      "text/plain": [
       "       latitude  longitude  price  minimum_nights  number_of_reviews  \\\n",
       "0      40.45724   -3.67688     60               1                 78   \n",
       "1      40.40381   -3.74130     31               4                 33   \n",
       "2      40.38840   -3.69511     50              15                  0   \n",
       "3      40.42183   -3.70529     92               5                 10   \n",
       "4      40.38975   -3.69018     26               2                149   \n",
       "...         ...        ...    ...             ...                ...   \n",
       "19613  40.40756   -3.69937     23              30                  0   \n",
       "19614  40.43706   -3.71364     21              30                  0   \n",
       "19615  40.43857   -3.70715     22               7                  0   \n",
       "19616  40.43027   -3.66759     19              30                  0   \n",
       "19617  40.43484   -3.70667     20              30                  0   \n",
       "\n",
       "      last_review  reviews_per_month  calculated_host_listings_count  \\\n",
       "0      2020-09-20               0.58                               1   \n",
       "1      2018-07-15               0.42                               2   \n",
       "2             NaN                NaN                               7   \n",
       "3      2020-03-01               0.13                               1   \n",
       "4      2020-03-12               1.12                               1   \n",
       "...           ...                ...                             ...   \n",
       "19613         NaN                NaN                               8   \n",
       "19614         NaN                NaN                               8   \n",
       "19615         NaN                NaN                               8   \n",
       "19616         NaN                NaN                               8   \n",
       "19617         NaN                NaN                               8   \n",
       "\n",
       "       availability_365  name_\" A Little corner in the center \"  ...  \\\n",
       "0                   180                                       0  ...   \n",
       "1                   364                                       0  ...   \n",
       "2                     1                                       0  ...   \n",
       "3                    72                                       0  ...   \n",
       "4                   365                                       0  ...   \n",
       "...                 ...                                     ...  ...   \n",
       "19613               349                                       0  ...   \n",
       "19614               350                                       0  ...   \n",
       "19615               364                                       0  ...   \n",
       "19616               349                                       0  ...   \n",
       "19617               349                                       0  ...   \n",
       "\n",
       "       neighbourhood_Vallehermoso  neighbourhood_Valverde  \\\n",
       "0                               0                       0   \n",
       "1                               0                       0   \n",
       "2                               0                       0   \n",
       "3                               0                       0   \n",
       "4                               0                       0   \n",
       "...                           ...                     ...   \n",
       "19613                           0                       0   \n",
       "19614                           0                       0   \n",
       "19615                           0                       0   \n",
       "19616                           0                       0   \n",
       "19617                           0                       0   \n",
       "\n",
       "       neighbourhood_Ventas  neighbourhood_Vinateros  \\\n",
       "0                         0                        0   \n",
       "1                         0                        0   \n",
       "2                         0                        0   \n",
       "3                         0                        0   \n",
       "4                         0                        0   \n",
       "...                     ...                      ...   \n",
       "19613                     0                        0   \n",
       "19614                     0                        0   \n",
       "19615                     0                        0   \n",
       "19616                     0                        0   \n",
       "19617                     0                        0   \n",
       "\n",
       "       neighbourhood_Vista Alegre  neighbourhood_Zofío  \\\n",
       "0                               0                    0   \n",
       "1                               0                    0   \n",
       "2                               0                    0   \n",
       "3                               0                    0   \n",
       "4                               0                    0   \n",
       "...                           ...                  ...   \n",
       "19613                           0                    0   \n",
       "19614                           0                    0   \n",
       "19615                           0                    0   \n",
       "19616                           0                    0   \n",
       "19617                           0                    0   \n",
       "\n",
       "       room_type_Entire home/apt  room_type_Hotel room  \\\n",
       "0                              0                     0   \n",
       "1                              0                     0   \n",
       "2                              1                     0   \n",
       "3                              1                     0   \n",
       "4                              0                     0   \n",
       "...                          ...                   ...   \n",
       "19613                          0                     0   \n",
       "19614                          0                     0   \n",
       "19615                          0                     0   \n",
       "19616                          0                     0   \n",
       "19617                          0                     0   \n",
       "\n",
       "       room_type_Private room  room_type_Shared room  \n",
       "0                           1                      0  \n",
       "1                           1                      0  \n",
       "2                           0                      0  \n",
       "3                           0                      0  \n",
       "4                           1                      0  \n",
       "...                       ...                    ...  \n",
       "19613                       1                      0  \n",
       "19614                       1                      0  \n",
       "19615                       1                      0  \n",
       "19616                       1                      0  \n",
       "19617                       1                      0  \n",
       "\n",
       "[18324 rows x 22855 columns]"
      ]
     },
     "execution_count": 394,
     "metadata": {},
     "output_type": "execute_result"
    }
   ],
   "source": [
    "airbnb_df"
   ]
  },
  {
   "cell_type": "markdown",
   "id": "b0a89508",
   "metadata": {},
   "source": [
    "# handeling last review outlier"
   ]
  },
  {
   "cell_type": "code",
   "execution_count": 395,
   "id": "c97a9cb5",
   "metadata": {},
   "outputs": [
    {
     "data": {
      "text/plain": [
       "0.17"
      ]
     },
     "execution_count": 395,
     "metadata": {},
     "output_type": "execute_result"
    }
   ],
   "source": [
    "airbnb_df[\"reviews_per_month\"].quantile(0.25)"
   ]
  },
  {
   "cell_type": "code",
   "execution_count": 396,
   "id": "11811175",
   "metadata": {},
   "outputs": [
    {
     "data": {
      "text/plain": [
       "1.47"
      ]
     },
     "execution_count": 396,
     "metadata": {},
     "output_type": "execute_result"
    }
   ],
   "source": [
    "airbnb_df[\"reviews_per_month\"].quantile(0.75)"
   ]
  },
  {
   "cell_type": "code",
   "execution_count": 397,
   "id": "e63b112d",
   "metadata": {},
   "outputs": [
    {
     "data": {
      "text/plain": [
       "2.57"
      ]
     },
     "execution_count": 397,
     "metadata": {},
     "output_type": "execute_result"
    }
   ],
   "source": [
    "airbnb_df[\"reviews_per_month\"].quantile(0.90)"
   ]
  },
  {
   "cell_type": "code",
   "execution_count": 398,
   "id": "1f3c996f",
   "metadata": {},
   "outputs": [
    {
     "ename": "SyntaxError",
     "evalue": "invalid syntax (3619571908.py, line 1)",
     "output_type": "error",
     "traceback": [
      "\u001b[1;36m  Cell \u001b[1;32mIn[398], line 1\u001b[1;36m\u001b[0m\n\u001b[1;33m    iqr q3-q1\u001b[0m\n\u001b[1;37m        ^\u001b[0m\n\u001b[1;31mSyntaxError\u001b[0m\u001b[1;31m:\u001b[0m invalid syntax\n"
     ]
    }
   ],
   "source": [
    "iqr q3-q1"
   ]
  },
  {
   "cell_type": "code",
   "execution_count": null,
   "id": "f763fc9d",
   "metadata": {},
   "outputs": [],
   "source": [
    "2.56-0.16"
   ]
  },
  {
   "cell_type": "code",
   "execution_count": null,
   "id": "c99d3320",
   "metadata": {},
   "outputs": [],
   "source": [
    "inimum whisker q1-1.5*iqr"
   ]
  },
  {
   "cell_type": "code",
   "execution_count": null,
   "id": "a13c72f4",
   "metadata": {},
   "outputs": [],
   "source": [
    "0.16-1.5*2.4"
   ]
  },
  {
   "cell_type": "code",
   "execution_count": null,
   "id": "78f48ebf",
   "metadata": {},
   "outputs": [],
   "source": [
    "maximum whisker q3+1.5*iqr"
   ]
  },
  {
   "cell_type": "code",
   "execution_count": null,
   "id": "5eef5f2c",
   "metadata": {},
   "outputs": [],
   "source": [
    "2.56-1.5*2.4"
   ]
  },
  {
   "cell_type": "code",
   "execution_count": null,
   "id": "cb8399a3",
   "metadata": {},
   "outputs": [],
   "source": [
    "sns.distplot(airbnb_df[\"reviews_per_month\"])\n",
    "plt.title(\"distribution plot of number of review per month\",y=1.06)"
   ]
  },
  {
   "cell_type": "code",
   "execution_count": null,
   "id": "21479b8c",
   "metadata": {},
   "outputs": [],
   "source": [
    "sns.boxplot(airbnb_df[\"reviews_per_month\"],orient='h')\n",
    "plt.title(\"box plot of number of reviews per month\",y=1.06)"
   ]
  },
  {
   "cell_type": "code",
   "execution_count": null,
   "id": "7ab7864f",
   "metadata": {},
   "outputs": [],
   "source": [
    "airbnb_df.drop(airbnb_df[airbnb_df['reviews_per_month']>=10].index,inplace=True)"
   ]
  },
  {
   "cell_type": "code",
   "execution_count": null,
   "id": "2f73b5d9",
   "metadata": {},
   "outputs": [],
   "source": [
    "airbnb_df"
   ]
  },
  {
   "cell_type": "markdown",
   "id": "a4f7579e",
   "metadata": {},
   "source": [
    "# haldeling avilibility_365 outliers"
   ]
  },
  {
   "cell_type": "code",
   "execution_count": null,
   "id": "5f79ee74",
   "metadata": {},
   "outputs": [],
   "source": [
    "airbnb_df[\"availability_365\"].quantile(0.25)"
   ]
  },
  {
   "cell_type": "code",
   "execution_count": 399,
   "id": "808d6a43",
   "metadata": {},
   "outputs": [
    {
     "data": {
      "text/plain": [
       "318.0"
      ]
     },
     "execution_count": 399,
     "metadata": {},
     "output_type": "execute_result"
    }
   ],
   "source": [
    "airbnb_df[\"availability_365\"].quantile(0.75)"
   ]
  },
  {
   "cell_type": "code",
   "execution_count": 400,
   "id": "d3458830",
   "metadata": {},
   "outputs": [
    {
     "data": {
      "text/plain": [
       "364.0"
      ]
     },
     "execution_count": 400,
     "metadata": {},
     "output_type": "execute_result"
    }
   ],
   "source": [
    "airbnb_df[\"availability_365\"].quantile(0.90)"
   ]
  },
  {
   "cell_type": "markdown",
   "id": "26b65743",
   "metadata": {},
   "source": [
    " iqr q3-q1"
   ]
  },
  {
   "cell_type": "code",
   "execution_count": 401,
   "id": "88d8ce6b",
   "metadata": {},
   "outputs": [
    {
     "data": {
      "text/plain": [
       "364.0"
      ]
     },
     "execution_count": 401,
     "metadata": {},
     "output_type": "execute_result"
    }
   ],
   "source": [
    "364.0-0.0"
   ]
  },
  {
   "cell_type": "code",
   "execution_count": 402,
   "id": "ec669c0d",
   "metadata": {},
   "outputs": [
    {
     "ename": "SyntaxError",
     "evalue": "invalid syntax (2775693682.py, line 1)",
     "output_type": "error",
     "traceback": [
      "\u001b[1;36m  Cell \u001b[1;32mIn[402], line 1\u001b[1;36m\u001b[0m\n\u001b[1;33m    inimum whisker q1-1.5*iqr\u001b[0m\n\u001b[1;37m           ^\u001b[0m\n\u001b[1;31mSyntaxError\u001b[0m\u001b[1;31m:\u001b[0m invalid syntax\n"
     ]
    }
   ],
   "source": [
    "inimum whisker q1-1.5*iqr"
   ]
  },
  {
   "cell_type": "code",
   "execution_count": 403,
   "id": "df769e8d",
   "metadata": {},
   "outputs": [
    {
     "data": {
      "text/plain": [
       "-546.0"
      ]
     },
     "execution_count": 403,
     "metadata": {},
     "output_type": "execute_result"
    }
   ],
   "source": [
    "0.0-1.5*364.0"
   ]
  },
  {
   "cell_type": "code",
   "execution_count": 404,
   "id": "f8217dc6",
   "metadata": {},
   "outputs": [
    {
     "ename": "SyntaxError",
     "evalue": "invalid syntax (413682379.py, line 1)",
     "output_type": "error",
     "traceback": [
      "\u001b[1;36m  Cell \u001b[1;32mIn[404], line 1\u001b[1;36m\u001b[0m\n\u001b[1;33m    maximum whisker q3+1.5*iqr\u001b[0m\n\u001b[1;37m            ^\u001b[0m\n\u001b[1;31mSyntaxError\u001b[0m\u001b[1;31m:\u001b[0m invalid syntax\n"
     ]
    }
   ],
   "source": [
    "maximum whisker q3+1.5*iqr"
   ]
  },
  {
   "cell_type": "code",
   "execution_count": 405,
   "id": "95732f19",
   "metadata": {},
   "outputs": [
    {
     "data": {
      "text/plain": [
       "910.0"
      ]
     },
     "execution_count": 405,
     "metadata": {},
     "output_type": "execute_result"
    }
   ],
   "source": [
    "364.0+1.5*364.0"
   ]
  },
  {
   "cell_type": "code",
   "execution_count": 406,
   "id": "5bc2f2cb",
   "metadata": {},
   "outputs": [
    {
     "name": "stderr",
     "output_type": "stream",
     "text": [
      "C:\\Users\\Vishal\\AppData\\Local\\Temp\\ipykernel_16932\\3387006812.py:1: UserWarning: \n",
      "\n",
      "`distplot` is a deprecated function and will be removed in seaborn v0.14.0.\n",
      "\n",
      "Please adapt your code to use either `displot` (a figure-level function with\n",
      "similar flexibility) or `histplot` (an axes-level function for histograms).\n",
      "\n",
      "For a guide to updating your code to use the new functions, please see\n",
      "https://gist.github.com/mwaskom/de44147ed2974457ad6372750bbe5751\n",
      "\n",
      "  sns.distplot(airbnb_df[\"availability_365\"])\n"
     ]
    },
    {
     "data": {
      "text/plain": [
       "Text(0.5, 1.06, 'distribution plot of number of vailibility_365')"
      ]
     },
     "execution_count": 406,
     "metadata": {},
     "output_type": "execute_result"
    },
    {
     "data": {
      "image/png": "[encoded data removed]",
      "text/plain": [
       "<Figure size 640x480 with 1 Axes>"
      ]
     },
     "metadata": {},
     "output_type": "display_data"
    }
   ],
   "source": [
    "sns.distplot(airbnb_df[\"availability_365\"])\n",
    "plt.title(\"distribution plot of number of vailibility_365\",y=1.06)"
   ]
  },
  {
   "cell_type": "code",
   "execution_count": 407,
   "id": "da1d5cbb",
   "metadata": {},
   "outputs": [
    {
     "data": {
      "text/plain": [
       "Text(0.5, 1.06, 'box plot of number of availibility_365')"
      ]
     },
     "execution_count": 407,
     "metadata": {},
     "output_type": "execute_result"
    },
    {
     "data": {
      "image/png": "[encoded data removed]",
      "text/plain": [
       "<Figure size 640x480 with 1 Axes>"
      ]
     },
     "metadata": {},
     "output_type": "display_data"
    }
   ],
   "source": [
    "sns.boxplot(airbnb_df[\"availability_365\"],orient='h')\n",
    "plt.title(\"box plot of number of availibility_365\",y=1.06)"
   ]
  },
  {
   "cell_type": "code",
   "execution_count": 408,
   "id": "58dc11be",
   "metadata": {},
   "outputs": [],
   "source": [
    "airbnb_df.drop(airbnb_df[airbnb_df[\"availability_365\"]>=910].index,inplace=True)"
   ]
  },
  {
   "cell_type": "markdown",
   "id": "f33f7db7",
   "metadata": {},
   "source": [
    "# handeling calculated_host_listings_count outliners"
   ]
  },
  {
   "cell_type": "code",
   "execution_count": 409,
   "id": "89f9420d",
   "metadata": {},
   "outputs": [
    {
     "data": {
      "text/plain": [
       "1.0"
      ]
     },
     "execution_count": 409,
     "metadata": {},
     "output_type": "execute_result"
    }
   ],
   "source": [
    "airbnb_df[\"calculated_host_listings_count\"].quantile(0.25)"
   ]
  },
  {
   "cell_type": "code",
   "execution_count": 410,
   "id": "deb92283",
   "metadata": {},
   "outputs": [
    {
     "data": {
      "text/plain": [
       "7.0"
      ]
     },
     "execution_count": 410,
     "metadata": {},
     "output_type": "execute_result"
    }
   ],
   "source": [
    "airbnb_df[\"calculated_host_listings_count\"].quantile(0.75)"
   ]
  },
  {
   "cell_type": "code",
   "execution_count": 411,
   "id": "651b6b6b",
   "metadata": {},
   "outputs": [
    {
     "data": {
      "text/plain": [
       "26.0"
      ]
     },
     "execution_count": 411,
     "metadata": {},
     "output_type": "execute_result"
    }
   ],
   "source": [
    "airbnb_df[\"calculated_host_listings_count\"].quantile(0.90)"
   ]
  },
  {
   "cell_type": "markdown",
   "id": "e86e0a4a",
   "metadata": {},
   "source": [
    " iqr q3-q1"
   ]
  },
  {
   "cell_type": "code",
   "execution_count": 412,
   "id": "f256949d",
   "metadata": {},
   "outputs": [
    {
     "data": {
      "text/plain": [
       "25.0"
      ]
     },
     "execution_count": 412,
     "metadata": {},
     "output_type": "execute_result"
    }
   ],
   "source": [
    "26.0-1.0"
   ]
  },
  {
   "cell_type": "markdown",
   "id": "6b6ff578",
   "metadata": {},
   "source": [
    "inimum whisker q1-1.5*iqr"
   ]
  },
  {
   "cell_type": "code",
   "execution_count": 413,
   "id": "66e98a71",
   "metadata": {},
   "outputs": [
    {
     "data": {
      "text/plain": [
       "-36.5"
      ]
     },
     "execution_count": 413,
     "metadata": {},
     "output_type": "execute_result"
    }
   ],
   "source": [
    "1.0-1.5*25.0"
   ]
  },
  {
   "cell_type": "markdown",
   "id": "fd611577",
   "metadata": {},
   "source": [
    "maximum whisker q3+1.5*iqr"
   ]
  },
  {
   "cell_type": "code",
   "execution_count": 414,
   "id": "8a8287fa",
   "metadata": {},
   "outputs": [
    {
     "data": {
      "text/plain": [
       "63.5"
      ]
     },
     "execution_count": 414,
     "metadata": {},
     "output_type": "execute_result"
    }
   ],
   "source": [
    "26.0+1.5*25.0"
   ]
  },
  {
   "cell_type": "code",
   "execution_count": 415,
   "id": "944807b3",
   "metadata": {},
   "outputs": [
    {
     "name": "stderr",
     "output_type": "stream",
     "text": [
      "C:\\Users\\Vishal\\AppData\\Local\\Temp\\ipykernel_16932\\2784204612.py:1: UserWarning: \n",
      "\n",
      "`distplot` is a deprecated function and will be removed in seaborn v0.14.0.\n",
      "\n",
      "Please adapt your code to use either `displot` (a figure-level function with\n",
      "similar flexibility) or `histplot` (an axes-level function for histograms).\n",
      "\n",
      "For a guide to updating your code to use the new functions, please see\n",
      "https://gist.github.com/mwaskom/de44147ed2974457ad6372750bbe5751\n",
      "\n",
      "  sns.distplot(airbnb_df[\"calculated_host_listings_count\"])\n"
     ]
    },
    {
     "data": {
      "text/plain": [
       "Text(0.5, 1.06, 'distribution plot of calulated host listing count')"
      ]
     },
     "execution_count": 415,
     "metadata": {},
     "output_type": "execute_result"
    },
    {
     "data": {
      "image/png": "[encoded data removed]",
      "text/plain": [
       "<Figure size 640x480 with 1 Axes>"
      ]
     },
     "metadata": {},
     "output_type": "display_data"
    }
   ],
   "source": [
    "sns.distplot(airbnb_df[\"calculated_host_listings_count\"])\n",
    "plt.title(\"distribution plot of calulated host listing count\",y=1.06)"
   ]
  },
  {
   "cell_type": "code",
   "execution_count": 416,
   "id": "8e9ebd96",
   "metadata": {},
   "outputs": [
    {
     "data": {
      "text/plain": [
       "Text(0.5, 1.06, 'box plot of number of calculated host listing count')"
      ]
     },
     "execution_count": 416,
     "metadata": {},
     "output_type": "execute_result"
    },
    {
     "data": {
      "image/png": "[encoded data removed]",
      "text/plain": [
       "<Figure size 640x480 with 1 Axes>"
      ]
     },
     "metadata": {},
     "output_type": "display_data"
    }
   ],
   "source": [
    "sns.boxplot(airbnb_df[\"calculated_host_listings_count\"],orient='h')\n",
    "plt.title(\"box plot of number of calculated host listing count\",y=1.06)"
   ]
  },
  {
   "cell_type": "code",
   "execution_count": 417,
   "id": "1a5b9b89",
   "metadata": {},
   "outputs": [],
   "source": [
    "airbnb_df.drop(airbnb_df[airbnb_df[\"calculated_host_listings_count\"]>=63.5].index,inplace=True)"
   ]
  },
  {
   "cell_type": "code",
   "execution_count": 418,
   "id": "140d2536",
   "metadata": {},
   "outputs": [
    {
     "data": {
      "text/html": [
       "<div>\n",
       "<style scoped>\n",
       "    .dataframe tbody tr th:only-of-type {\n",
       "        vertical-align: middle;\n",
       "    }\n",
       "\n",
       "    .dataframe tbody tr th {\n",
       "        vertical-align: top;\n",
       "    }\n",
       "\n",
       "    .dataframe thead th {\n",
       "        text-align: right;\n",
       "    }\n",
       "</style>\n",
       "<table border=\"1\" class=\"dataframe\">\n",
       "  <thead>\n",
       "    <tr style=\"text-align: right;\">\n",
       "      <th></th>\n",
       "      <th>latitude</th>\n",
       "      <th>longitude</th>\n",
       "      <th>price</th>\n",
       "      <th>minimum_nights</th>\n",
       "      <th>number_of_reviews</th>\n",
       "      <th>last_review</th>\n",
       "      <th>reviews_per_month</th>\n",
       "      <th>calculated_host_listings_count</th>\n",
       "      <th>availability_365</th>\n",
       "      <th>name_\" A Little corner in the center \"</th>\n",
       "      <th>...</th>\n",
       "      <th>neighbourhood_Vallehermoso</th>\n",
       "      <th>neighbourhood_Valverde</th>\n",
       "      <th>neighbourhood_Ventas</th>\n",
       "      <th>neighbourhood_Vinateros</th>\n",
       "      <th>neighbourhood_Vista Alegre</th>\n",
       "      <th>neighbourhood_Zofío</th>\n",
       "      <th>room_type_Entire home/apt</th>\n",
       "      <th>room_type_Hotel room</th>\n",
       "      <th>room_type_Private room</th>\n",
       "      <th>room_type_Shared room</th>\n",
       "    </tr>\n",
       "  </thead>\n",
       "  <tbody>\n",
       "    <tr>\n",
       "      <th>0</th>\n",
       "      <td>40.45724</td>\n",
       "      <td>-3.67688</td>\n",
       "      <td>60</td>\n",
       "      <td>1</td>\n",
       "      <td>78</td>\n",
       "      <td>2020-09-20</td>\n",
       "      <td>0.58</td>\n",
       "      <td>1</td>\n",
       "      <td>180</td>\n",
       "      <td>0</td>\n",
       "      <td>...</td>\n",
       "      <td>0</td>\n",
       "      <td>0</td>\n",
       "      <td>0</td>\n",
       "      <td>0</td>\n",
       "      <td>0</td>\n",
       "      <td>0</td>\n",
       "      <td>0</td>\n",
       "      <td>0</td>\n",
       "      <td>1</td>\n",
       "      <td>0</td>\n",
       "    </tr>\n",
       "    <tr>\n",
       "      <th>1</th>\n",
       "      <td>40.40381</td>\n",
       "      <td>-3.74130</td>\n",
       "      <td>31</td>\n",
       "      <td>4</td>\n",
       "      <td>33</td>\n",
       "      <td>2018-07-15</td>\n",
       "      <td>0.42</td>\n",
       "      <td>2</td>\n",
       "      <td>364</td>\n",
       "      <td>0</td>\n",
       "      <td>...</td>\n",
       "      <td>0</td>\n",
       "      <td>0</td>\n",
       "      <td>0</td>\n",
       "      <td>0</td>\n",
       "      <td>0</td>\n",
       "      <td>0</td>\n",
       "      <td>0</td>\n",
       "      <td>0</td>\n",
       "      <td>1</td>\n",
       "      <td>0</td>\n",
       "    </tr>\n",
       "    <tr>\n",
       "      <th>2</th>\n",
       "      <td>40.38840</td>\n",
       "      <td>-3.69511</td>\n",
       "      <td>50</td>\n",
       "      <td>15</td>\n",
       "      <td>0</td>\n",
       "      <td>NaN</td>\n",
       "      <td>NaN</td>\n",
       "      <td>7</td>\n",
       "      <td>1</td>\n",
       "      <td>0</td>\n",
       "      <td>...</td>\n",
       "      <td>0</td>\n",
       "      <td>0</td>\n",
       "      <td>0</td>\n",
       "      <td>0</td>\n",
       "      <td>0</td>\n",
       "      <td>0</td>\n",
       "      <td>1</td>\n",
       "      <td>0</td>\n",
       "      <td>0</td>\n",
       "      <td>0</td>\n",
       "    </tr>\n",
       "    <tr>\n",
       "      <th>3</th>\n",
       "      <td>40.42183</td>\n",
       "      <td>-3.70529</td>\n",
       "      <td>92</td>\n",
       "      <td>5</td>\n",
       "      <td>10</td>\n",
       "      <td>2020-03-01</td>\n",
       "      <td>0.13</td>\n",
       "      <td>1</td>\n",
       "      <td>72</td>\n",
       "      <td>0</td>\n",
       "      <td>...</td>\n",
       "      <td>0</td>\n",
       "      <td>0</td>\n",
       "      <td>0</td>\n",
       "      <td>0</td>\n",
       "      <td>0</td>\n",
       "      <td>0</td>\n",
       "      <td>1</td>\n",
       "      <td>0</td>\n",
       "      <td>0</td>\n",
       "      <td>0</td>\n",
       "    </tr>\n",
       "    <tr>\n",
       "      <th>4</th>\n",
       "      <td>40.38975</td>\n",
       "      <td>-3.69018</td>\n",
       "      <td>26</td>\n",
       "      <td>2</td>\n",
       "      <td>149</td>\n",
       "      <td>2020-03-12</td>\n",
       "      <td>1.12</td>\n",
       "      <td>1</td>\n",
       "      <td>365</td>\n",
       "      <td>0</td>\n",
       "      <td>...</td>\n",
       "      <td>0</td>\n",
       "      <td>0</td>\n",
       "      <td>0</td>\n",
       "      <td>0</td>\n",
       "      <td>0</td>\n",
       "      <td>0</td>\n",
       "      <td>0</td>\n",
       "      <td>0</td>\n",
       "      <td>1</td>\n",
       "      <td>0</td>\n",
       "    </tr>\n",
       "    <tr>\n",
       "      <th>...</th>\n",
       "      <td>...</td>\n",
       "      <td>...</td>\n",
       "      <td>...</td>\n",
       "      <td>...</td>\n",
       "      <td>...</td>\n",
       "      <td>...</td>\n",
       "      <td>...</td>\n",
       "      <td>...</td>\n",
       "      <td>...</td>\n",
       "      <td>...</td>\n",
       "      <td>...</td>\n",
       "      <td>...</td>\n",
       "      <td>...</td>\n",
       "      <td>...</td>\n",
       "      <td>...</td>\n",
       "      <td>...</td>\n",
       "      <td>...</td>\n",
       "      <td>...</td>\n",
       "      <td>...</td>\n",
       "      <td>...</td>\n",
       "      <td>...</td>\n",
       "    </tr>\n",
       "    <tr>\n",
       "      <th>19613</th>\n",
       "      <td>40.40756</td>\n",
       "      <td>-3.69937</td>\n",
       "      <td>23</td>\n",
       "      <td>30</td>\n",
       "      <td>0</td>\n",
       "      <td>NaN</td>\n",
       "      <td>NaN</td>\n",
       "      <td>8</td>\n",
       "      <td>349</td>\n",
       "      <td>0</td>\n",
       "      <td>...</td>\n",
       "      <td>0</td>\n",
       "      <td>0</td>\n",
       "      <td>0</td>\n",
       "      <td>0</td>\n",
       "      <td>0</td>\n",
       "      <td>0</td>\n",
       "      <td>0</td>\n",
       "      <td>0</td>\n",
       "      <td>1</td>\n",
       "      <td>0</td>\n",
       "    </tr>\n",
       "    <tr>\n",
       "      <th>19614</th>\n",
       "      <td>40.43706</td>\n",
       "      <td>-3.71364</td>\n",
       "      <td>21</td>\n",
       "      <td>30</td>\n",
       "      <td>0</td>\n",
       "      <td>NaN</td>\n",
       "      <td>NaN</td>\n",
       "      <td>8</td>\n",
       "      <td>350</td>\n",
       "      <td>0</td>\n",
       "      <td>...</td>\n",
       "      <td>0</td>\n",
       "      <td>0</td>\n",
       "      <td>0</td>\n",
       "      <td>0</td>\n",
       "      <td>0</td>\n",
       "      <td>0</td>\n",
       "      <td>0</td>\n",
       "      <td>0</td>\n",
       "      <td>1</td>\n",
       "      <td>0</td>\n",
       "    </tr>\n",
       "    <tr>\n",
       "      <th>19615</th>\n",
       "      <td>40.43857</td>\n",
       "      <td>-3.70715</td>\n",
       "      <td>22</td>\n",
       "      <td>7</td>\n",
       "      <td>0</td>\n",
       "      <td>NaN</td>\n",
       "      <td>NaN</td>\n",
       "      <td>8</td>\n",
       "      <td>364</td>\n",
       "      <td>0</td>\n",
       "      <td>...</td>\n",
       "      <td>0</td>\n",
       "      <td>0</td>\n",
       "      <td>0</td>\n",
       "      <td>0</td>\n",
       "      <td>0</td>\n",
       "      <td>0</td>\n",
       "      <td>0</td>\n",
       "      <td>0</td>\n",
       "      <td>1</td>\n",
       "      <td>0</td>\n",
       "    </tr>\n",
       "    <tr>\n",
       "      <th>19616</th>\n",
       "      <td>40.43027</td>\n",
       "      <td>-3.66759</td>\n",
       "      <td>19</td>\n",
       "      <td>30</td>\n",
       "      <td>0</td>\n",
       "      <td>NaN</td>\n",
       "      <td>NaN</td>\n",
       "      <td>8</td>\n",
       "      <td>349</td>\n",
       "      <td>0</td>\n",
       "      <td>...</td>\n",
       "      <td>0</td>\n",
       "      <td>0</td>\n",
       "      <td>0</td>\n",
       "      <td>0</td>\n",
       "      <td>0</td>\n",
       "      <td>0</td>\n",
       "      <td>0</td>\n",
       "      <td>0</td>\n",
       "      <td>1</td>\n",
       "      <td>0</td>\n",
       "    </tr>\n",
       "    <tr>\n",
       "      <th>19617</th>\n",
       "      <td>40.43484</td>\n",
       "      <td>-3.70667</td>\n",
       "      <td>20</td>\n",
       "      <td>30</td>\n",
       "      <td>0</td>\n",
       "      <td>NaN</td>\n",
       "      <td>NaN</td>\n",
       "      <td>8</td>\n",
       "      <td>349</td>\n",
       "      <td>0</td>\n",
       "      <td>...</td>\n",
       "      <td>0</td>\n",
       "      <td>0</td>\n",
       "      <td>0</td>\n",
       "      <td>0</td>\n",
       "      <td>0</td>\n",
       "      <td>0</td>\n",
       "      <td>0</td>\n",
       "      <td>0</td>\n",
       "      <td>1</td>\n",
       "      <td>0</td>\n",
       "    </tr>\n",
       "  </tbody>\n",
       "</table>\n",
       "<p>17423 rows × 22855 columns</p>\n",
       "</div>"
      ],
      "text/plain": [
       "       latitude  longitude  price  minimum_nights  number_of_reviews  \\\n",
       "0      40.45724   -3.67688     60               1                 78   \n",
       "1      40.40381   -3.74130     31               4                 33   \n",
       "2      40.38840   -3.69511     50              15                  0   \n",
       "3      40.42183   -3.70529     92               5                 10   \n",
       "4      40.38975   -3.69018     26               2                149   \n",
       "...         ...        ...    ...             ...                ...   \n",
       "19613  40.40756   -3.69937     23              30                  0   \n",
       "19614  40.43706   -3.71364     21              30                  0   \n",
       "19615  40.43857   -3.70715     22               7                  0   \n",
       "19616  40.43027   -3.66759     19              30                  0   \n",
       "19617  40.43484   -3.70667     20              30                  0   \n",
       "\n",
       "      last_review  reviews_per_month  calculated_host_listings_count  \\\n",
       "0      2020-09-20               0.58                               1   \n",
       "1      2018-07-15               0.42                               2   \n",
       "2             NaN                NaN                               7   \n",
       "3      2020-03-01               0.13                               1   \n",
       "4      2020-03-12               1.12                               1   \n",
       "...           ...                ...                             ...   \n",
       "19613         NaN                NaN                               8   \n",
       "19614         NaN                NaN                               8   \n",
       "19615         NaN                NaN                               8   \n",
       "19616         NaN                NaN                               8   \n",
       "19617         NaN                NaN                               8   \n",
       "\n",
       "       availability_365  name_\" A Little corner in the center \"  ...  \\\n",
       "0                   180                                       0  ...   \n",
       "1                   364                                       0  ...   \n",
       "2                     1                                       0  ...   \n",
       "3                    72                                       0  ...   \n",
       "4                   365                                       0  ...   \n",
       "...                 ...                                     ...  ...   \n",
       "19613               349                                       0  ...   \n",
       "19614               350                                       0  ...   \n",
       "19615               364                                       0  ...   \n",
       "19616               349                                       0  ...   \n",
       "19617               349                                       0  ...   \n",
       "\n",
       "       neighbourhood_Vallehermoso  neighbourhood_Valverde  \\\n",
       "0                               0                       0   \n",
       "1                               0                       0   \n",
       "2                               0                       0   \n",
       "3                               0                       0   \n",
       "4                               0                       0   \n",
       "...                           ...                     ...   \n",
       "19613                           0                       0   \n",
       "19614                           0                       0   \n",
       "19615                           0                       0   \n",
       "19616                           0                       0   \n",
       "19617                           0                       0   \n",
       "\n",
       "       neighbourhood_Ventas  neighbourhood_Vinateros  \\\n",
       "0                         0                        0   \n",
       "1                         0                        0   \n",
       "2                         0                        0   \n",
       "3                         0                        0   \n",
       "4                         0                        0   \n",
       "...                     ...                      ...   \n",
       "19613                     0                        0   \n",
       "19614                     0                        0   \n",
       "19615                     0                        0   \n",
       "19616                     0                        0   \n",
       "19617                     0                        0   \n",
       "\n",
       "       neighbourhood_Vista Alegre  neighbourhood_Zofío  \\\n",
       "0                               0                    0   \n",
       "1                               0                    0   \n",
       "2                               0                    0   \n",
       "3                               0                    0   \n",
       "4                               0                    0   \n",
       "...                           ...                  ...   \n",
       "19613                           0                    0   \n",
       "19614                           0                    0   \n",
       "19615                           0                    0   \n",
       "19616                           0                    0   \n",
       "19617                           0                    0   \n",
       "\n",
       "       room_type_Entire home/apt  room_type_Hotel room  \\\n",
       "0                              0                     0   \n",
       "1                              0                     0   \n",
       "2                              1                     0   \n",
       "3                              1                     0   \n",
       "4                              0                     0   \n",
       "...                          ...                   ...   \n",
       "19613                          0                     0   \n",
       "19614                          0                     0   \n",
       "19615                          0                     0   \n",
       "19616                          0                     0   \n",
       "19617                          0                     0   \n",
       "\n",
       "       room_type_Private room  room_type_Shared room  \n",
       "0                           1                      0  \n",
       "1                           1                      0  \n",
       "2                           0                      0  \n",
       "3                           0                      0  \n",
       "4                           1                      0  \n",
       "...                       ...                    ...  \n",
       "19613                       1                      0  \n",
       "19614                       1                      0  \n",
       "19615                       1                      0  \n",
       "19616                       1                      0  \n",
       "19617                       1                      0  \n",
       "\n",
       "[17423 rows x 22855 columns]"
      ]
     },
     "execution_count": 418,
     "metadata": {},
     "output_type": "execute_result"
    }
   ],
   "source": [
    "airbnb_df"
   ]
  },
  {
   "cell_type": "markdown",
   "id": "2c2eeec4",
   "metadata": {},
   "source": [
    "# no duplicated values so no nee to use duplicate use one hot encoding"
   ]
  },
  {
   "cell_type": "code",
   "execution_count": null,
   "id": "2be16e22",
   "metadata": {},
   "outputs": [],
   "source": [
    "airbnb_df=pd.get_dummies(airbnb_df,columns=[\"name\",\"host_name\",\"neighbourhood_group\",\"neighbourhood\",\"room_type\"])"
   ]
  },
  {
   "cell_type": "code",
   "execution_count": 420,
   "id": "7c09dc74",
   "metadata": {},
   "outputs": [
    {
     "data": {
      "text/html": [
       "<div>\n",
       "<style scoped>\n",
       "    .dataframe tbody tr th:only-of-type {\n",
       "        vertical-align: middle;\n",
       "    }\n",
       "\n",
       "    .dataframe tbody tr th {\n",
       "        vertical-align: top;\n",
       "    }\n",
       "\n",
       "    .dataframe thead th {\n",
       "        text-align: right;\n",
       "    }\n",
       "</style>\n",
       "<table border=\"1\" class=\"dataframe\">\n",
       "  <thead>\n",
       "    <tr style=\"text-align: right;\">\n",
       "      <th></th>\n",
       "      <th>latitude</th>\n",
       "      <th>longitude</th>\n",
       "      <th>price</th>\n",
       "      <th>minimum_nights</th>\n",
       "      <th>number_of_reviews</th>\n",
       "      <th>last_review</th>\n",
       "      <th>reviews_per_month</th>\n",
       "      <th>calculated_host_listings_count</th>\n",
       "      <th>availability_365</th>\n",
       "      <th>name_\" A Little corner in the center \"</th>\n",
       "      <th>...</th>\n",
       "      <th>neighbourhood_Vallehermoso</th>\n",
       "      <th>neighbourhood_Valverde</th>\n",
       "      <th>neighbourhood_Ventas</th>\n",
       "      <th>neighbourhood_Vinateros</th>\n",
       "      <th>neighbourhood_Vista Alegre</th>\n",
       "      <th>neighbourhood_Zofío</th>\n",
       "      <th>room_type_Entire home/apt</th>\n",
       "      <th>room_type_Hotel room</th>\n",
       "      <th>room_type_Private room</th>\n",
       "      <th>room_type_Shared room</th>\n",
       "    </tr>\n",
       "  </thead>\n",
       "  <tbody>\n",
       "    <tr>\n",
       "      <th>0</th>\n",
       "      <td>40.45724</td>\n",
       "      <td>-3.67688</td>\n",
       "      <td>60</td>\n",
       "      <td>1</td>\n",
       "      <td>78</td>\n",
       "      <td>2020-09-20</td>\n",
       "      <td>0.58</td>\n",
       "      <td>1</td>\n",
       "      <td>180</td>\n",
       "      <td>0</td>\n",
       "      <td>...</td>\n",
       "      <td>0</td>\n",
       "      <td>0</td>\n",
       "      <td>0</td>\n",
       "      <td>0</td>\n",
       "      <td>0</td>\n",
       "      <td>0</td>\n",
       "      <td>0</td>\n",
       "      <td>0</td>\n",
       "      <td>1</td>\n",
       "      <td>0</td>\n",
       "    </tr>\n",
       "    <tr>\n",
       "      <th>1</th>\n",
       "      <td>40.40381</td>\n",
       "      <td>-3.74130</td>\n",
       "      <td>31</td>\n",
       "      <td>4</td>\n",
       "      <td>33</td>\n",
       "      <td>2018-07-15</td>\n",
       "      <td>0.42</td>\n",
       "      <td>2</td>\n",
       "      <td>364</td>\n",
       "      <td>0</td>\n",
       "      <td>...</td>\n",
       "      <td>0</td>\n",
       "      <td>0</td>\n",
       "      <td>0</td>\n",
       "      <td>0</td>\n",
       "      <td>0</td>\n",
       "      <td>0</td>\n",
       "      <td>0</td>\n",
       "      <td>0</td>\n",
       "      <td>1</td>\n",
       "      <td>0</td>\n",
       "    </tr>\n",
       "    <tr>\n",
       "      <th>2</th>\n",
       "      <td>40.38840</td>\n",
       "      <td>-3.69511</td>\n",
       "      <td>50</td>\n",
       "      <td>15</td>\n",
       "      <td>0</td>\n",
       "      <td>NaN</td>\n",
       "      <td>NaN</td>\n",
       "      <td>7</td>\n",
       "      <td>1</td>\n",
       "      <td>0</td>\n",
       "      <td>...</td>\n",
       "      <td>0</td>\n",
       "      <td>0</td>\n",
       "      <td>0</td>\n",
       "      <td>0</td>\n",
       "      <td>0</td>\n",
       "      <td>0</td>\n",
       "      <td>1</td>\n",
       "      <td>0</td>\n",
       "      <td>0</td>\n",
       "      <td>0</td>\n",
       "    </tr>\n",
       "    <tr>\n",
       "      <th>3</th>\n",
       "      <td>40.42183</td>\n",
       "      <td>-3.70529</td>\n",
       "      <td>92</td>\n",
       "      <td>5</td>\n",
       "      <td>10</td>\n",
       "      <td>2020-03-01</td>\n",
       "      <td>0.13</td>\n",
       "      <td>1</td>\n",
       "      <td>72</td>\n",
       "      <td>0</td>\n",
       "      <td>...</td>\n",
       "      <td>0</td>\n",
       "      <td>0</td>\n",
       "      <td>0</td>\n",
       "      <td>0</td>\n",
       "      <td>0</td>\n",
       "      <td>0</td>\n",
       "      <td>1</td>\n",
       "      <td>0</td>\n",
       "      <td>0</td>\n",
       "      <td>0</td>\n",
       "    </tr>\n",
       "    <tr>\n",
       "      <th>4</th>\n",
       "      <td>40.38975</td>\n",
       "      <td>-3.69018</td>\n",
       "      <td>26</td>\n",
       "      <td>2</td>\n",
       "      <td>149</td>\n",
       "      <td>2020-03-12</td>\n",
       "      <td>1.12</td>\n",
       "      <td>1</td>\n",
       "      <td>365</td>\n",
       "      <td>0</td>\n",
       "      <td>...</td>\n",
       "      <td>0</td>\n",
       "      <td>0</td>\n",
       "      <td>0</td>\n",
       "      <td>0</td>\n",
       "      <td>0</td>\n",
       "      <td>0</td>\n",
       "      <td>0</td>\n",
       "      <td>0</td>\n",
       "      <td>1</td>\n",
       "      <td>0</td>\n",
       "    </tr>\n",
       "    <tr>\n",
       "      <th>...</th>\n",
       "      <td>...</td>\n",
       "      <td>...</td>\n",
       "      <td>...</td>\n",
       "      <td>...</td>\n",
       "      <td>...</td>\n",
       "      <td>...</td>\n",
       "      <td>...</td>\n",
       "      <td>...</td>\n",
       "      <td>...</td>\n",
       "      <td>...</td>\n",
       "      <td>...</td>\n",
       "      <td>...</td>\n",
       "      <td>...</td>\n",
       "      <td>...</td>\n",
       "      <td>...</td>\n",
       "      <td>...</td>\n",
       "      <td>...</td>\n",
       "      <td>...</td>\n",
       "      <td>...</td>\n",
       "      <td>...</td>\n",
       "      <td>...</td>\n",
       "    </tr>\n",
       "    <tr>\n",
       "      <th>19613</th>\n",
       "      <td>40.40756</td>\n",
       "      <td>-3.69937</td>\n",
       "      <td>23</td>\n",
       "      <td>30</td>\n",
       "      <td>0</td>\n",
       "      <td>NaN</td>\n",
       "      <td>NaN</td>\n",
       "      <td>8</td>\n",
       "      <td>349</td>\n",
       "      <td>0</td>\n",
       "      <td>...</td>\n",
       "      <td>0</td>\n",
       "      <td>0</td>\n",
       "      <td>0</td>\n",
       "      <td>0</td>\n",
       "      <td>0</td>\n",
       "      <td>0</td>\n",
       "      <td>0</td>\n",
       "      <td>0</td>\n",
       "      <td>1</td>\n",
       "      <td>0</td>\n",
       "    </tr>\n",
       "    <tr>\n",
       "      <th>19614</th>\n",
       "      <td>40.43706</td>\n",
       "      <td>-3.71364</td>\n",
       "      <td>21</td>\n",
       "      <td>30</td>\n",
       "      <td>0</td>\n",
       "      <td>NaN</td>\n",
       "      <td>NaN</td>\n",
       "      <td>8</td>\n",
       "      <td>350</td>\n",
       "      <td>0</td>\n",
       "      <td>...</td>\n",
       "      <td>0</td>\n",
       "      <td>0</td>\n",
       "      <td>0</td>\n",
       "      <td>0</td>\n",
       "      <td>0</td>\n",
       "      <td>0</td>\n",
       "      <td>0</td>\n",
       "      <td>0</td>\n",
       "      <td>1</td>\n",
       "      <td>0</td>\n",
       "    </tr>\n",
       "    <tr>\n",
       "      <th>19615</th>\n",
       "      <td>40.43857</td>\n",
       "      <td>-3.70715</td>\n",
       "      <td>22</td>\n",
       "      <td>7</td>\n",
       "      <td>0</td>\n",
       "      <td>NaN</td>\n",
       "      <td>NaN</td>\n",
       "      <td>8</td>\n",
       "      <td>364</td>\n",
       "      <td>0</td>\n",
       "      <td>...</td>\n",
       "      <td>0</td>\n",
       "      <td>0</td>\n",
       "      <td>0</td>\n",
       "      <td>0</td>\n",
       "      <td>0</td>\n",
       "      <td>0</td>\n",
       "      <td>0</td>\n",
       "      <td>0</td>\n",
       "      <td>1</td>\n",
       "      <td>0</td>\n",
       "    </tr>\n",
       "    <tr>\n",
       "      <th>19616</th>\n",
       "      <td>40.43027</td>\n",
       "      <td>-3.66759</td>\n",
       "      <td>19</td>\n",
       "      <td>30</td>\n",
       "      <td>0</td>\n",
       "      <td>NaN</td>\n",
       "      <td>NaN</td>\n",
       "      <td>8</td>\n",
       "      <td>349</td>\n",
       "      <td>0</td>\n",
       "      <td>...</td>\n",
       "      <td>0</td>\n",
       "      <td>0</td>\n",
       "      <td>0</td>\n",
       "      <td>0</td>\n",
       "      <td>0</td>\n",
       "      <td>0</td>\n",
       "      <td>0</td>\n",
       "      <td>0</td>\n",
       "      <td>1</td>\n",
       "      <td>0</td>\n",
       "    </tr>\n",
       "    <tr>\n",
       "      <th>19617</th>\n",
       "      <td>40.43484</td>\n",
       "      <td>-3.70667</td>\n",
       "      <td>20</td>\n",
       "      <td>30</td>\n",
       "      <td>0</td>\n",
       "      <td>NaN</td>\n",
       "      <td>NaN</td>\n",
       "      <td>8</td>\n",
       "      <td>349</td>\n",
       "      <td>0</td>\n",
       "      <td>...</td>\n",
       "      <td>0</td>\n",
       "      <td>0</td>\n",
       "      <td>0</td>\n",
       "      <td>0</td>\n",
       "      <td>0</td>\n",
       "      <td>0</td>\n",
       "      <td>0</td>\n",
       "      <td>0</td>\n",
       "      <td>1</td>\n",
       "      <td>0</td>\n",
       "    </tr>\n",
       "  </tbody>\n",
       "</table>\n",
       "<p>17423 rows × 22855 columns</p>\n",
       "</div>"
      ],
      "text/plain": [
       "       latitude  longitude  price  minimum_nights  number_of_reviews  \\\n",
       "0      40.45724   -3.67688     60               1                 78   \n",
       "1      40.40381   -3.74130     31               4                 33   \n",
       "2      40.38840   -3.69511     50              15                  0   \n",
       "3      40.42183   -3.70529     92               5                 10   \n",
       "4      40.38975   -3.69018     26               2                149   \n",
       "...         ...        ...    ...             ...                ...   \n",
       "19613  40.40756   -3.69937     23              30                  0   \n",
       "19614  40.43706   -3.71364     21              30                  0   \n",
       "19615  40.43857   -3.70715     22               7                  0   \n",
       "19616  40.43027   -3.66759     19              30                  0   \n",
       "19617  40.43484   -3.70667     20              30                  0   \n",
       "\n",
       "      last_review  reviews_per_month  calculated_host_listings_count  \\\n",
       "0      2020-09-20               0.58                               1   \n",
       "1      2018-07-15               0.42                               2   \n",
       "2             NaN                NaN                               7   \n",
       "3      2020-03-01               0.13                               1   \n",
       "4      2020-03-12               1.12                               1   \n",
       "...           ...                ...                             ...   \n",
       "19613         NaN                NaN                               8   \n",
       "19614         NaN                NaN                               8   \n",
       "19615         NaN                NaN                               8   \n",
       "19616         NaN                NaN                               8   \n",
       "19617         NaN                NaN                               8   \n",
       "\n",
       "       availability_365  name_\" A Little corner in the center \"  ...  \\\n",
       "0                   180                                       0  ...   \n",
       "1                   364                                       0  ...   \n",
       "2                     1                                       0  ...   \n",
       "3                    72                                       0  ...   \n",
       "4                   365                                       0  ...   \n",
       "...                 ...                                     ...  ...   \n",
       "19613               349                                       0  ...   \n",
       "19614               350                                       0  ...   \n",
       "19615               364                                       0  ...   \n",
       "19616               349                                       0  ...   \n",
       "19617               349                                       0  ...   \n",
       "\n",
       "       neighbourhood_Vallehermoso  neighbourhood_Valverde  \\\n",
       "0                               0                       0   \n",
       "1                               0                       0   \n",
       "2                               0                       0   \n",
       "3                               0                       0   \n",
       "4                               0                       0   \n",
       "...                           ...                     ...   \n",
       "19613                           0                       0   \n",
       "19614                           0                       0   \n",
       "19615                           0                       0   \n",
       "19616                           0                       0   \n",
       "19617                           0                       0   \n",
       "\n",
       "       neighbourhood_Ventas  neighbourhood_Vinateros  \\\n",
       "0                         0                        0   \n",
       "1                         0                        0   \n",
       "2                         0                        0   \n",
       "3                         0                        0   \n",
       "4                         0                        0   \n",
       "...                     ...                      ...   \n",
       "19613                     0                        0   \n",
       "19614                     0                        0   \n",
       "19615                     0                        0   \n",
       "19616                     0                        0   \n",
       "19617                     0                        0   \n",
       "\n",
       "       neighbourhood_Vista Alegre  neighbourhood_Zofío  \\\n",
       "0                               0                    0   \n",
       "1                               0                    0   \n",
       "2                               0                    0   \n",
       "3                               0                    0   \n",
       "4                               0                    0   \n",
       "...                           ...                  ...   \n",
       "19613                           0                    0   \n",
       "19614                           0                    0   \n",
       "19615                           0                    0   \n",
       "19616                           0                    0   \n",
       "19617                           0                    0   \n",
       "\n",
       "       room_type_Entire home/apt  room_type_Hotel room  \\\n",
       "0                              0                     0   \n",
       "1                              0                     0   \n",
       "2                              1                     0   \n",
       "3                              1                     0   \n",
       "4                              0                     0   \n",
       "...                          ...                   ...   \n",
       "19613                          0                     0   \n",
       "19614                          0                     0   \n",
       "19615                          0                     0   \n",
       "19616                          0                     0   \n",
       "19617                          0                     0   \n",
       "\n",
       "       room_type_Private room  room_type_Shared room  \n",
       "0                           1                      0  \n",
       "1                           1                      0  \n",
       "2                           0                      0  \n",
       "3                           0                      0  \n",
       "4                           1                      0  \n",
       "...                       ...                    ...  \n",
       "19613                       1                      0  \n",
       "19614                       1                      0  \n",
       "19615                       1                      0  \n",
       "19616                       1                      0  \n",
       "19617                       1                      0  \n",
       "\n",
       "[17423 rows x 22855 columns]"
      ]
     },
     "execution_count": 420,
     "metadata": {},
     "output_type": "execute_result"
    }
   ],
   "source": [
    "airbnb_df"
   ]
  },
  {
   "cell_type": "code",
   "execution_count": null,
   "id": "1d058711",
   "metadata": {},
   "outputs": [],
   "source": [
    "summary"
   ]
  },
  {
   "cell_type": "markdown",
   "id": "a4130361",
   "metadata": {},
   "source": [
    "1-summary\n",
    "2-first did eda analysis\n",
    "3-distributed numerical and categorical colum\n",
    "4-did numrical analysis \n",
    "5-sis categorical colum analysis\n",
    "6-compared numerical and categorical colum\n",
    "7-deleted the colum\n",
    "8-data clearing \n",
    " found missing values and using fillna filled with mean value\n",
    "9-handled the outliers dropped extreme value\n",
    "10-used the method one hot encoding to chnge the unique value in numbers\n"
   ]
  },
  {
   "cell_type": "code",
   "execution_count": null,
   "id": "e4b43136",
   "metadata": {},
   "outputs": [],
   "source": []
  },
  {
   "cell_type": "code",
   "execution_count": null,
   "id": "c8d9fdb3",
   "metadata": {},
   "outputs": [],
   "source": []
  },
  {
   "cell_type": "code",
   "execution_count": null,
   "id": "dd68daf7",
   "metadata": {},
   "outputs": [],
   "source": []
  },
  {
   "cell_type": "code",
   "execution_count": null,
   "id": "5e3b99bb",
   "metadata": {},
   "outputs": [],
   "source": []
  },
  {
   "cell_type": "code",
   "execution_count": null,
   "id": "a3e6af74",
   "metadata": {},
   "outputs": [],
   "source": []
  },
  {
   "cell_type": "code",
   "execution_count": null,
   "id": "23925d8c",
   "metadata": {},
   "outputs": [],
   "source": []
  },
  {
   "cell_type": "code",
   "execution_count": null,
   "id": "045a2ff2",
   "metadata": {},
   "outputs": [],
   "source": []
  },
  {
   "cell_type": "code",
   "execution_count": null,
   "id": "02b9f7ca",
   "metadata": {},
   "outputs": [],
   "source": []
  },
  {
   "cell_type": "code",
   "execution_count": null,
   "id": "7caf1e7a",
   "metadata": {},
   "outputs": [],
   "source": []
  },
  {
   "cell_type": "code",
   "execution_count": null,
   "id": "a2f09eda",
   "metadata": {},
   "outputs": [],
   "source": []
  },
  {
   "cell_type": "code",
   "execution_count": null,
   "id": "1575395e",
   "metadata": {},
   "outputs": [],
   "source": []
  },
  {
   "cell_type": "code",
   "execution_count": null,
   "id": "5461fc5b",
   "metadata": {},
   "outputs": [],
   "source": []
  },
  {
   "cell_type": "code",
   "execution_count": null,
   "id": "484cbb87",
   "metadata": {},
   "outputs": [],
   "source": []
  }
 ],
 "metadata": {
  "kernelspec": {
   "display_name": "Python 3 (ipykernel)",
   "language": "python",
   "name": "python3"
  },
  "language_info": {
   "codemirror_mode": {
    "name": "ipython",
    "version": 3
   },
   "file_extension": ".py",
   "mimetype": "text/x-python",
   "name": "python",
   "nbconvert_exporter": "python",
   "pygments_lexer": "ipython3",
   "version": "3.10.9"
  }
 },
 "nbformat": 4,
 "nbformat_minor": 5
}
